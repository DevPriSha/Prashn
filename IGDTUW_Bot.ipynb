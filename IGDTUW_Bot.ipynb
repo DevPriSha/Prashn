{
  "cells": [
    {
      "cell_type": "markdown",
      "metadata": {
        "id": "tDv_PGq29RQN"
      },
      "source": [
        "## Importing modules and libraries"
      ]
    },
    {
      "cell_type": "code",
      "execution_count": 2,
      "metadata": {
        "id": "AORbPqqjK1XN"
      },
      "outputs": [],
      "source": [
        "import pandas as pd \n",
        "import numpy as np \n",
        "import matplotlib.pyplot as plt\n",
        "from pathlib import Path\n",
        "import string\n",
        "import re\n",
        "import joblib\n",
        "import json\n",
        "from collections import Counter\n",
        "import nltk\n",
        "from nltk.corpus import stopwords\n",
        "from nltk.stem import WordNetLemmatizer\n",
        "\n",
        "from tensorflow.keras.preprocessing.text import Tokenizer\n",
        "from tensorflow.keras.preprocessing.sequence import pad_sequences\n",
        "from tensorflow.keras.utils import plot_model\n",
        "from tensorflow.keras.models import Sequential\n",
        "from tensorflow.keras.layers import Embedding, Dense, Flatten\n",
        "from tensorflow.keras.layers import Conv1D\n",
        "from tensorflow.keras.layers import MaxPooling1D\n",
        "from tensorflow.keras.callbacks import ModelCheckpoint, EarlyStopping, ReduceLROnPlateau"
      ]
    },
    {
      "cell_type": "markdown",
      "metadata": {
        "id": "Ij2LBG4a9ZnL"
      },
      "source": [
        "## Loading the dataset (intents.json)"
      ]
    },
    {
      "cell_type": "code",
      "execution_count": 3,
      "metadata": {
        "id": "oBGNTR19K1XR"
      },
      "outputs": [],
      "source": [
        "def load_doc(jsonFile):\n",
        "    with open(jsonFile) as file:\n",
        "        Json_data = json.loads(file.read())\n",
        "    return Json_data"
      ]
    },
    {
      "cell_type": "code",
      "execution_count": 4,
      "metadata": {
        "id": "iRmpfbagK1XR"
      },
      "outputs": [],
      "source": [
        "data = load_doc('intents (2).json')"
      ]
    },
    {
      "cell_type": "markdown",
      "metadata": {
        "id": "YrJo9wop9QL8"
      },
      "source": [
        "## Extracting questions from dataset into a pandas dataframe"
      ]
    },
    {
      "cell_type": "code",
      "execution_count": 5,
      "metadata": {
        "id": "hKVOjUzbK1XS"
      },
      "outputs": [],
      "source": [
        "def frame_data(feat_1,feat_2,is_pattern):\n",
        "    is_pattern = is_pattern\n",
        "    df = pd.DataFrame(columns=[feat_1,feat_2])\n",
        "    for intent in data['intents']:\n",
        "        if is_pattern:\n",
        "            for pattern in intent['patterns']:\n",
        "                w = pattern\n",
        "                df_to_append = pd.Series([w,intent['tag']], index = df.columns)\n",
        "                df = df.append(df_to_append,ignore_index=True)\n",
        "        else:\n",
        "            for response in intent['responses']:\n",
        "                w = response\n",
        "                df_to_append = pd.Series([w,intent['tag']], index = df.columns)\n",
        "                df = df.append(df_to_append,ignore_index=True)\n",
        "    return df"
      ]
    },
    {
      "cell_type": "code",
      "execution_count": 6,
      "metadata": {
        "colab": {
          "base_uri": "https://localhost:8080/",
          "height": 221
        },
        "id": "5BjKREicK1XT",
        "outputId": "733e0f2b-9dfc-4a96-88f8-3f3ff4523916"
      },
      "outputs": [
        {
          "name": "stderr",
          "output_type": "stream",
          "text": [
            "/var/folders/kz/xlm62_gd27156y49_11q1jx40000gn/T/ipykernel_83871/2056896889.py:9: FutureWarning: The frame.append method is deprecated and will be removed from pandas in a future version. Use pandas.concat instead.\n",
            "  df = df.append(df_to_append,ignore_index=True)\n",
            "/var/folders/kz/xlm62_gd27156y49_11q1jx40000gn/T/ipykernel_83871/2056896889.py:9: FutureWarning: The frame.append method is deprecated and will be removed from pandas in a future version. Use pandas.concat instead.\n",
            "  df = df.append(df_to_append,ignore_index=True)\n",
            "/var/folders/kz/xlm62_gd27156y49_11q1jx40000gn/T/ipykernel_83871/2056896889.py:9: FutureWarning: The frame.append method is deprecated and will be removed from pandas in a future version. Use pandas.concat instead.\n",
            "  df = df.append(df_to_append,ignore_index=True)\n",
            "/var/folders/kz/xlm62_gd27156y49_11q1jx40000gn/T/ipykernel_83871/2056896889.py:9: FutureWarning: The frame.append method is deprecated and will be removed from pandas in a future version. Use pandas.concat instead.\n",
            "  df = df.append(df_to_append,ignore_index=True)\n",
            "/var/folders/kz/xlm62_gd27156y49_11q1jx40000gn/T/ipykernel_83871/2056896889.py:9: FutureWarning: The frame.append method is deprecated and will be removed from pandas in a future version. Use pandas.concat instead.\n",
            "  df = df.append(df_to_append,ignore_index=True)\n",
            "/var/folders/kz/xlm62_gd27156y49_11q1jx40000gn/T/ipykernel_83871/2056896889.py:9: FutureWarning: The frame.append method is deprecated and will be removed from pandas in a future version. Use pandas.concat instead.\n",
            "  df = df.append(df_to_append,ignore_index=True)\n",
            "/var/folders/kz/xlm62_gd27156y49_11q1jx40000gn/T/ipykernel_83871/2056896889.py:9: FutureWarning: The frame.append method is deprecated and will be removed from pandas in a future version. Use pandas.concat instead.\n",
            "  df = df.append(df_to_append,ignore_index=True)\n",
            "/var/folders/kz/xlm62_gd27156y49_11q1jx40000gn/T/ipykernel_83871/2056896889.py:9: FutureWarning: The frame.append method is deprecated and will be removed from pandas in a future version. Use pandas.concat instead.\n",
            "  df = df.append(df_to_append,ignore_index=True)\n",
            "/var/folders/kz/xlm62_gd27156y49_11q1jx40000gn/T/ipykernel_83871/2056896889.py:9: FutureWarning: The frame.append method is deprecated and will be removed from pandas in a future version. Use pandas.concat instead.\n",
            "  df = df.append(df_to_append,ignore_index=True)\n",
            "/var/folders/kz/xlm62_gd27156y49_11q1jx40000gn/T/ipykernel_83871/2056896889.py:9: FutureWarning: The frame.append method is deprecated and will be removed from pandas in a future version. Use pandas.concat instead.\n",
            "  df = df.append(df_to_append,ignore_index=True)\n",
            "/var/folders/kz/xlm62_gd27156y49_11q1jx40000gn/T/ipykernel_83871/2056896889.py:9: FutureWarning: The frame.append method is deprecated and will be removed from pandas in a future version. Use pandas.concat instead.\n",
            "  df = df.append(df_to_append,ignore_index=True)\n",
            "/var/folders/kz/xlm62_gd27156y49_11q1jx40000gn/T/ipykernel_83871/2056896889.py:9: FutureWarning: The frame.append method is deprecated and will be removed from pandas in a future version. Use pandas.concat instead.\n",
            "  df = df.append(df_to_append,ignore_index=True)\n",
            "/var/folders/kz/xlm62_gd27156y49_11q1jx40000gn/T/ipykernel_83871/2056896889.py:9: FutureWarning: The frame.append method is deprecated and will be removed from pandas in a future version. Use pandas.concat instead.\n",
            "  df = df.append(df_to_append,ignore_index=True)\n",
            "/var/folders/kz/xlm62_gd27156y49_11q1jx40000gn/T/ipykernel_83871/2056896889.py:9: FutureWarning: The frame.append method is deprecated and will be removed from pandas in a future version. Use pandas.concat instead.\n",
            "  df = df.append(df_to_append,ignore_index=True)\n",
            "/var/folders/kz/xlm62_gd27156y49_11q1jx40000gn/T/ipykernel_83871/2056896889.py:9: FutureWarning: The frame.append method is deprecated and will be removed from pandas in a future version. Use pandas.concat instead.\n",
            "  df = df.append(df_to_append,ignore_index=True)\n",
            "/var/folders/kz/xlm62_gd27156y49_11q1jx40000gn/T/ipykernel_83871/2056896889.py:9: FutureWarning: The frame.append method is deprecated and will be removed from pandas in a future version. Use pandas.concat instead.\n",
            "  df = df.append(df_to_append,ignore_index=True)\n",
            "/var/folders/kz/xlm62_gd27156y49_11q1jx40000gn/T/ipykernel_83871/2056896889.py:9: FutureWarning: The frame.append method is deprecated and will be removed from pandas in a future version. Use pandas.concat instead.\n",
            "  df = df.append(df_to_append,ignore_index=True)\n",
            "/var/folders/kz/xlm62_gd27156y49_11q1jx40000gn/T/ipykernel_83871/2056896889.py:9: FutureWarning: The frame.append method is deprecated and will be removed from pandas in a future version. Use pandas.concat instead.\n",
            "  df = df.append(df_to_append,ignore_index=True)\n",
            "/var/folders/kz/xlm62_gd27156y49_11q1jx40000gn/T/ipykernel_83871/2056896889.py:9: FutureWarning: The frame.append method is deprecated and will be removed from pandas in a future version. Use pandas.concat instead.\n",
            "  df = df.append(df_to_append,ignore_index=True)\n",
            "/var/folders/kz/xlm62_gd27156y49_11q1jx40000gn/T/ipykernel_83871/2056896889.py:9: FutureWarning: The frame.append method is deprecated and will be removed from pandas in a future version. Use pandas.concat instead.\n",
            "  df = df.append(df_to_append,ignore_index=True)\n",
            "/var/folders/kz/xlm62_gd27156y49_11q1jx40000gn/T/ipykernel_83871/2056896889.py:9: FutureWarning: The frame.append method is deprecated and will be removed from pandas in a future version. Use pandas.concat instead.\n",
            "  df = df.append(df_to_append,ignore_index=True)\n",
            "/var/folders/kz/xlm62_gd27156y49_11q1jx40000gn/T/ipykernel_83871/2056896889.py:9: FutureWarning: The frame.append method is deprecated and will be removed from pandas in a future version. Use pandas.concat instead.\n",
            "  df = df.append(df_to_append,ignore_index=True)\n",
            "/var/folders/kz/xlm62_gd27156y49_11q1jx40000gn/T/ipykernel_83871/2056896889.py:9: FutureWarning: The frame.append method is deprecated and will be removed from pandas in a future version. Use pandas.concat instead.\n",
            "  df = df.append(df_to_append,ignore_index=True)\n",
            "/var/folders/kz/xlm62_gd27156y49_11q1jx40000gn/T/ipykernel_83871/2056896889.py:9: FutureWarning: The frame.append method is deprecated and will be removed from pandas in a future version. Use pandas.concat instead.\n",
            "  df = df.append(df_to_append,ignore_index=True)\n",
            "/var/folders/kz/xlm62_gd27156y49_11q1jx40000gn/T/ipykernel_83871/2056896889.py:9: FutureWarning: The frame.append method is deprecated and will be removed from pandas in a future version. Use pandas.concat instead.\n",
            "  df = df.append(df_to_append,ignore_index=True)\n",
            "/var/folders/kz/xlm62_gd27156y49_11q1jx40000gn/T/ipykernel_83871/2056896889.py:9: FutureWarning: The frame.append method is deprecated and will be removed from pandas in a future version. Use pandas.concat instead.\n",
            "  df = df.append(df_to_append,ignore_index=True)\n",
            "/var/folders/kz/xlm62_gd27156y49_11q1jx40000gn/T/ipykernel_83871/2056896889.py:9: FutureWarning: The frame.append method is deprecated and will be removed from pandas in a future version. Use pandas.concat instead.\n",
            "  df = df.append(df_to_append,ignore_index=True)\n",
            "/var/folders/kz/xlm62_gd27156y49_11q1jx40000gn/T/ipykernel_83871/2056896889.py:9: FutureWarning: The frame.append method is deprecated and will be removed from pandas in a future version. Use pandas.concat instead.\n",
            "  df = df.append(df_to_append,ignore_index=True)\n",
            "/var/folders/kz/xlm62_gd27156y49_11q1jx40000gn/T/ipykernel_83871/2056896889.py:9: FutureWarning: The frame.append method is deprecated and will be removed from pandas in a future version. Use pandas.concat instead.\n",
            "  df = df.append(df_to_append,ignore_index=True)\n",
            "/var/folders/kz/xlm62_gd27156y49_11q1jx40000gn/T/ipykernel_83871/2056896889.py:9: FutureWarning: The frame.append method is deprecated and will be removed from pandas in a future version. Use pandas.concat instead.\n",
            "  df = df.append(df_to_append,ignore_index=True)\n",
            "/var/folders/kz/xlm62_gd27156y49_11q1jx40000gn/T/ipykernel_83871/2056896889.py:9: FutureWarning: The frame.append method is deprecated and will be removed from pandas in a future version. Use pandas.concat instead.\n",
            "  df = df.append(df_to_append,ignore_index=True)\n",
            "/var/folders/kz/xlm62_gd27156y49_11q1jx40000gn/T/ipykernel_83871/2056896889.py:9: FutureWarning: The frame.append method is deprecated and will be removed from pandas in a future version. Use pandas.concat instead.\n",
            "  df = df.append(df_to_append,ignore_index=True)\n",
            "/var/folders/kz/xlm62_gd27156y49_11q1jx40000gn/T/ipykernel_83871/2056896889.py:9: FutureWarning: The frame.append method is deprecated and will be removed from pandas in a future version. Use pandas.concat instead.\n",
            "  df = df.append(df_to_append,ignore_index=True)\n",
            "/var/folders/kz/xlm62_gd27156y49_11q1jx40000gn/T/ipykernel_83871/2056896889.py:9: FutureWarning: The frame.append method is deprecated and will be removed from pandas in a future version. Use pandas.concat instead.\n",
            "  df = df.append(df_to_append,ignore_index=True)\n",
            "/var/folders/kz/xlm62_gd27156y49_11q1jx40000gn/T/ipykernel_83871/2056896889.py:9: FutureWarning: The frame.append method is deprecated and will be removed from pandas in a future version. Use pandas.concat instead.\n",
            "  df = df.append(df_to_append,ignore_index=True)\n",
            "/var/folders/kz/xlm62_gd27156y49_11q1jx40000gn/T/ipykernel_83871/2056896889.py:9: FutureWarning: The frame.append method is deprecated and will be removed from pandas in a future version. Use pandas.concat instead.\n",
            "  df = df.append(df_to_append,ignore_index=True)\n",
            "/var/folders/kz/xlm62_gd27156y49_11q1jx40000gn/T/ipykernel_83871/2056896889.py:9: FutureWarning: The frame.append method is deprecated and will be removed from pandas in a future version. Use pandas.concat instead.\n",
            "  df = df.append(df_to_append,ignore_index=True)\n",
            "/var/folders/kz/xlm62_gd27156y49_11q1jx40000gn/T/ipykernel_83871/2056896889.py:9: FutureWarning: The frame.append method is deprecated and will be removed from pandas in a future version. Use pandas.concat instead.\n",
            "  df = df.append(df_to_append,ignore_index=True)\n",
            "/var/folders/kz/xlm62_gd27156y49_11q1jx40000gn/T/ipykernel_83871/2056896889.py:9: FutureWarning: The frame.append method is deprecated and will be removed from pandas in a future version. Use pandas.concat instead.\n",
            "  df = df.append(df_to_append,ignore_index=True)\n",
            "/var/folders/kz/xlm62_gd27156y49_11q1jx40000gn/T/ipykernel_83871/2056896889.py:9: FutureWarning: The frame.append method is deprecated and will be removed from pandas in a future version. Use pandas.concat instead.\n",
            "  df = df.append(df_to_append,ignore_index=True)\n",
            "/var/folders/kz/xlm62_gd27156y49_11q1jx40000gn/T/ipykernel_83871/2056896889.py:9: FutureWarning: The frame.append method is deprecated and will be removed from pandas in a future version. Use pandas.concat instead.\n",
            "  df = df.append(df_to_append,ignore_index=True)\n",
            "/var/folders/kz/xlm62_gd27156y49_11q1jx40000gn/T/ipykernel_83871/2056896889.py:9: FutureWarning: The frame.append method is deprecated and will be removed from pandas in a future version. Use pandas.concat instead.\n",
            "  df = df.append(df_to_append,ignore_index=True)\n",
            "/var/folders/kz/xlm62_gd27156y49_11q1jx40000gn/T/ipykernel_83871/2056896889.py:9: FutureWarning: The frame.append method is deprecated and will be removed from pandas in a future version. Use pandas.concat instead.\n",
            "  df = df.append(df_to_append,ignore_index=True)\n",
            "/var/folders/kz/xlm62_gd27156y49_11q1jx40000gn/T/ipykernel_83871/2056896889.py:9: FutureWarning: The frame.append method is deprecated and will be removed from pandas in a future version. Use pandas.concat instead.\n",
            "  df = df.append(df_to_append,ignore_index=True)\n",
            "/var/folders/kz/xlm62_gd27156y49_11q1jx40000gn/T/ipykernel_83871/2056896889.py:9: FutureWarning: The frame.append method is deprecated and will be removed from pandas in a future version. Use pandas.concat instead.\n",
            "  df = df.append(df_to_append,ignore_index=True)\n",
            "/var/folders/kz/xlm62_gd27156y49_11q1jx40000gn/T/ipykernel_83871/2056896889.py:9: FutureWarning: The frame.append method is deprecated and will be removed from pandas in a future version. Use pandas.concat instead.\n",
            "  df = df.append(df_to_append,ignore_index=True)\n",
            "/var/folders/kz/xlm62_gd27156y49_11q1jx40000gn/T/ipykernel_83871/2056896889.py:9: FutureWarning: The frame.append method is deprecated and will be removed from pandas in a future version. Use pandas.concat instead.\n",
            "  df = df.append(df_to_append,ignore_index=True)\n",
            "/var/folders/kz/xlm62_gd27156y49_11q1jx40000gn/T/ipykernel_83871/2056896889.py:9: FutureWarning: The frame.append method is deprecated and will be removed from pandas in a future version. Use pandas.concat instead.\n",
            "  df = df.append(df_to_append,ignore_index=True)\n",
            "/var/folders/kz/xlm62_gd27156y49_11q1jx40000gn/T/ipykernel_83871/2056896889.py:9: FutureWarning: The frame.append method is deprecated and will be removed from pandas in a future version. Use pandas.concat instead.\n",
            "  df = df.append(df_to_append,ignore_index=True)\n",
            "/var/folders/kz/xlm62_gd27156y49_11q1jx40000gn/T/ipykernel_83871/2056896889.py:9: FutureWarning: The frame.append method is deprecated and will be removed from pandas in a future version. Use pandas.concat instead.\n",
            "  df = df.append(df_to_append,ignore_index=True)\n",
            "/var/folders/kz/xlm62_gd27156y49_11q1jx40000gn/T/ipykernel_83871/2056896889.py:9: FutureWarning: The frame.append method is deprecated and will be removed from pandas in a future version. Use pandas.concat instead.\n",
            "  df = df.append(df_to_append,ignore_index=True)\n",
            "/var/folders/kz/xlm62_gd27156y49_11q1jx40000gn/T/ipykernel_83871/2056896889.py:9: FutureWarning: The frame.append method is deprecated and will be removed from pandas in a future version. Use pandas.concat instead.\n",
            "  df = df.append(df_to_append,ignore_index=True)\n",
            "/var/folders/kz/xlm62_gd27156y49_11q1jx40000gn/T/ipykernel_83871/2056896889.py:9: FutureWarning: The frame.append method is deprecated and will be removed from pandas in a future version. Use pandas.concat instead.\n",
            "  df = df.append(df_to_append,ignore_index=True)\n",
            "/var/folders/kz/xlm62_gd27156y49_11q1jx40000gn/T/ipykernel_83871/2056896889.py:9: FutureWarning: The frame.append method is deprecated and will be removed from pandas in a future version. Use pandas.concat instead.\n",
            "  df = df.append(df_to_append,ignore_index=True)\n",
            "/var/folders/kz/xlm62_gd27156y49_11q1jx40000gn/T/ipykernel_83871/2056896889.py:9: FutureWarning: The frame.append method is deprecated and will be removed from pandas in a future version. Use pandas.concat instead.\n",
            "  df = df.append(df_to_append,ignore_index=True)\n",
            "/var/folders/kz/xlm62_gd27156y49_11q1jx40000gn/T/ipykernel_83871/2056896889.py:9: FutureWarning: The frame.append method is deprecated and will be removed from pandas in a future version. Use pandas.concat instead.\n",
            "  df = df.append(df_to_append,ignore_index=True)\n",
            "/var/folders/kz/xlm62_gd27156y49_11q1jx40000gn/T/ipykernel_83871/2056896889.py:9: FutureWarning: The frame.append method is deprecated and will be removed from pandas in a future version. Use pandas.concat instead.\n",
            "  df = df.append(df_to_append,ignore_index=True)\n",
            "/var/folders/kz/xlm62_gd27156y49_11q1jx40000gn/T/ipykernel_83871/2056896889.py:9: FutureWarning: The frame.append method is deprecated and will be removed from pandas in a future version. Use pandas.concat instead.\n",
            "  df = df.append(df_to_append,ignore_index=True)\n",
            "/var/folders/kz/xlm62_gd27156y49_11q1jx40000gn/T/ipykernel_83871/2056896889.py:9: FutureWarning: The frame.append method is deprecated and will be removed from pandas in a future version. Use pandas.concat instead.\n",
            "  df = df.append(df_to_append,ignore_index=True)\n",
            "/var/folders/kz/xlm62_gd27156y49_11q1jx40000gn/T/ipykernel_83871/2056896889.py:9: FutureWarning: The frame.append method is deprecated and will be removed from pandas in a future version. Use pandas.concat instead.\n",
            "  df = df.append(df_to_append,ignore_index=True)\n",
            "/var/folders/kz/xlm62_gd27156y49_11q1jx40000gn/T/ipykernel_83871/2056896889.py:9: FutureWarning: The frame.append method is deprecated and will be removed from pandas in a future version. Use pandas.concat instead.\n",
            "  df = df.append(df_to_append,ignore_index=True)\n",
            "/var/folders/kz/xlm62_gd27156y49_11q1jx40000gn/T/ipykernel_83871/2056896889.py:9: FutureWarning: The frame.append method is deprecated and will be removed from pandas in a future version. Use pandas.concat instead.\n",
            "  df = df.append(df_to_append,ignore_index=True)\n",
            "/var/folders/kz/xlm62_gd27156y49_11q1jx40000gn/T/ipykernel_83871/2056896889.py:9: FutureWarning: The frame.append method is deprecated and will be removed from pandas in a future version. Use pandas.concat instead.\n",
            "  df = df.append(df_to_append,ignore_index=True)\n",
            "/var/folders/kz/xlm62_gd27156y49_11q1jx40000gn/T/ipykernel_83871/2056896889.py:9: FutureWarning: The frame.append method is deprecated and will be removed from pandas in a future version. Use pandas.concat instead.\n",
            "  df = df.append(df_to_append,ignore_index=True)\n",
            "/var/folders/kz/xlm62_gd27156y49_11q1jx40000gn/T/ipykernel_83871/2056896889.py:9: FutureWarning: The frame.append method is deprecated and will be removed from pandas in a future version. Use pandas.concat instead.\n",
            "  df = df.append(df_to_append,ignore_index=True)\n",
            "/var/folders/kz/xlm62_gd27156y49_11q1jx40000gn/T/ipykernel_83871/2056896889.py:9: FutureWarning: The frame.append method is deprecated and will be removed from pandas in a future version. Use pandas.concat instead.\n",
            "  df = df.append(df_to_append,ignore_index=True)\n",
            "/var/folders/kz/xlm62_gd27156y49_11q1jx40000gn/T/ipykernel_83871/2056896889.py:9: FutureWarning: The frame.append method is deprecated and will be removed from pandas in a future version. Use pandas.concat instead.\n",
            "  df = df.append(df_to_append,ignore_index=True)\n",
            "/var/folders/kz/xlm62_gd27156y49_11q1jx40000gn/T/ipykernel_83871/2056896889.py:9: FutureWarning: The frame.append method is deprecated and will be removed from pandas in a future version. Use pandas.concat instead.\n",
            "  df = df.append(df_to_append,ignore_index=True)\n",
            "/var/folders/kz/xlm62_gd27156y49_11q1jx40000gn/T/ipykernel_83871/2056896889.py:9: FutureWarning: The frame.append method is deprecated and will be removed from pandas in a future version. Use pandas.concat instead.\n",
            "  df = df.append(df_to_append,ignore_index=True)\n",
            "/var/folders/kz/xlm62_gd27156y49_11q1jx40000gn/T/ipykernel_83871/2056896889.py:9: FutureWarning: The frame.append method is deprecated and will be removed from pandas in a future version. Use pandas.concat instead.\n",
            "  df = df.append(df_to_append,ignore_index=True)\n",
            "/var/folders/kz/xlm62_gd27156y49_11q1jx40000gn/T/ipykernel_83871/2056896889.py:9: FutureWarning: The frame.append method is deprecated and will be removed from pandas in a future version. Use pandas.concat instead.\n",
            "  df = df.append(df_to_append,ignore_index=True)\n",
            "/var/folders/kz/xlm62_gd27156y49_11q1jx40000gn/T/ipykernel_83871/2056896889.py:9: FutureWarning: The frame.append method is deprecated and will be removed from pandas in a future version. Use pandas.concat instead.\n",
            "  df = df.append(df_to_append,ignore_index=True)\n",
            "/var/folders/kz/xlm62_gd27156y49_11q1jx40000gn/T/ipykernel_83871/2056896889.py:9: FutureWarning: The frame.append method is deprecated and will be removed from pandas in a future version. Use pandas.concat instead.\n",
            "  df = df.append(df_to_append,ignore_index=True)\n",
            "/var/folders/kz/xlm62_gd27156y49_11q1jx40000gn/T/ipykernel_83871/2056896889.py:9: FutureWarning: The frame.append method is deprecated and will be removed from pandas in a future version. Use pandas.concat instead.\n",
            "  df = df.append(df_to_append,ignore_index=True)\n",
            "/var/folders/kz/xlm62_gd27156y49_11q1jx40000gn/T/ipykernel_83871/2056896889.py:9: FutureWarning: The frame.append method is deprecated and will be removed from pandas in a future version. Use pandas.concat instead.\n",
            "  df = df.append(df_to_append,ignore_index=True)\n",
            "/var/folders/kz/xlm62_gd27156y49_11q1jx40000gn/T/ipykernel_83871/2056896889.py:9: FutureWarning: The frame.append method is deprecated and will be removed from pandas in a future version. Use pandas.concat instead.\n",
            "  df = df.append(df_to_append,ignore_index=True)\n",
            "/var/folders/kz/xlm62_gd27156y49_11q1jx40000gn/T/ipykernel_83871/2056896889.py:9: FutureWarning: The frame.append method is deprecated and will be removed from pandas in a future version. Use pandas.concat instead.\n",
            "  df = df.append(df_to_append,ignore_index=True)\n",
            "/var/folders/kz/xlm62_gd27156y49_11q1jx40000gn/T/ipykernel_83871/2056896889.py:9: FutureWarning: The frame.append method is deprecated and will be removed from pandas in a future version. Use pandas.concat instead.\n",
            "  df = df.append(df_to_append,ignore_index=True)\n",
            "/var/folders/kz/xlm62_gd27156y49_11q1jx40000gn/T/ipykernel_83871/2056896889.py:9: FutureWarning: The frame.append method is deprecated and will be removed from pandas in a future version. Use pandas.concat instead.\n",
            "  df = df.append(df_to_append,ignore_index=True)\n",
            "/var/folders/kz/xlm62_gd27156y49_11q1jx40000gn/T/ipykernel_83871/2056896889.py:9: FutureWarning: The frame.append method is deprecated and will be removed from pandas in a future version. Use pandas.concat instead.\n",
            "  df = df.append(df_to_append,ignore_index=True)\n",
            "/var/folders/kz/xlm62_gd27156y49_11q1jx40000gn/T/ipykernel_83871/2056896889.py:9: FutureWarning: The frame.append method is deprecated and will be removed from pandas in a future version. Use pandas.concat instead.\n",
            "  df = df.append(df_to_append,ignore_index=True)\n",
            "/var/folders/kz/xlm62_gd27156y49_11q1jx40000gn/T/ipykernel_83871/2056896889.py:9: FutureWarning: The frame.append method is deprecated and will be removed from pandas in a future version. Use pandas.concat instead.\n",
            "  df = df.append(df_to_append,ignore_index=True)\n",
            "/var/folders/kz/xlm62_gd27156y49_11q1jx40000gn/T/ipykernel_83871/2056896889.py:9: FutureWarning: The frame.append method is deprecated and will be removed from pandas in a future version. Use pandas.concat instead.\n",
            "  df = df.append(df_to_append,ignore_index=True)\n",
            "/var/folders/kz/xlm62_gd27156y49_11q1jx40000gn/T/ipykernel_83871/2056896889.py:9: FutureWarning: The frame.append method is deprecated and will be removed from pandas in a future version. Use pandas.concat instead.\n",
            "  df = df.append(df_to_append,ignore_index=True)\n",
            "/var/folders/kz/xlm62_gd27156y49_11q1jx40000gn/T/ipykernel_83871/2056896889.py:9: FutureWarning: The frame.append method is deprecated and will be removed from pandas in a future version. Use pandas.concat instead.\n",
            "  df = df.append(df_to_append,ignore_index=True)\n",
            "/var/folders/kz/xlm62_gd27156y49_11q1jx40000gn/T/ipykernel_83871/2056896889.py:9: FutureWarning: The frame.append method is deprecated and will be removed from pandas in a future version. Use pandas.concat instead.\n",
            "  df = df.append(df_to_append,ignore_index=True)\n",
            "/var/folders/kz/xlm62_gd27156y49_11q1jx40000gn/T/ipykernel_83871/2056896889.py:9: FutureWarning: The frame.append method is deprecated and will be removed from pandas in a future version. Use pandas.concat instead.\n",
            "  df = df.append(df_to_append,ignore_index=True)\n",
            "/var/folders/kz/xlm62_gd27156y49_11q1jx40000gn/T/ipykernel_83871/2056896889.py:9: FutureWarning: The frame.append method is deprecated and will be removed from pandas in a future version. Use pandas.concat instead.\n",
            "  df = df.append(df_to_append,ignore_index=True)\n",
            "/var/folders/kz/xlm62_gd27156y49_11q1jx40000gn/T/ipykernel_83871/2056896889.py:9: FutureWarning: The frame.append method is deprecated and will be removed from pandas in a future version. Use pandas.concat instead.\n",
            "  df = df.append(df_to_append,ignore_index=True)\n",
            "/var/folders/kz/xlm62_gd27156y49_11q1jx40000gn/T/ipykernel_83871/2056896889.py:9: FutureWarning: The frame.append method is deprecated and will be removed from pandas in a future version. Use pandas.concat instead.\n",
            "  df = df.append(df_to_append,ignore_index=True)\n",
            "/var/folders/kz/xlm62_gd27156y49_11q1jx40000gn/T/ipykernel_83871/2056896889.py:9: FutureWarning: The frame.append method is deprecated and will be removed from pandas in a future version. Use pandas.concat instead.\n",
            "  df = df.append(df_to_append,ignore_index=True)\n",
            "/var/folders/kz/xlm62_gd27156y49_11q1jx40000gn/T/ipykernel_83871/2056896889.py:9: FutureWarning: The frame.append method is deprecated and will be removed from pandas in a future version. Use pandas.concat instead.\n",
            "  df = df.append(df_to_append,ignore_index=True)\n",
            "/var/folders/kz/xlm62_gd27156y49_11q1jx40000gn/T/ipykernel_83871/2056896889.py:9: FutureWarning: The frame.append method is deprecated and will be removed from pandas in a future version. Use pandas.concat instead.\n",
            "  df = df.append(df_to_append,ignore_index=True)\n",
            "/var/folders/kz/xlm62_gd27156y49_11q1jx40000gn/T/ipykernel_83871/2056896889.py:9: FutureWarning: The frame.append method is deprecated and will be removed from pandas in a future version. Use pandas.concat instead.\n",
            "  df = df.append(df_to_append,ignore_index=True)\n",
            "/var/folders/kz/xlm62_gd27156y49_11q1jx40000gn/T/ipykernel_83871/2056896889.py:9: FutureWarning: The frame.append method is deprecated and will be removed from pandas in a future version. Use pandas.concat instead.\n",
            "  df = df.append(df_to_append,ignore_index=True)\n",
            "/var/folders/kz/xlm62_gd27156y49_11q1jx40000gn/T/ipykernel_83871/2056896889.py:9: FutureWarning: The frame.append method is deprecated and will be removed from pandas in a future version. Use pandas.concat instead.\n",
            "  df = df.append(df_to_append,ignore_index=True)\n",
            "/var/folders/kz/xlm62_gd27156y49_11q1jx40000gn/T/ipykernel_83871/2056896889.py:9: FutureWarning: The frame.append method is deprecated and will be removed from pandas in a future version. Use pandas.concat instead.\n",
            "  df = df.append(df_to_append,ignore_index=True)\n",
            "/var/folders/kz/xlm62_gd27156y49_11q1jx40000gn/T/ipykernel_83871/2056896889.py:9: FutureWarning: The frame.append method is deprecated and will be removed from pandas in a future version. Use pandas.concat instead.\n",
            "  df = df.append(df_to_append,ignore_index=True)\n",
            "/var/folders/kz/xlm62_gd27156y49_11q1jx40000gn/T/ipykernel_83871/2056896889.py:9: FutureWarning: The frame.append method is deprecated and will be removed from pandas in a future version. Use pandas.concat instead.\n",
            "  df = df.append(df_to_append,ignore_index=True)\n",
            "/var/folders/kz/xlm62_gd27156y49_11q1jx40000gn/T/ipykernel_83871/2056896889.py:9: FutureWarning: The frame.append method is deprecated and will be removed from pandas in a future version. Use pandas.concat instead.\n",
            "  df = df.append(df_to_append,ignore_index=True)\n",
            "/var/folders/kz/xlm62_gd27156y49_11q1jx40000gn/T/ipykernel_83871/2056896889.py:9: FutureWarning: The frame.append method is deprecated and will be removed from pandas in a future version. Use pandas.concat instead.\n",
            "  df = df.append(df_to_append,ignore_index=True)\n",
            "/var/folders/kz/xlm62_gd27156y49_11q1jx40000gn/T/ipykernel_83871/2056896889.py:9: FutureWarning: The frame.append method is deprecated and will be removed from pandas in a future version. Use pandas.concat instead.\n",
            "  df = df.append(df_to_append,ignore_index=True)\n",
            "/var/folders/kz/xlm62_gd27156y49_11q1jx40000gn/T/ipykernel_83871/2056896889.py:9: FutureWarning: The frame.append method is deprecated and will be removed from pandas in a future version. Use pandas.concat instead.\n",
            "  df = df.append(df_to_append,ignore_index=True)\n",
            "/var/folders/kz/xlm62_gd27156y49_11q1jx40000gn/T/ipykernel_83871/2056896889.py:9: FutureWarning: The frame.append method is deprecated and will be removed from pandas in a future version. Use pandas.concat instead.\n",
            "  df = df.append(df_to_append,ignore_index=True)\n",
            "/var/folders/kz/xlm62_gd27156y49_11q1jx40000gn/T/ipykernel_83871/2056896889.py:9: FutureWarning: The frame.append method is deprecated and will be removed from pandas in a future version. Use pandas.concat instead.\n",
            "  df = df.append(df_to_append,ignore_index=True)\n",
            "/var/folders/kz/xlm62_gd27156y49_11q1jx40000gn/T/ipykernel_83871/2056896889.py:9: FutureWarning: The frame.append method is deprecated and will be removed from pandas in a future version. Use pandas.concat instead.\n",
            "  df = df.append(df_to_append,ignore_index=True)\n",
            "/var/folders/kz/xlm62_gd27156y49_11q1jx40000gn/T/ipykernel_83871/2056896889.py:9: FutureWarning: The frame.append method is deprecated and will be removed from pandas in a future version. Use pandas.concat instead.\n",
            "  df = df.append(df_to_append,ignore_index=True)\n",
            "/var/folders/kz/xlm62_gd27156y49_11q1jx40000gn/T/ipykernel_83871/2056896889.py:9: FutureWarning: The frame.append method is deprecated and will be removed from pandas in a future version. Use pandas.concat instead.\n",
            "  df = df.append(df_to_append,ignore_index=True)\n",
            "/var/folders/kz/xlm62_gd27156y49_11q1jx40000gn/T/ipykernel_83871/2056896889.py:9: FutureWarning: The frame.append method is deprecated and will be removed from pandas in a future version. Use pandas.concat instead.\n",
            "  df = df.append(df_to_append,ignore_index=True)\n",
            "/var/folders/kz/xlm62_gd27156y49_11q1jx40000gn/T/ipykernel_83871/2056896889.py:9: FutureWarning: The frame.append method is deprecated and will be removed from pandas in a future version. Use pandas.concat instead.\n",
            "  df = df.append(df_to_append,ignore_index=True)\n",
            "/var/folders/kz/xlm62_gd27156y49_11q1jx40000gn/T/ipykernel_83871/2056896889.py:9: FutureWarning: The frame.append method is deprecated and will be removed from pandas in a future version. Use pandas.concat instead.\n",
            "  df = df.append(df_to_append,ignore_index=True)\n",
            "/var/folders/kz/xlm62_gd27156y49_11q1jx40000gn/T/ipykernel_83871/2056896889.py:9: FutureWarning: The frame.append method is deprecated and will be removed from pandas in a future version. Use pandas.concat instead.\n",
            "  df = df.append(df_to_append,ignore_index=True)\n",
            "/var/folders/kz/xlm62_gd27156y49_11q1jx40000gn/T/ipykernel_83871/2056896889.py:9: FutureWarning: The frame.append method is deprecated and will be removed from pandas in a future version. Use pandas.concat instead.\n",
            "  df = df.append(df_to_append,ignore_index=True)\n",
            "/var/folders/kz/xlm62_gd27156y49_11q1jx40000gn/T/ipykernel_83871/2056896889.py:9: FutureWarning: The frame.append method is deprecated and will be removed from pandas in a future version. Use pandas.concat instead.\n",
            "  df = df.append(df_to_append,ignore_index=True)\n",
            "/var/folders/kz/xlm62_gd27156y49_11q1jx40000gn/T/ipykernel_83871/2056896889.py:9: FutureWarning: The frame.append method is deprecated and will be removed from pandas in a future version. Use pandas.concat instead.\n",
            "  df = df.append(df_to_append,ignore_index=True)\n",
            "/var/folders/kz/xlm62_gd27156y49_11q1jx40000gn/T/ipykernel_83871/2056896889.py:9: FutureWarning: The frame.append method is deprecated and will be removed from pandas in a future version. Use pandas.concat instead.\n",
            "  df = df.append(df_to_append,ignore_index=True)\n",
            "/var/folders/kz/xlm62_gd27156y49_11q1jx40000gn/T/ipykernel_83871/2056896889.py:9: FutureWarning: The frame.append method is deprecated and will be removed from pandas in a future version. Use pandas.concat instead.\n",
            "  df = df.append(df_to_append,ignore_index=True)\n",
            "/var/folders/kz/xlm62_gd27156y49_11q1jx40000gn/T/ipykernel_83871/2056896889.py:9: FutureWarning: The frame.append method is deprecated and will be removed from pandas in a future version. Use pandas.concat instead.\n",
            "  df = df.append(df_to_append,ignore_index=True)\n",
            "/var/folders/kz/xlm62_gd27156y49_11q1jx40000gn/T/ipykernel_83871/2056896889.py:9: FutureWarning: The frame.append method is deprecated and will be removed from pandas in a future version. Use pandas.concat instead.\n",
            "  df = df.append(df_to_append,ignore_index=True)\n",
            "/var/folders/kz/xlm62_gd27156y49_11q1jx40000gn/T/ipykernel_83871/2056896889.py:9: FutureWarning: The frame.append method is deprecated and will be removed from pandas in a future version. Use pandas.concat instead.\n",
            "  df = df.append(df_to_append,ignore_index=True)\n",
            "/var/folders/kz/xlm62_gd27156y49_11q1jx40000gn/T/ipykernel_83871/2056896889.py:9: FutureWarning: The frame.append method is deprecated and will be removed from pandas in a future version. Use pandas.concat instead.\n",
            "  df = df.append(df_to_append,ignore_index=True)\n",
            "/var/folders/kz/xlm62_gd27156y49_11q1jx40000gn/T/ipykernel_83871/2056896889.py:9: FutureWarning: The frame.append method is deprecated and will be removed from pandas in a future version. Use pandas.concat instead.\n",
            "  df = df.append(df_to_append,ignore_index=True)\n",
            "/var/folders/kz/xlm62_gd27156y49_11q1jx40000gn/T/ipykernel_83871/2056896889.py:9: FutureWarning: The frame.append method is deprecated and will be removed from pandas in a future version. Use pandas.concat instead.\n",
            "  df = df.append(df_to_append,ignore_index=True)\n",
            "/var/folders/kz/xlm62_gd27156y49_11q1jx40000gn/T/ipykernel_83871/2056896889.py:9: FutureWarning: The frame.append method is deprecated and will be removed from pandas in a future version. Use pandas.concat instead.\n",
            "  df = df.append(df_to_append,ignore_index=True)\n",
            "/var/folders/kz/xlm62_gd27156y49_11q1jx40000gn/T/ipykernel_83871/2056896889.py:9: FutureWarning: The frame.append method is deprecated and will be removed from pandas in a future version. Use pandas.concat instead.\n",
            "  df = df.append(df_to_append,ignore_index=True)\n",
            "/var/folders/kz/xlm62_gd27156y49_11q1jx40000gn/T/ipykernel_83871/2056896889.py:9: FutureWarning: The frame.append method is deprecated and will be removed from pandas in a future version. Use pandas.concat instead.\n",
            "  df = df.append(df_to_append,ignore_index=True)\n",
            "/var/folders/kz/xlm62_gd27156y49_11q1jx40000gn/T/ipykernel_83871/2056896889.py:9: FutureWarning: The frame.append method is deprecated and will be removed from pandas in a future version. Use pandas.concat instead.\n",
            "  df = df.append(df_to_append,ignore_index=True)\n",
            "/var/folders/kz/xlm62_gd27156y49_11q1jx40000gn/T/ipykernel_83871/2056896889.py:9: FutureWarning: The frame.append method is deprecated and will be removed from pandas in a future version. Use pandas.concat instead.\n",
            "  df = df.append(df_to_append,ignore_index=True)\n",
            "/var/folders/kz/xlm62_gd27156y49_11q1jx40000gn/T/ipykernel_83871/2056896889.py:9: FutureWarning: The frame.append method is deprecated and will be removed from pandas in a future version. Use pandas.concat instead.\n",
            "  df = df.append(df_to_append,ignore_index=True)\n",
            "/var/folders/kz/xlm62_gd27156y49_11q1jx40000gn/T/ipykernel_83871/2056896889.py:9: FutureWarning: The frame.append method is deprecated and will be removed from pandas in a future version. Use pandas.concat instead.\n",
            "  df = df.append(df_to_append,ignore_index=True)\n",
            "/var/folders/kz/xlm62_gd27156y49_11q1jx40000gn/T/ipykernel_83871/2056896889.py:9: FutureWarning: The frame.append method is deprecated and will be removed from pandas in a future version. Use pandas.concat instead.\n",
            "  df = df.append(df_to_append,ignore_index=True)\n",
            "/var/folders/kz/xlm62_gd27156y49_11q1jx40000gn/T/ipykernel_83871/2056896889.py:9: FutureWarning: The frame.append method is deprecated and will be removed from pandas in a future version. Use pandas.concat instead.\n",
            "  df = df.append(df_to_append,ignore_index=True)\n",
            "/var/folders/kz/xlm62_gd27156y49_11q1jx40000gn/T/ipykernel_83871/2056896889.py:9: FutureWarning: The frame.append method is deprecated and will be removed from pandas in a future version. Use pandas.concat instead.\n",
            "  df = df.append(df_to_append,ignore_index=True)\n",
            "/var/folders/kz/xlm62_gd27156y49_11q1jx40000gn/T/ipykernel_83871/2056896889.py:9: FutureWarning: The frame.append method is deprecated and will be removed from pandas in a future version. Use pandas.concat instead.\n",
            "  df = df.append(df_to_append,ignore_index=True)\n",
            "/var/folders/kz/xlm62_gd27156y49_11q1jx40000gn/T/ipykernel_83871/2056896889.py:9: FutureWarning: The frame.append method is deprecated and will be removed from pandas in a future version. Use pandas.concat instead.\n",
            "  df = df.append(df_to_append,ignore_index=True)\n",
            "/var/folders/kz/xlm62_gd27156y49_11q1jx40000gn/T/ipykernel_83871/2056896889.py:9: FutureWarning: The frame.append method is deprecated and will be removed from pandas in a future version. Use pandas.concat instead.\n",
            "  df = df.append(df_to_append,ignore_index=True)\n",
            "/var/folders/kz/xlm62_gd27156y49_11q1jx40000gn/T/ipykernel_83871/2056896889.py:9: FutureWarning: The frame.append method is deprecated and will be removed from pandas in a future version. Use pandas.concat instead.\n",
            "  df = df.append(df_to_append,ignore_index=True)\n",
            "/var/folders/kz/xlm62_gd27156y49_11q1jx40000gn/T/ipykernel_83871/2056896889.py:9: FutureWarning: The frame.append method is deprecated and will be removed from pandas in a future version. Use pandas.concat instead.\n",
            "  df = df.append(df_to_append,ignore_index=True)\n",
            "/var/folders/kz/xlm62_gd27156y49_11q1jx40000gn/T/ipykernel_83871/2056896889.py:9: FutureWarning: The frame.append method is deprecated and will be removed from pandas in a future version. Use pandas.concat instead.\n",
            "  df = df.append(df_to_append,ignore_index=True)\n",
            "/var/folders/kz/xlm62_gd27156y49_11q1jx40000gn/T/ipykernel_83871/2056896889.py:9: FutureWarning: The frame.append method is deprecated and will be removed from pandas in a future version. Use pandas.concat instead.\n",
            "  df = df.append(df_to_append,ignore_index=True)\n",
            "/var/folders/kz/xlm62_gd27156y49_11q1jx40000gn/T/ipykernel_83871/2056896889.py:9: FutureWarning: The frame.append method is deprecated and will be removed from pandas in a future version. Use pandas.concat instead.\n",
            "  df = df.append(df_to_append,ignore_index=True)\n",
            "/var/folders/kz/xlm62_gd27156y49_11q1jx40000gn/T/ipykernel_83871/2056896889.py:9: FutureWarning: The frame.append method is deprecated and will be removed from pandas in a future version. Use pandas.concat instead.\n",
            "  df = df.append(df_to_append,ignore_index=True)\n",
            "/var/folders/kz/xlm62_gd27156y49_11q1jx40000gn/T/ipykernel_83871/2056896889.py:9: FutureWarning: The frame.append method is deprecated and will be removed from pandas in a future version. Use pandas.concat instead.\n",
            "  df = df.append(df_to_append,ignore_index=True)\n",
            "/var/folders/kz/xlm62_gd27156y49_11q1jx40000gn/T/ipykernel_83871/2056896889.py:9: FutureWarning: The frame.append method is deprecated and will be removed from pandas in a future version. Use pandas.concat instead.\n",
            "  df = df.append(df_to_append,ignore_index=True)\n",
            "/var/folders/kz/xlm62_gd27156y49_11q1jx40000gn/T/ipykernel_83871/2056896889.py:9: FutureWarning: The frame.append method is deprecated and will be removed from pandas in a future version. Use pandas.concat instead.\n",
            "  df = df.append(df_to_append,ignore_index=True)\n",
            "/var/folders/kz/xlm62_gd27156y49_11q1jx40000gn/T/ipykernel_83871/2056896889.py:9: FutureWarning: The frame.append method is deprecated and will be removed from pandas in a future version. Use pandas.concat instead.\n",
            "  df = df.append(df_to_append,ignore_index=True)\n",
            "/var/folders/kz/xlm62_gd27156y49_11q1jx40000gn/T/ipykernel_83871/2056896889.py:9: FutureWarning: The frame.append method is deprecated and will be removed from pandas in a future version. Use pandas.concat instead.\n",
            "  df = df.append(df_to_append,ignore_index=True)\n",
            "/var/folders/kz/xlm62_gd27156y49_11q1jx40000gn/T/ipykernel_83871/2056896889.py:9: FutureWarning: The frame.append method is deprecated and will be removed from pandas in a future version. Use pandas.concat instead.\n",
            "  df = df.append(df_to_append,ignore_index=True)\n",
            "/var/folders/kz/xlm62_gd27156y49_11q1jx40000gn/T/ipykernel_83871/2056896889.py:9: FutureWarning: The frame.append method is deprecated and will be removed from pandas in a future version. Use pandas.concat instead.\n",
            "  df = df.append(df_to_append,ignore_index=True)\n",
            "/var/folders/kz/xlm62_gd27156y49_11q1jx40000gn/T/ipykernel_83871/2056896889.py:9: FutureWarning: The frame.append method is deprecated and will be removed from pandas in a future version. Use pandas.concat instead.\n",
            "  df = df.append(df_to_append,ignore_index=True)\n",
            "/var/folders/kz/xlm62_gd27156y49_11q1jx40000gn/T/ipykernel_83871/2056896889.py:9: FutureWarning: The frame.append method is deprecated and will be removed from pandas in a future version. Use pandas.concat instead.\n",
            "  df = df.append(df_to_append,ignore_index=True)\n",
            "/var/folders/kz/xlm62_gd27156y49_11q1jx40000gn/T/ipykernel_83871/2056896889.py:9: FutureWarning: The frame.append method is deprecated and will be removed from pandas in a future version. Use pandas.concat instead.\n",
            "  df = df.append(df_to_append,ignore_index=True)\n",
            "/var/folders/kz/xlm62_gd27156y49_11q1jx40000gn/T/ipykernel_83871/2056896889.py:9: FutureWarning: The frame.append method is deprecated and will be removed from pandas in a future version. Use pandas.concat instead.\n",
            "  df = df.append(df_to_append,ignore_index=True)\n",
            "/var/folders/kz/xlm62_gd27156y49_11q1jx40000gn/T/ipykernel_83871/2056896889.py:9: FutureWarning: The frame.append method is deprecated and will be removed from pandas in a future version. Use pandas.concat instead.\n",
            "  df = df.append(df_to_append,ignore_index=True)\n",
            "/var/folders/kz/xlm62_gd27156y49_11q1jx40000gn/T/ipykernel_83871/2056896889.py:9: FutureWarning: The frame.append method is deprecated and will be removed from pandas in a future version. Use pandas.concat instead.\n",
            "  df = df.append(df_to_append,ignore_index=True)\n",
            "/var/folders/kz/xlm62_gd27156y49_11q1jx40000gn/T/ipykernel_83871/2056896889.py:9: FutureWarning: The frame.append method is deprecated and will be removed from pandas in a future version. Use pandas.concat instead.\n",
            "  df = df.append(df_to_append,ignore_index=True)\n",
            "/var/folders/kz/xlm62_gd27156y49_11q1jx40000gn/T/ipykernel_83871/2056896889.py:9: FutureWarning: The frame.append method is deprecated and will be removed from pandas in a future version. Use pandas.concat instead.\n",
            "  df = df.append(df_to_append,ignore_index=True)\n",
            "/var/folders/kz/xlm62_gd27156y49_11q1jx40000gn/T/ipykernel_83871/2056896889.py:9: FutureWarning: The frame.append method is deprecated and will be removed from pandas in a future version. Use pandas.concat instead.\n",
            "  df = df.append(df_to_append,ignore_index=True)\n",
            "/var/folders/kz/xlm62_gd27156y49_11q1jx40000gn/T/ipykernel_83871/2056896889.py:9: FutureWarning: The frame.append method is deprecated and will be removed from pandas in a future version. Use pandas.concat instead.\n",
            "  df = df.append(df_to_append,ignore_index=True)\n",
            "/var/folders/kz/xlm62_gd27156y49_11q1jx40000gn/T/ipykernel_83871/2056896889.py:9: FutureWarning: The frame.append method is deprecated and will be removed from pandas in a future version. Use pandas.concat instead.\n",
            "  df = df.append(df_to_append,ignore_index=True)\n",
            "/var/folders/kz/xlm62_gd27156y49_11q1jx40000gn/T/ipykernel_83871/2056896889.py:9: FutureWarning: The frame.append method is deprecated and will be removed from pandas in a future version. Use pandas.concat instead.\n",
            "  df = df.append(df_to_append,ignore_index=True)\n",
            "/var/folders/kz/xlm62_gd27156y49_11q1jx40000gn/T/ipykernel_83871/2056896889.py:9: FutureWarning: The frame.append method is deprecated and will be removed from pandas in a future version. Use pandas.concat instead.\n",
            "  df = df.append(df_to_append,ignore_index=True)\n",
            "/var/folders/kz/xlm62_gd27156y49_11q1jx40000gn/T/ipykernel_83871/2056896889.py:9: FutureWarning: The frame.append method is deprecated and will be removed from pandas in a future version. Use pandas.concat instead.\n",
            "  df = df.append(df_to_append,ignore_index=True)\n",
            "/var/folders/kz/xlm62_gd27156y49_11q1jx40000gn/T/ipykernel_83871/2056896889.py:9: FutureWarning: The frame.append method is deprecated and will be removed from pandas in a future version. Use pandas.concat instead.\n",
            "  df = df.append(df_to_append,ignore_index=True)\n",
            "/var/folders/kz/xlm62_gd27156y49_11q1jx40000gn/T/ipykernel_83871/2056896889.py:9: FutureWarning: The frame.append method is deprecated and will be removed from pandas in a future version. Use pandas.concat instead.\n",
            "  df = df.append(df_to_append,ignore_index=True)\n",
            "/var/folders/kz/xlm62_gd27156y49_11q1jx40000gn/T/ipykernel_83871/2056896889.py:9: FutureWarning: The frame.append method is deprecated and will be removed from pandas in a future version. Use pandas.concat instead.\n",
            "  df = df.append(df_to_append,ignore_index=True)\n",
            "/var/folders/kz/xlm62_gd27156y49_11q1jx40000gn/T/ipykernel_83871/2056896889.py:9: FutureWarning: The frame.append method is deprecated and will be removed from pandas in a future version. Use pandas.concat instead.\n",
            "  df = df.append(df_to_append,ignore_index=True)\n",
            "/var/folders/kz/xlm62_gd27156y49_11q1jx40000gn/T/ipykernel_83871/2056896889.py:9: FutureWarning: The frame.append method is deprecated and will be removed from pandas in a future version. Use pandas.concat instead.\n",
            "  df = df.append(df_to_append,ignore_index=True)\n",
            "/var/folders/kz/xlm62_gd27156y49_11q1jx40000gn/T/ipykernel_83871/2056896889.py:9: FutureWarning: The frame.append method is deprecated and will be removed from pandas in a future version. Use pandas.concat instead.\n",
            "  df = df.append(df_to_append,ignore_index=True)\n",
            "/var/folders/kz/xlm62_gd27156y49_11q1jx40000gn/T/ipykernel_83871/2056896889.py:9: FutureWarning: The frame.append method is deprecated and will be removed from pandas in a future version. Use pandas.concat instead.\n",
            "  df = df.append(df_to_append,ignore_index=True)\n",
            "/var/folders/kz/xlm62_gd27156y49_11q1jx40000gn/T/ipykernel_83871/2056896889.py:9: FutureWarning: The frame.append method is deprecated and will be removed from pandas in a future version. Use pandas.concat instead.\n",
            "  df = df.append(df_to_append,ignore_index=True)\n",
            "/var/folders/kz/xlm62_gd27156y49_11q1jx40000gn/T/ipykernel_83871/2056896889.py:9: FutureWarning: The frame.append method is deprecated and will be removed from pandas in a future version. Use pandas.concat instead.\n",
            "  df = df.append(df_to_append,ignore_index=True)\n",
            "/var/folders/kz/xlm62_gd27156y49_11q1jx40000gn/T/ipykernel_83871/2056896889.py:9: FutureWarning: The frame.append method is deprecated and will be removed from pandas in a future version. Use pandas.concat instead.\n",
            "  df = df.append(df_to_append,ignore_index=True)\n",
            "/var/folders/kz/xlm62_gd27156y49_11q1jx40000gn/T/ipykernel_83871/2056896889.py:9: FutureWarning: The frame.append method is deprecated and will be removed from pandas in a future version. Use pandas.concat instead.\n",
            "  df = df.append(df_to_append,ignore_index=True)\n",
            "/var/folders/kz/xlm62_gd27156y49_11q1jx40000gn/T/ipykernel_83871/2056896889.py:9: FutureWarning: The frame.append method is deprecated and will be removed from pandas in a future version. Use pandas.concat instead.\n",
            "  df = df.append(df_to_append,ignore_index=True)\n",
            "/var/folders/kz/xlm62_gd27156y49_11q1jx40000gn/T/ipykernel_83871/2056896889.py:9: FutureWarning: The frame.append method is deprecated and will be removed from pandas in a future version. Use pandas.concat instead.\n",
            "  df = df.append(df_to_append,ignore_index=True)\n",
            "/var/folders/kz/xlm62_gd27156y49_11q1jx40000gn/T/ipykernel_83871/2056896889.py:9: FutureWarning: The frame.append method is deprecated and will be removed from pandas in a future version. Use pandas.concat instead.\n",
            "  df = df.append(df_to_append,ignore_index=True)\n",
            "/var/folders/kz/xlm62_gd27156y49_11q1jx40000gn/T/ipykernel_83871/2056896889.py:9: FutureWarning: The frame.append method is deprecated and will be removed from pandas in a future version. Use pandas.concat instead.\n",
            "  df = df.append(df_to_append,ignore_index=True)\n",
            "/var/folders/kz/xlm62_gd27156y49_11q1jx40000gn/T/ipykernel_83871/2056896889.py:9: FutureWarning: The frame.append method is deprecated and will be removed from pandas in a future version. Use pandas.concat instead.\n",
            "  df = df.append(df_to_append,ignore_index=True)\n",
            "/var/folders/kz/xlm62_gd27156y49_11q1jx40000gn/T/ipykernel_83871/2056896889.py:9: FutureWarning: The frame.append method is deprecated and will be removed from pandas in a future version. Use pandas.concat instead.\n",
            "  df = df.append(df_to_append,ignore_index=True)\n",
            "/var/folders/kz/xlm62_gd27156y49_11q1jx40000gn/T/ipykernel_83871/2056896889.py:9: FutureWarning: The frame.append method is deprecated and will be removed from pandas in a future version. Use pandas.concat instead.\n",
            "  df = df.append(df_to_append,ignore_index=True)\n",
            "/var/folders/kz/xlm62_gd27156y49_11q1jx40000gn/T/ipykernel_83871/2056896889.py:9: FutureWarning: The frame.append method is deprecated and will be removed from pandas in a future version. Use pandas.concat instead.\n",
            "  df = df.append(df_to_append,ignore_index=True)\n",
            "/var/folders/kz/xlm62_gd27156y49_11q1jx40000gn/T/ipykernel_83871/2056896889.py:9: FutureWarning: The frame.append method is deprecated and will be removed from pandas in a future version. Use pandas.concat instead.\n",
            "  df = df.append(df_to_append,ignore_index=True)\n",
            "/var/folders/kz/xlm62_gd27156y49_11q1jx40000gn/T/ipykernel_83871/2056896889.py:9: FutureWarning: The frame.append method is deprecated and will be removed from pandas in a future version. Use pandas.concat instead.\n",
            "  df = df.append(df_to_append,ignore_index=True)\n",
            "/var/folders/kz/xlm62_gd27156y49_11q1jx40000gn/T/ipykernel_83871/2056896889.py:9: FutureWarning: The frame.append method is deprecated and will be removed from pandas in a future version. Use pandas.concat instead.\n",
            "  df = df.append(df_to_append,ignore_index=True)\n",
            "/var/folders/kz/xlm62_gd27156y49_11q1jx40000gn/T/ipykernel_83871/2056896889.py:9: FutureWarning: The frame.append method is deprecated and will be removed from pandas in a future version. Use pandas.concat instead.\n",
            "  df = df.append(df_to_append,ignore_index=True)\n",
            "/var/folders/kz/xlm62_gd27156y49_11q1jx40000gn/T/ipykernel_83871/2056896889.py:9: FutureWarning: The frame.append method is deprecated and will be removed from pandas in a future version. Use pandas.concat instead.\n",
            "  df = df.append(df_to_append,ignore_index=True)\n",
            "/var/folders/kz/xlm62_gd27156y49_11q1jx40000gn/T/ipykernel_83871/2056896889.py:9: FutureWarning: The frame.append method is deprecated and will be removed from pandas in a future version. Use pandas.concat instead.\n",
            "  df = df.append(df_to_append,ignore_index=True)\n",
            "/var/folders/kz/xlm62_gd27156y49_11q1jx40000gn/T/ipykernel_83871/2056896889.py:9: FutureWarning: The frame.append method is deprecated and will be removed from pandas in a future version. Use pandas.concat instead.\n",
            "  df = df.append(df_to_append,ignore_index=True)\n",
            "/var/folders/kz/xlm62_gd27156y49_11q1jx40000gn/T/ipykernel_83871/2056896889.py:9: FutureWarning: The frame.append method is deprecated and will be removed from pandas in a future version. Use pandas.concat instead.\n",
            "  df = df.append(df_to_append,ignore_index=True)\n",
            "/var/folders/kz/xlm62_gd27156y49_11q1jx40000gn/T/ipykernel_83871/2056896889.py:9: FutureWarning: The frame.append method is deprecated and will be removed from pandas in a future version. Use pandas.concat instead.\n",
            "  df = df.append(df_to_append,ignore_index=True)\n",
            "/var/folders/kz/xlm62_gd27156y49_11q1jx40000gn/T/ipykernel_83871/2056896889.py:9: FutureWarning: The frame.append method is deprecated and will be removed from pandas in a future version. Use pandas.concat instead.\n",
            "  df = df.append(df_to_append,ignore_index=True)\n",
            "/var/folders/kz/xlm62_gd27156y49_11q1jx40000gn/T/ipykernel_83871/2056896889.py:9: FutureWarning: The frame.append method is deprecated and will be removed from pandas in a future version. Use pandas.concat instead.\n",
            "  df = df.append(df_to_append,ignore_index=True)\n",
            "/var/folders/kz/xlm62_gd27156y49_11q1jx40000gn/T/ipykernel_83871/2056896889.py:9: FutureWarning: The frame.append method is deprecated and will be removed from pandas in a future version. Use pandas.concat instead.\n",
            "  df = df.append(df_to_append,ignore_index=True)\n",
            "/var/folders/kz/xlm62_gd27156y49_11q1jx40000gn/T/ipykernel_83871/2056896889.py:9: FutureWarning: The frame.append method is deprecated and will be removed from pandas in a future version. Use pandas.concat instead.\n",
            "  df = df.append(df_to_append,ignore_index=True)\n",
            "/var/folders/kz/xlm62_gd27156y49_11q1jx40000gn/T/ipykernel_83871/2056896889.py:9: FutureWarning: The frame.append method is deprecated and will be removed from pandas in a future version. Use pandas.concat instead.\n",
            "  df = df.append(df_to_append,ignore_index=True)\n",
            "/var/folders/kz/xlm62_gd27156y49_11q1jx40000gn/T/ipykernel_83871/2056896889.py:9: FutureWarning: The frame.append method is deprecated and will be removed from pandas in a future version. Use pandas.concat instead.\n",
            "  df = df.append(df_to_append,ignore_index=True)\n",
            "/var/folders/kz/xlm62_gd27156y49_11q1jx40000gn/T/ipykernel_83871/2056896889.py:9: FutureWarning: The frame.append method is deprecated and will be removed from pandas in a future version. Use pandas.concat instead.\n",
            "  df = df.append(df_to_append,ignore_index=True)\n",
            "/var/folders/kz/xlm62_gd27156y49_11q1jx40000gn/T/ipykernel_83871/2056896889.py:9: FutureWarning: The frame.append method is deprecated and will be removed from pandas in a future version. Use pandas.concat instead.\n",
            "  df = df.append(df_to_append,ignore_index=True)\n",
            "/var/folders/kz/xlm62_gd27156y49_11q1jx40000gn/T/ipykernel_83871/2056896889.py:9: FutureWarning: The frame.append method is deprecated and will be removed from pandas in a future version. Use pandas.concat instead.\n",
            "  df = df.append(df_to_append,ignore_index=True)\n",
            "/var/folders/kz/xlm62_gd27156y49_11q1jx40000gn/T/ipykernel_83871/2056896889.py:9: FutureWarning: The frame.append method is deprecated and will be removed from pandas in a future version. Use pandas.concat instead.\n",
            "  df = df.append(df_to_append,ignore_index=True)\n",
            "/var/folders/kz/xlm62_gd27156y49_11q1jx40000gn/T/ipykernel_83871/2056896889.py:9: FutureWarning: The frame.append method is deprecated and will be removed from pandas in a future version. Use pandas.concat instead.\n",
            "  df = df.append(df_to_append,ignore_index=True)\n",
            "/var/folders/kz/xlm62_gd27156y49_11q1jx40000gn/T/ipykernel_83871/2056896889.py:9: FutureWarning: The frame.append method is deprecated and will be removed from pandas in a future version. Use pandas.concat instead.\n",
            "  df = df.append(df_to_append,ignore_index=True)\n",
            "/var/folders/kz/xlm62_gd27156y49_11q1jx40000gn/T/ipykernel_83871/2056896889.py:9: FutureWarning: The frame.append method is deprecated and will be removed from pandas in a future version. Use pandas.concat instead.\n",
            "  df = df.append(df_to_append,ignore_index=True)\n",
            "/var/folders/kz/xlm62_gd27156y49_11q1jx40000gn/T/ipykernel_83871/2056896889.py:9: FutureWarning: The frame.append method is deprecated and will be removed from pandas in a future version. Use pandas.concat instead.\n",
            "  df = df.append(df_to_append,ignore_index=True)\n",
            "/var/folders/kz/xlm62_gd27156y49_11q1jx40000gn/T/ipykernel_83871/2056896889.py:9: FutureWarning: The frame.append method is deprecated and will be removed from pandas in a future version. Use pandas.concat instead.\n",
            "  df = df.append(df_to_append,ignore_index=True)\n",
            "/var/folders/kz/xlm62_gd27156y49_11q1jx40000gn/T/ipykernel_83871/2056896889.py:9: FutureWarning: The frame.append method is deprecated and will be removed from pandas in a future version. Use pandas.concat instead.\n",
            "  df = df.append(df_to_append,ignore_index=True)\n",
            "/var/folders/kz/xlm62_gd27156y49_11q1jx40000gn/T/ipykernel_83871/2056896889.py:9: FutureWarning: The frame.append method is deprecated and will be removed from pandas in a future version. Use pandas.concat instead.\n",
            "  df = df.append(df_to_append,ignore_index=True)\n",
            "/var/folders/kz/xlm62_gd27156y49_11q1jx40000gn/T/ipykernel_83871/2056896889.py:9: FutureWarning: The frame.append method is deprecated and will be removed from pandas in a future version. Use pandas.concat instead.\n",
            "  df = df.append(df_to_append,ignore_index=True)\n",
            "/var/folders/kz/xlm62_gd27156y49_11q1jx40000gn/T/ipykernel_83871/2056896889.py:9: FutureWarning: The frame.append method is deprecated and will be removed from pandas in a future version. Use pandas.concat instead.\n",
            "  df = df.append(df_to_append,ignore_index=True)\n",
            "/var/folders/kz/xlm62_gd27156y49_11q1jx40000gn/T/ipykernel_83871/2056896889.py:9: FutureWarning: The frame.append method is deprecated and will be removed from pandas in a future version. Use pandas.concat instead.\n",
            "  df = df.append(df_to_append,ignore_index=True)\n",
            "/var/folders/kz/xlm62_gd27156y49_11q1jx40000gn/T/ipykernel_83871/2056896889.py:9: FutureWarning: The frame.append method is deprecated and will be removed from pandas in a future version. Use pandas.concat instead.\n",
            "  df = df.append(df_to_append,ignore_index=True)\n",
            "/var/folders/kz/xlm62_gd27156y49_11q1jx40000gn/T/ipykernel_83871/2056896889.py:9: FutureWarning: The frame.append method is deprecated and will be removed from pandas in a future version. Use pandas.concat instead.\n",
            "  df = df.append(df_to_append,ignore_index=True)\n",
            "/var/folders/kz/xlm62_gd27156y49_11q1jx40000gn/T/ipykernel_83871/2056896889.py:9: FutureWarning: The frame.append method is deprecated and will be removed from pandas in a future version. Use pandas.concat instead.\n",
            "  df = df.append(df_to_append,ignore_index=True)\n",
            "/var/folders/kz/xlm62_gd27156y49_11q1jx40000gn/T/ipykernel_83871/2056896889.py:9: FutureWarning: The frame.append method is deprecated and will be removed from pandas in a future version. Use pandas.concat instead.\n",
            "  df = df.append(df_to_append,ignore_index=True)\n",
            "/var/folders/kz/xlm62_gd27156y49_11q1jx40000gn/T/ipykernel_83871/2056896889.py:9: FutureWarning: The frame.append method is deprecated and will be removed from pandas in a future version. Use pandas.concat instead.\n",
            "  df = df.append(df_to_append,ignore_index=True)\n",
            "/var/folders/kz/xlm62_gd27156y49_11q1jx40000gn/T/ipykernel_83871/2056896889.py:9: FutureWarning: The frame.append method is deprecated and will be removed from pandas in a future version. Use pandas.concat instead.\n",
            "  df = df.append(df_to_append,ignore_index=True)\n",
            "/var/folders/kz/xlm62_gd27156y49_11q1jx40000gn/T/ipykernel_83871/2056896889.py:9: FutureWarning: The frame.append method is deprecated and will be removed from pandas in a future version. Use pandas.concat instead.\n",
            "  df = df.append(df_to_append,ignore_index=True)\n",
            "/var/folders/kz/xlm62_gd27156y49_11q1jx40000gn/T/ipykernel_83871/2056896889.py:9: FutureWarning: The frame.append method is deprecated and will be removed from pandas in a future version. Use pandas.concat instead.\n",
            "  df = df.append(df_to_append,ignore_index=True)\n",
            "/var/folders/kz/xlm62_gd27156y49_11q1jx40000gn/T/ipykernel_83871/2056896889.py:9: FutureWarning: The frame.append method is deprecated and will be removed from pandas in a future version. Use pandas.concat instead.\n",
            "  df = df.append(df_to_append,ignore_index=True)\n",
            "/var/folders/kz/xlm62_gd27156y49_11q1jx40000gn/T/ipykernel_83871/2056896889.py:9: FutureWarning: The frame.append method is deprecated and will be removed from pandas in a future version. Use pandas.concat instead.\n",
            "  df = df.append(df_to_append,ignore_index=True)\n",
            "/var/folders/kz/xlm62_gd27156y49_11q1jx40000gn/T/ipykernel_83871/2056896889.py:9: FutureWarning: The frame.append method is deprecated and will be removed from pandas in a future version. Use pandas.concat instead.\n",
            "  df = df.append(df_to_append,ignore_index=True)\n",
            "/var/folders/kz/xlm62_gd27156y49_11q1jx40000gn/T/ipykernel_83871/2056896889.py:9: FutureWarning: The frame.append method is deprecated and will be removed from pandas in a future version. Use pandas.concat instead.\n",
            "  df = df.append(df_to_append,ignore_index=True)\n",
            "/var/folders/kz/xlm62_gd27156y49_11q1jx40000gn/T/ipykernel_83871/2056896889.py:9: FutureWarning: The frame.append method is deprecated and will be removed from pandas in a future version. Use pandas.concat instead.\n",
            "  df = df.append(df_to_append,ignore_index=True)\n",
            "/var/folders/kz/xlm62_gd27156y49_11q1jx40000gn/T/ipykernel_83871/2056896889.py:9: FutureWarning: The frame.append method is deprecated and will be removed from pandas in a future version. Use pandas.concat instead.\n",
            "  df = df.append(df_to_append,ignore_index=True)\n",
            "/var/folders/kz/xlm62_gd27156y49_11q1jx40000gn/T/ipykernel_83871/2056896889.py:9: FutureWarning: The frame.append method is deprecated and will be removed from pandas in a future version. Use pandas.concat instead.\n",
            "  df = df.append(df_to_append,ignore_index=True)\n",
            "/var/folders/kz/xlm62_gd27156y49_11q1jx40000gn/T/ipykernel_83871/2056896889.py:9: FutureWarning: The frame.append method is deprecated and will be removed from pandas in a future version. Use pandas.concat instead.\n",
            "  df = df.append(df_to_append,ignore_index=True)\n",
            "/var/folders/kz/xlm62_gd27156y49_11q1jx40000gn/T/ipykernel_83871/2056896889.py:9: FutureWarning: The frame.append method is deprecated and will be removed from pandas in a future version. Use pandas.concat instead.\n",
            "  df = df.append(df_to_append,ignore_index=True)\n",
            "/var/folders/kz/xlm62_gd27156y49_11q1jx40000gn/T/ipykernel_83871/2056896889.py:9: FutureWarning: The frame.append method is deprecated and will be removed from pandas in a future version. Use pandas.concat instead.\n",
            "  df = df.append(df_to_append,ignore_index=True)\n",
            "/var/folders/kz/xlm62_gd27156y49_11q1jx40000gn/T/ipykernel_83871/2056896889.py:9: FutureWarning: The frame.append method is deprecated and will be removed from pandas in a future version. Use pandas.concat instead.\n",
            "  df = df.append(df_to_append,ignore_index=True)\n",
            "/var/folders/kz/xlm62_gd27156y49_11q1jx40000gn/T/ipykernel_83871/2056896889.py:9: FutureWarning: The frame.append method is deprecated and will be removed from pandas in a future version. Use pandas.concat instead.\n",
            "  df = df.append(df_to_append,ignore_index=True)\n",
            "/var/folders/kz/xlm62_gd27156y49_11q1jx40000gn/T/ipykernel_83871/2056896889.py:9: FutureWarning: The frame.append method is deprecated and will be removed from pandas in a future version. Use pandas.concat instead.\n",
            "  df = df.append(df_to_append,ignore_index=True)\n",
            "/var/folders/kz/xlm62_gd27156y49_11q1jx40000gn/T/ipykernel_83871/2056896889.py:9: FutureWarning: The frame.append method is deprecated and will be removed from pandas in a future version. Use pandas.concat instead.\n",
            "  df = df.append(df_to_append,ignore_index=True)\n",
            "/var/folders/kz/xlm62_gd27156y49_11q1jx40000gn/T/ipykernel_83871/2056896889.py:9: FutureWarning: The frame.append method is deprecated and will be removed from pandas in a future version. Use pandas.concat instead.\n",
            "  df = df.append(df_to_append,ignore_index=True)\n",
            "/var/folders/kz/xlm62_gd27156y49_11q1jx40000gn/T/ipykernel_83871/2056896889.py:9: FutureWarning: The frame.append method is deprecated and will be removed from pandas in a future version. Use pandas.concat instead.\n",
            "  df = df.append(df_to_append,ignore_index=True)\n",
            "/var/folders/kz/xlm62_gd27156y49_11q1jx40000gn/T/ipykernel_83871/2056896889.py:9: FutureWarning: The frame.append method is deprecated and will be removed from pandas in a future version. Use pandas.concat instead.\n",
            "  df = df.append(df_to_append,ignore_index=True)\n",
            "/var/folders/kz/xlm62_gd27156y49_11q1jx40000gn/T/ipykernel_83871/2056896889.py:9: FutureWarning: The frame.append method is deprecated and will be removed from pandas in a future version. Use pandas.concat instead.\n",
            "  df = df.append(df_to_append,ignore_index=True)\n",
            "/var/folders/kz/xlm62_gd27156y49_11q1jx40000gn/T/ipykernel_83871/2056896889.py:9: FutureWarning: The frame.append method is deprecated and will be removed from pandas in a future version. Use pandas.concat instead.\n",
            "  df = df.append(df_to_append,ignore_index=True)\n",
            "/var/folders/kz/xlm62_gd27156y49_11q1jx40000gn/T/ipykernel_83871/2056896889.py:9: FutureWarning: The frame.append method is deprecated and will be removed from pandas in a future version. Use pandas.concat instead.\n",
            "  df = df.append(df_to_append,ignore_index=True)\n",
            "/var/folders/kz/xlm62_gd27156y49_11q1jx40000gn/T/ipykernel_83871/2056896889.py:9: FutureWarning: The frame.append method is deprecated and will be removed from pandas in a future version. Use pandas.concat instead.\n",
            "  df = df.append(df_to_append,ignore_index=True)\n",
            "/var/folders/kz/xlm62_gd27156y49_11q1jx40000gn/T/ipykernel_83871/2056896889.py:9: FutureWarning: The frame.append method is deprecated and will be removed from pandas in a future version. Use pandas.concat instead.\n",
            "  df = df.append(df_to_append,ignore_index=True)\n",
            "/var/folders/kz/xlm62_gd27156y49_11q1jx40000gn/T/ipykernel_83871/2056896889.py:9: FutureWarning: The frame.append method is deprecated and will be removed from pandas in a future version. Use pandas.concat instead.\n",
            "  df = df.append(df_to_append,ignore_index=True)\n",
            "/var/folders/kz/xlm62_gd27156y49_11q1jx40000gn/T/ipykernel_83871/2056896889.py:9: FutureWarning: The frame.append method is deprecated and will be removed from pandas in a future version. Use pandas.concat instead.\n",
            "  df = df.append(df_to_append,ignore_index=True)\n",
            "/var/folders/kz/xlm62_gd27156y49_11q1jx40000gn/T/ipykernel_83871/2056896889.py:9: FutureWarning: The frame.append method is deprecated and will be removed from pandas in a future version. Use pandas.concat instead.\n",
            "  df = df.append(df_to_append,ignore_index=True)\n",
            "/var/folders/kz/xlm62_gd27156y49_11q1jx40000gn/T/ipykernel_83871/2056896889.py:9: FutureWarning: The frame.append method is deprecated and will be removed from pandas in a future version. Use pandas.concat instead.\n",
            "  df = df.append(df_to_append,ignore_index=True)\n",
            "/var/folders/kz/xlm62_gd27156y49_11q1jx40000gn/T/ipykernel_83871/2056896889.py:9: FutureWarning: The frame.append method is deprecated and will be removed from pandas in a future version. Use pandas.concat instead.\n",
            "  df = df.append(df_to_append,ignore_index=True)\n",
            "/var/folders/kz/xlm62_gd27156y49_11q1jx40000gn/T/ipykernel_83871/2056896889.py:9: FutureWarning: The frame.append method is deprecated and will be removed from pandas in a future version. Use pandas.concat instead.\n",
            "  df = df.append(df_to_append,ignore_index=True)\n",
            "/var/folders/kz/xlm62_gd27156y49_11q1jx40000gn/T/ipykernel_83871/2056896889.py:9: FutureWarning: The frame.append method is deprecated and will be removed from pandas in a future version. Use pandas.concat instead.\n",
            "  df = df.append(df_to_append,ignore_index=True)\n",
            "/var/folders/kz/xlm62_gd27156y49_11q1jx40000gn/T/ipykernel_83871/2056896889.py:9: FutureWarning: The frame.append method is deprecated and will be removed from pandas in a future version. Use pandas.concat instead.\n",
            "  df = df.append(df_to_append,ignore_index=True)\n",
            "/var/folders/kz/xlm62_gd27156y49_11q1jx40000gn/T/ipykernel_83871/2056896889.py:9: FutureWarning: The frame.append method is deprecated and will be removed from pandas in a future version. Use pandas.concat instead.\n",
            "  df = df.append(df_to_append,ignore_index=True)\n",
            "/var/folders/kz/xlm62_gd27156y49_11q1jx40000gn/T/ipykernel_83871/2056896889.py:9: FutureWarning: The frame.append method is deprecated and will be removed from pandas in a future version. Use pandas.concat instead.\n",
            "  df = df.append(df_to_append,ignore_index=True)\n",
            "/var/folders/kz/xlm62_gd27156y49_11q1jx40000gn/T/ipykernel_83871/2056896889.py:9: FutureWarning: The frame.append method is deprecated and will be removed from pandas in a future version. Use pandas.concat instead.\n",
            "  df = df.append(df_to_append,ignore_index=True)\n",
            "/var/folders/kz/xlm62_gd27156y49_11q1jx40000gn/T/ipykernel_83871/2056896889.py:9: FutureWarning: The frame.append method is deprecated and will be removed from pandas in a future version. Use pandas.concat instead.\n",
            "  df = df.append(df_to_append,ignore_index=True)\n",
            "/var/folders/kz/xlm62_gd27156y49_11q1jx40000gn/T/ipykernel_83871/2056896889.py:9: FutureWarning: The frame.append method is deprecated and will be removed from pandas in a future version. Use pandas.concat instead.\n",
            "  df = df.append(df_to_append,ignore_index=True)\n",
            "/var/folders/kz/xlm62_gd27156y49_11q1jx40000gn/T/ipykernel_83871/2056896889.py:9: FutureWarning: The frame.append method is deprecated and will be removed from pandas in a future version. Use pandas.concat instead.\n",
            "  df = df.append(df_to_append,ignore_index=True)\n",
            "/var/folders/kz/xlm62_gd27156y49_11q1jx40000gn/T/ipykernel_83871/2056896889.py:9: FutureWarning: The frame.append method is deprecated and will be removed from pandas in a future version. Use pandas.concat instead.\n",
            "  df = df.append(df_to_append,ignore_index=True)\n",
            "/var/folders/kz/xlm62_gd27156y49_11q1jx40000gn/T/ipykernel_83871/2056896889.py:9: FutureWarning: The frame.append method is deprecated and will be removed from pandas in a future version. Use pandas.concat instead.\n",
            "  df = df.append(df_to_append,ignore_index=True)\n",
            "/var/folders/kz/xlm62_gd27156y49_11q1jx40000gn/T/ipykernel_83871/2056896889.py:9: FutureWarning: The frame.append method is deprecated and will be removed from pandas in a future version. Use pandas.concat instead.\n",
            "  df = df.append(df_to_append,ignore_index=True)\n",
            "/var/folders/kz/xlm62_gd27156y49_11q1jx40000gn/T/ipykernel_83871/2056896889.py:9: FutureWarning: The frame.append method is deprecated and will be removed from pandas in a future version. Use pandas.concat instead.\n",
            "  df = df.append(df_to_append,ignore_index=True)\n",
            "/var/folders/kz/xlm62_gd27156y49_11q1jx40000gn/T/ipykernel_83871/2056896889.py:9: FutureWarning: The frame.append method is deprecated and will be removed from pandas in a future version. Use pandas.concat instead.\n",
            "  df = df.append(df_to_append,ignore_index=True)\n",
            "/var/folders/kz/xlm62_gd27156y49_11q1jx40000gn/T/ipykernel_83871/2056896889.py:9: FutureWarning: The frame.append method is deprecated and will be removed from pandas in a future version. Use pandas.concat instead.\n",
            "  df = df.append(df_to_append,ignore_index=True)\n",
            "/var/folders/kz/xlm62_gd27156y49_11q1jx40000gn/T/ipykernel_83871/2056896889.py:9: FutureWarning: The frame.append method is deprecated and will be removed from pandas in a future version. Use pandas.concat instead.\n",
            "  df = df.append(df_to_append,ignore_index=True)\n",
            "/var/folders/kz/xlm62_gd27156y49_11q1jx40000gn/T/ipykernel_83871/2056896889.py:9: FutureWarning: The frame.append method is deprecated and will be removed from pandas in a future version. Use pandas.concat instead.\n",
            "  df = df.append(df_to_append,ignore_index=True)\n",
            "/var/folders/kz/xlm62_gd27156y49_11q1jx40000gn/T/ipykernel_83871/2056896889.py:9: FutureWarning: The frame.append method is deprecated and will be removed from pandas in a future version. Use pandas.concat instead.\n",
            "  df = df.append(df_to_append,ignore_index=True)\n",
            "/var/folders/kz/xlm62_gd27156y49_11q1jx40000gn/T/ipykernel_83871/2056896889.py:9: FutureWarning: The frame.append method is deprecated and will be removed from pandas in a future version. Use pandas.concat instead.\n",
            "  df = df.append(df_to_append,ignore_index=True)\n",
            "/var/folders/kz/xlm62_gd27156y49_11q1jx40000gn/T/ipykernel_83871/2056896889.py:9: FutureWarning: The frame.append method is deprecated and will be removed from pandas in a future version. Use pandas.concat instead.\n",
            "  df = df.append(df_to_append,ignore_index=True)\n",
            "/var/folders/kz/xlm62_gd27156y49_11q1jx40000gn/T/ipykernel_83871/2056896889.py:9: FutureWarning: The frame.append method is deprecated and will be removed from pandas in a future version. Use pandas.concat instead.\n",
            "  df = df.append(df_to_append,ignore_index=True)\n",
            "/var/folders/kz/xlm62_gd27156y49_11q1jx40000gn/T/ipykernel_83871/2056896889.py:9: FutureWarning: The frame.append method is deprecated and will be removed from pandas in a future version. Use pandas.concat instead.\n",
            "  df = df.append(df_to_append,ignore_index=True)\n",
            "/var/folders/kz/xlm62_gd27156y49_11q1jx40000gn/T/ipykernel_83871/2056896889.py:9: FutureWarning: The frame.append method is deprecated and will be removed from pandas in a future version. Use pandas.concat instead.\n",
            "  df = df.append(df_to_append,ignore_index=True)\n",
            "/var/folders/kz/xlm62_gd27156y49_11q1jx40000gn/T/ipykernel_83871/2056896889.py:9: FutureWarning: The frame.append method is deprecated and will be removed from pandas in a future version. Use pandas.concat instead.\n",
            "  df = df.append(df_to_append,ignore_index=True)\n",
            "/var/folders/kz/xlm62_gd27156y49_11q1jx40000gn/T/ipykernel_83871/2056896889.py:9: FutureWarning: The frame.append method is deprecated and will be removed from pandas in a future version. Use pandas.concat instead.\n",
            "  df = df.append(df_to_append,ignore_index=True)\n",
            "/var/folders/kz/xlm62_gd27156y49_11q1jx40000gn/T/ipykernel_83871/2056896889.py:9: FutureWarning: The frame.append method is deprecated and will be removed from pandas in a future version. Use pandas.concat instead.\n",
            "  df = df.append(df_to_append,ignore_index=True)\n",
            "/var/folders/kz/xlm62_gd27156y49_11q1jx40000gn/T/ipykernel_83871/2056896889.py:9: FutureWarning: The frame.append method is deprecated and will be removed from pandas in a future version. Use pandas.concat instead.\n",
            "  df = df.append(df_to_append,ignore_index=True)\n",
            "/var/folders/kz/xlm62_gd27156y49_11q1jx40000gn/T/ipykernel_83871/2056896889.py:9: FutureWarning: The frame.append method is deprecated and will be removed from pandas in a future version. Use pandas.concat instead.\n",
            "  df = df.append(df_to_append,ignore_index=True)\n",
            "/var/folders/kz/xlm62_gd27156y49_11q1jx40000gn/T/ipykernel_83871/2056896889.py:9: FutureWarning: The frame.append method is deprecated and will be removed from pandas in a future version. Use pandas.concat instead.\n",
            "  df = df.append(df_to_append,ignore_index=True)\n",
            "/var/folders/kz/xlm62_gd27156y49_11q1jx40000gn/T/ipykernel_83871/2056896889.py:9: FutureWarning: The frame.append method is deprecated and will be removed from pandas in a future version. Use pandas.concat instead.\n",
            "  df = df.append(df_to_append,ignore_index=True)\n",
            "/var/folders/kz/xlm62_gd27156y49_11q1jx40000gn/T/ipykernel_83871/2056896889.py:9: FutureWarning: The frame.append method is deprecated and will be removed from pandas in a future version. Use pandas.concat instead.\n",
            "  df = df.append(df_to_append,ignore_index=True)\n",
            "/var/folders/kz/xlm62_gd27156y49_11q1jx40000gn/T/ipykernel_83871/2056896889.py:9: FutureWarning: The frame.append method is deprecated and will be removed from pandas in a future version. Use pandas.concat instead.\n",
            "  df = df.append(df_to_append,ignore_index=True)\n",
            "/var/folders/kz/xlm62_gd27156y49_11q1jx40000gn/T/ipykernel_83871/2056896889.py:9: FutureWarning: The frame.append method is deprecated and will be removed from pandas in a future version. Use pandas.concat instead.\n",
            "  df = df.append(df_to_append,ignore_index=True)\n",
            "/var/folders/kz/xlm62_gd27156y49_11q1jx40000gn/T/ipykernel_83871/2056896889.py:9: FutureWarning: The frame.append method is deprecated and will be removed from pandas in a future version. Use pandas.concat instead.\n",
            "  df = df.append(df_to_append,ignore_index=True)\n",
            "/var/folders/kz/xlm62_gd27156y49_11q1jx40000gn/T/ipykernel_83871/2056896889.py:9: FutureWarning: The frame.append method is deprecated and will be removed from pandas in a future version. Use pandas.concat instead.\n",
            "  df = df.append(df_to_append,ignore_index=True)\n",
            "/var/folders/kz/xlm62_gd27156y49_11q1jx40000gn/T/ipykernel_83871/2056896889.py:9: FutureWarning: The frame.append method is deprecated and will be removed from pandas in a future version. Use pandas.concat instead.\n",
            "  df = df.append(df_to_append,ignore_index=True)\n",
            "/var/folders/kz/xlm62_gd27156y49_11q1jx40000gn/T/ipykernel_83871/2056896889.py:9: FutureWarning: The frame.append method is deprecated and will be removed from pandas in a future version. Use pandas.concat instead.\n",
            "  df = df.append(df_to_append,ignore_index=True)\n",
            "/var/folders/kz/xlm62_gd27156y49_11q1jx40000gn/T/ipykernel_83871/2056896889.py:9: FutureWarning: The frame.append method is deprecated and will be removed from pandas in a future version. Use pandas.concat instead.\n",
            "  df = df.append(df_to_append,ignore_index=True)\n",
            "/var/folders/kz/xlm62_gd27156y49_11q1jx40000gn/T/ipykernel_83871/2056896889.py:9: FutureWarning: The frame.append method is deprecated and will be removed from pandas in a future version. Use pandas.concat instead.\n",
            "  df = df.append(df_to_append,ignore_index=True)\n",
            "/var/folders/kz/xlm62_gd27156y49_11q1jx40000gn/T/ipykernel_83871/2056896889.py:9: FutureWarning: The frame.append method is deprecated and will be removed from pandas in a future version. Use pandas.concat instead.\n",
            "  df = df.append(df_to_append,ignore_index=True)\n",
            "/var/folders/kz/xlm62_gd27156y49_11q1jx40000gn/T/ipykernel_83871/2056896889.py:9: FutureWarning: The frame.append method is deprecated and will be removed from pandas in a future version. Use pandas.concat instead.\n",
            "  df = df.append(df_to_append,ignore_index=True)\n",
            "/var/folders/kz/xlm62_gd27156y49_11q1jx40000gn/T/ipykernel_83871/2056896889.py:9: FutureWarning: The frame.append method is deprecated and will be removed from pandas in a future version. Use pandas.concat instead.\n",
            "  df = df.append(df_to_append,ignore_index=True)\n",
            "/var/folders/kz/xlm62_gd27156y49_11q1jx40000gn/T/ipykernel_83871/2056896889.py:9: FutureWarning: The frame.append method is deprecated and will be removed from pandas in a future version. Use pandas.concat instead.\n",
            "  df = df.append(df_to_append,ignore_index=True)\n",
            "/var/folders/kz/xlm62_gd27156y49_11q1jx40000gn/T/ipykernel_83871/2056896889.py:9: FutureWarning: The frame.append method is deprecated and will be removed from pandas in a future version. Use pandas.concat instead.\n",
            "  df = df.append(df_to_append,ignore_index=True)\n",
            "/var/folders/kz/xlm62_gd27156y49_11q1jx40000gn/T/ipykernel_83871/2056896889.py:9: FutureWarning: The frame.append method is deprecated and will be removed from pandas in a future version. Use pandas.concat instead.\n",
            "  df = df.append(df_to_append,ignore_index=True)\n",
            "/var/folders/kz/xlm62_gd27156y49_11q1jx40000gn/T/ipykernel_83871/2056896889.py:9: FutureWarning: The frame.append method is deprecated and will be removed from pandas in a future version. Use pandas.concat instead.\n",
            "  df = df.append(df_to_append,ignore_index=True)\n",
            "/var/folders/kz/xlm62_gd27156y49_11q1jx40000gn/T/ipykernel_83871/2056896889.py:9: FutureWarning: The frame.append method is deprecated and will be removed from pandas in a future version. Use pandas.concat instead.\n",
            "  df = df.append(df_to_append,ignore_index=True)\n",
            "/var/folders/kz/xlm62_gd27156y49_11q1jx40000gn/T/ipykernel_83871/2056896889.py:9: FutureWarning: The frame.append method is deprecated and will be removed from pandas in a future version. Use pandas.concat instead.\n",
            "  df = df.append(df_to_append,ignore_index=True)\n",
            "/var/folders/kz/xlm62_gd27156y49_11q1jx40000gn/T/ipykernel_83871/2056896889.py:9: FutureWarning: The frame.append method is deprecated and will be removed from pandas in a future version. Use pandas.concat instead.\n",
            "  df = df.append(df_to_append,ignore_index=True)\n",
            "/var/folders/kz/xlm62_gd27156y49_11q1jx40000gn/T/ipykernel_83871/2056896889.py:9: FutureWarning: The frame.append method is deprecated and will be removed from pandas in a future version. Use pandas.concat instead.\n",
            "  df = df.append(df_to_append,ignore_index=True)\n",
            "/var/folders/kz/xlm62_gd27156y49_11q1jx40000gn/T/ipykernel_83871/2056896889.py:9: FutureWarning: The frame.append method is deprecated and will be removed from pandas in a future version. Use pandas.concat instead.\n",
            "  df = df.append(df_to_append,ignore_index=True)\n",
            "/var/folders/kz/xlm62_gd27156y49_11q1jx40000gn/T/ipykernel_83871/2056896889.py:9: FutureWarning: The frame.append method is deprecated and will be removed from pandas in a future version. Use pandas.concat instead.\n",
            "  df = df.append(df_to_append,ignore_index=True)\n",
            "/var/folders/kz/xlm62_gd27156y49_11q1jx40000gn/T/ipykernel_83871/2056896889.py:9: FutureWarning: The frame.append method is deprecated and will be removed from pandas in a future version. Use pandas.concat instead.\n",
            "  df = df.append(df_to_append,ignore_index=True)\n",
            "/var/folders/kz/xlm62_gd27156y49_11q1jx40000gn/T/ipykernel_83871/2056896889.py:9: FutureWarning: The frame.append method is deprecated and will be removed from pandas in a future version. Use pandas.concat instead.\n",
            "  df = df.append(df_to_append,ignore_index=True)\n",
            "/var/folders/kz/xlm62_gd27156y49_11q1jx40000gn/T/ipykernel_83871/2056896889.py:9: FutureWarning: The frame.append method is deprecated and will be removed from pandas in a future version. Use pandas.concat instead.\n",
            "  df = df.append(df_to_append,ignore_index=True)\n",
            "/var/folders/kz/xlm62_gd27156y49_11q1jx40000gn/T/ipykernel_83871/2056896889.py:9: FutureWarning: The frame.append method is deprecated and will be removed from pandas in a future version. Use pandas.concat instead.\n",
            "  df = df.append(df_to_append,ignore_index=True)\n",
            "/var/folders/kz/xlm62_gd27156y49_11q1jx40000gn/T/ipykernel_83871/2056896889.py:9: FutureWarning: The frame.append method is deprecated and will be removed from pandas in a future version. Use pandas.concat instead.\n",
            "  df = df.append(df_to_append,ignore_index=True)\n",
            "/var/folders/kz/xlm62_gd27156y49_11q1jx40000gn/T/ipykernel_83871/2056896889.py:9: FutureWarning: The frame.append method is deprecated and will be removed from pandas in a future version. Use pandas.concat instead.\n",
            "  df = df.append(df_to_append,ignore_index=True)\n",
            "/var/folders/kz/xlm62_gd27156y49_11q1jx40000gn/T/ipykernel_83871/2056896889.py:9: FutureWarning: The frame.append method is deprecated and will be removed from pandas in a future version. Use pandas.concat instead.\n",
            "  df = df.append(df_to_append,ignore_index=True)\n",
            "/var/folders/kz/xlm62_gd27156y49_11q1jx40000gn/T/ipykernel_83871/2056896889.py:9: FutureWarning: The frame.append method is deprecated and will be removed from pandas in a future version. Use pandas.concat instead.\n",
            "  df = df.append(df_to_append,ignore_index=True)\n",
            "/var/folders/kz/xlm62_gd27156y49_11q1jx40000gn/T/ipykernel_83871/2056896889.py:9: FutureWarning: The frame.append method is deprecated and will be removed from pandas in a future version. Use pandas.concat instead.\n",
            "  df = df.append(df_to_append,ignore_index=True)\n",
            "/var/folders/kz/xlm62_gd27156y49_11q1jx40000gn/T/ipykernel_83871/2056896889.py:9: FutureWarning: The frame.append method is deprecated and will be removed from pandas in a future version. Use pandas.concat instead.\n",
            "  df = df.append(df_to_append,ignore_index=True)\n",
            "/var/folders/kz/xlm62_gd27156y49_11q1jx40000gn/T/ipykernel_83871/2056896889.py:9: FutureWarning: The frame.append method is deprecated and will be removed from pandas in a future version. Use pandas.concat instead.\n",
            "  df = df.append(df_to_append,ignore_index=True)\n",
            "/var/folders/kz/xlm62_gd27156y49_11q1jx40000gn/T/ipykernel_83871/2056896889.py:9: FutureWarning: The frame.append method is deprecated and will be removed from pandas in a future version. Use pandas.concat instead.\n",
            "  df = df.append(df_to_append,ignore_index=True)\n",
            "/var/folders/kz/xlm62_gd27156y49_11q1jx40000gn/T/ipykernel_83871/2056896889.py:9: FutureWarning: The frame.append method is deprecated and will be removed from pandas in a future version. Use pandas.concat instead.\n",
            "  df = df.append(df_to_append,ignore_index=True)\n",
            "/var/folders/kz/xlm62_gd27156y49_11q1jx40000gn/T/ipykernel_83871/2056896889.py:9: FutureWarning: The frame.append method is deprecated and will be removed from pandas in a future version. Use pandas.concat instead.\n",
            "  df = df.append(df_to_append,ignore_index=True)\n",
            "/var/folders/kz/xlm62_gd27156y49_11q1jx40000gn/T/ipykernel_83871/2056896889.py:9: FutureWarning: The frame.append method is deprecated and will be removed from pandas in a future version. Use pandas.concat instead.\n",
            "  df = df.append(df_to_append,ignore_index=True)\n",
            "/var/folders/kz/xlm62_gd27156y49_11q1jx40000gn/T/ipykernel_83871/2056896889.py:9: FutureWarning: The frame.append method is deprecated and will be removed from pandas in a future version. Use pandas.concat instead.\n",
            "  df = df.append(df_to_append,ignore_index=True)\n",
            "/var/folders/kz/xlm62_gd27156y49_11q1jx40000gn/T/ipykernel_83871/2056896889.py:9: FutureWarning: The frame.append method is deprecated and will be removed from pandas in a future version. Use pandas.concat instead.\n",
            "  df = df.append(df_to_append,ignore_index=True)\n",
            "/var/folders/kz/xlm62_gd27156y49_11q1jx40000gn/T/ipykernel_83871/2056896889.py:9: FutureWarning: The frame.append method is deprecated and will be removed from pandas in a future version. Use pandas.concat instead.\n",
            "  df = df.append(df_to_append,ignore_index=True)\n",
            "/var/folders/kz/xlm62_gd27156y49_11q1jx40000gn/T/ipykernel_83871/2056896889.py:9: FutureWarning: The frame.append method is deprecated and will be removed from pandas in a future version. Use pandas.concat instead.\n",
            "  df = df.append(df_to_append,ignore_index=True)\n",
            "/var/folders/kz/xlm62_gd27156y49_11q1jx40000gn/T/ipykernel_83871/2056896889.py:9: FutureWarning: The frame.append method is deprecated and will be removed from pandas in a future version. Use pandas.concat instead.\n",
            "  df = df.append(df_to_append,ignore_index=True)\n",
            "/var/folders/kz/xlm62_gd27156y49_11q1jx40000gn/T/ipykernel_83871/2056896889.py:9: FutureWarning: The frame.append method is deprecated and will be removed from pandas in a future version. Use pandas.concat instead.\n",
            "  df = df.append(df_to_append,ignore_index=True)\n",
            "/var/folders/kz/xlm62_gd27156y49_11q1jx40000gn/T/ipykernel_83871/2056896889.py:9: FutureWarning: The frame.append method is deprecated and will be removed from pandas in a future version. Use pandas.concat instead.\n",
            "  df = df.append(df_to_append,ignore_index=True)\n",
            "/var/folders/kz/xlm62_gd27156y49_11q1jx40000gn/T/ipykernel_83871/2056896889.py:9: FutureWarning: The frame.append method is deprecated and will be removed from pandas in a future version. Use pandas.concat instead.\n",
            "  df = df.append(df_to_append,ignore_index=True)\n",
            "/var/folders/kz/xlm62_gd27156y49_11q1jx40000gn/T/ipykernel_83871/2056896889.py:9: FutureWarning: The frame.append method is deprecated and will be removed from pandas in a future version. Use pandas.concat instead.\n",
            "  df = df.append(df_to_append,ignore_index=True)\n",
            "/var/folders/kz/xlm62_gd27156y49_11q1jx40000gn/T/ipykernel_83871/2056896889.py:9: FutureWarning: The frame.append method is deprecated and will be removed from pandas in a future version. Use pandas.concat instead.\n",
            "  df = df.append(df_to_append,ignore_index=True)\n",
            "/var/folders/kz/xlm62_gd27156y49_11q1jx40000gn/T/ipykernel_83871/2056896889.py:9: FutureWarning: The frame.append method is deprecated and will be removed from pandas in a future version. Use pandas.concat instead.\n",
            "  df = df.append(df_to_append,ignore_index=True)\n",
            "/var/folders/kz/xlm62_gd27156y49_11q1jx40000gn/T/ipykernel_83871/2056896889.py:9: FutureWarning: The frame.append method is deprecated and will be removed from pandas in a future version. Use pandas.concat instead.\n",
            "  df = df.append(df_to_append,ignore_index=True)\n",
            "/var/folders/kz/xlm62_gd27156y49_11q1jx40000gn/T/ipykernel_83871/2056896889.py:9: FutureWarning: The frame.append method is deprecated and will be removed from pandas in a future version. Use pandas.concat instead.\n",
            "  df = df.append(df_to_append,ignore_index=True)\n",
            "/var/folders/kz/xlm62_gd27156y49_11q1jx40000gn/T/ipykernel_83871/2056896889.py:9: FutureWarning: The frame.append method is deprecated and will be removed from pandas in a future version. Use pandas.concat instead.\n",
            "  df = df.append(df_to_append,ignore_index=True)\n",
            "/var/folders/kz/xlm62_gd27156y49_11q1jx40000gn/T/ipykernel_83871/2056896889.py:9: FutureWarning: The frame.append method is deprecated and will be removed from pandas in a future version. Use pandas.concat instead.\n",
            "  df = df.append(df_to_append,ignore_index=True)\n",
            "/var/folders/kz/xlm62_gd27156y49_11q1jx40000gn/T/ipykernel_83871/2056896889.py:9: FutureWarning: The frame.append method is deprecated and will be removed from pandas in a future version. Use pandas.concat instead.\n",
            "  df = df.append(df_to_append,ignore_index=True)\n",
            "/var/folders/kz/xlm62_gd27156y49_11q1jx40000gn/T/ipykernel_83871/2056896889.py:9: FutureWarning: The frame.append method is deprecated and will be removed from pandas in a future version. Use pandas.concat instead.\n",
            "  df = df.append(df_to_append,ignore_index=True)\n",
            "/var/folders/kz/xlm62_gd27156y49_11q1jx40000gn/T/ipykernel_83871/2056896889.py:9: FutureWarning: The frame.append method is deprecated and will be removed from pandas in a future version. Use pandas.concat instead.\n",
            "  df = df.append(df_to_append,ignore_index=True)\n",
            "/var/folders/kz/xlm62_gd27156y49_11q1jx40000gn/T/ipykernel_83871/2056896889.py:9: FutureWarning: The frame.append method is deprecated and will be removed from pandas in a future version. Use pandas.concat instead.\n",
            "  df = df.append(df_to_append,ignore_index=True)\n",
            "/var/folders/kz/xlm62_gd27156y49_11q1jx40000gn/T/ipykernel_83871/2056896889.py:9: FutureWarning: The frame.append method is deprecated and will be removed from pandas in a future version. Use pandas.concat instead.\n",
            "  df = df.append(df_to_append,ignore_index=True)\n",
            "/var/folders/kz/xlm62_gd27156y49_11q1jx40000gn/T/ipykernel_83871/2056896889.py:9: FutureWarning: The frame.append method is deprecated and will be removed from pandas in a future version. Use pandas.concat instead.\n",
            "  df = df.append(df_to_append,ignore_index=True)\n",
            "/var/folders/kz/xlm62_gd27156y49_11q1jx40000gn/T/ipykernel_83871/2056896889.py:9: FutureWarning: The frame.append method is deprecated and will be removed from pandas in a future version. Use pandas.concat instead.\n",
            "  df = df.append(df_to_append,ignore_index=True)\n",
            "/var/folders/kz/xlm62_gd27156y49_11q1jx40000gn/T/ipykernel_83871/2056896889.py:9: FutureWarning: The frame.append method is deprecated and will be removed from pandas in a future version. Use pandas.concat instead.\n",
            "  df = df.append(df_to_append,ignore_index=True)\n",
            "/var/folders/kz/xlm62_gd27156y49_11q1jx40000gn/T/ipykernel_83871/2056896889.py:9: FutureWarning: The frame.append method is deprecated and will be removed from pandas in a future version. Use pandas.concat instead.\n",
            "  df = df.append(df_to_append,ignore_index=True)\n",
            "/var/folders/kz/xlm62_gd27156y49_11q1jx40000gn/T/ipykernel_83871/2056896889.py:9: FutureWarning: The frame.append method is deprecated and will be removed from pandas in a future version. Use pandas.concat instead.\n",
            "  df = df.append(df_to_append,ignore_index=True)\n",
            "/var/folders/kz/xlm62_gd27156y49_11q1jx40000gn/T/ipykernel_83871/2056896889.py:9: FutureWarning: The frame.append method is deprecated and will be removed from pandas in a future version. Use pandas.concat instead.\n",
            "  df = df.append(df_to_append,ignore_index=True)\n",
            "/var/folders/kz/xlm62_gd27156y49_11q1jx40000gn/T/ipykernel_83871/2056896889.py:9: FutureWarning: The frame.append method is deprecated and will be removed from pandas in a future version. Use pandas.concat instead.\n",
            "  df = df.append(df_to_append,ignore_index=True)\n",
            "/var/folders/kz/xlm62_gd27156y49_11q1jx40000gn/T/ipykernel_83871/2056896889.py:9: FutureWarning: The frame.append method is deprecated and will be removed from pandas in a future version. Use pandas.concat instead.\n",
            "  df = df.append(df_to_append,ignore_index=True)\n",
            "/var/folders/kz/xlm62_gd27156y49_11q1jx40000gn/T/ipykernel_83871/2056896889.py:9: FutureWarning: The frame.append method is deprecated and will be removed from pandas in a future version. Use pandas.concat instead.\n",
            "  df = df.append(df_to_append,ignore_index=True)\n",
            "/var/folders/kz/xlm62_gd27156y49_11q1jx40000gn/T/ipykernel_83871/2056896889.py:9: FutureWarning: The frame.append method is deprecated and will be removed from pandas in a future version. Use pandas.concat instead.\n",
            "  df = df.append(df_to_append,ignore_index=True)\n",
            "/var/folders/kz/xlm62_gd27156y49_11q1jx40000gn/T/ipykernel_83871/2056896889.py:9: FutureWarning: The frame.append method is deprecated and will be removed from pandas in a future version. Use pandas.concat instead.\n",
            "  df = df.append(df_to_append,ignore_index=True)\n",
            "/var/folders/kz/xlm62_gd27156y49_11q1jx40000gn/T/ipykernel_83871/2056896889.py:9: FutureWarning: The frame.append method is deprecated and will be removed from pandas in a future version. Use pandas.concat instead.\n",
            "  df = df.append(df_to_append,ignore_index=True)\n",
            "/var/folders/kz/xlm62_gd27156y49_11q1jx40000gn/T/ipykernel_83871/2056896889.py:9: FutureWarning: The frame.append method is deprecated and will be removed from pandas in a future version. Use pandas.concat instead.\n",
            "  df = df.append(df_to_append,ignore_index=True)\n",
            "/var/folders/kz/xlm62_gd27156y49_11q1jx40000gn/T/ipykernel_83871/2056896889.py:9: FutureWarning: The frame.append method is deprecated and will be removed from pandas in a future version. Use pandas.concat instead.\n",
            "  df = df.append(df_to_append,ignore_index=True)\n",
            "/var/folders/kz/xlm62_gd27156y49_11q1jx40000gn/T/ipykernel_83871/2056896889.py:9: FutureWarning: The frame.append method is deprecated and will be removed from pandas in a future version. Use pandas.concat instead.\n",
            "  df = df.append(df_to_append,ignore_index=True)\n",
            "/var/folders/kz/xlm62_gd27156y49_11q1jx40000gn/T/ipykernel_83871/2056896889.py:9: FutureWarning: The frame.append method is deprecated and will be removed from pandas in a future version. Use pandas.concat instead.\n",
            "  df = df.append(df_to_append,ignore_index=True)\n",
            "/var/folders/kz/xlm62_gd27156y49_11q1jx40000gn/T/ipykernel_83871/2056896889.py:9: FutureWarning: The frame.append method is deprecated and will be removed from pandas in a future version. Use pandas.concat instead.\n",
            "  df = df.append(df_to_append,ignore_index=True)\n",
            "/var/folders/kz/xlm62_gd27156y49_11q1jx40000gn/T/ipykernel_83871/2056896889.py:9: FutureWarning: The frame.append method is deprecated and will be removed from pandas in a future version. Use pandas.concat instead.\n",
            "  df = df.append(df_to_append,ignore_index=True)\n",
            "/var/folders/kz/xlm62_gd27156y49_11q1jx40000gn/T/ipykernel_83871/2056896889.py:9: FutureWarning: The frame.append method is deprecated and will be removed from pandas in a future version. Use pandas.concat instead.\n",
            "  df = df.append(df_to_append,ignore_index=True)\n",
            "/var/folders/kz/xlm62_gd27156y49_11q1jx40000gn/T/ipykernel_83871/2056896889.py:9: FutureWarning: The frame.append method is deprecated and will be removed from pandas in a future version. Use pandas.concat instead.\n",
            "  df = df.append(df_to_append,ignore_index=True)\n",
            "/var/folders/kz/xlm62_gd27156y49_11q1jx40000gn/T/ipykernel_83871/2056896889.py:9: FutureWarning: The frame.append method is deprecated and will be removed from pandas in a future version. Use pandas.concat instead.\n",
            "  df = df.append(df_to_append,ignore_index=True)\n",
            "/var/folders/kz/xlm62_gd27156y49_11q1jx40000gn/T/ipykernel_83871/2056896889.py:9: FutureWarning: The frame.append method is deprecated and will be removed from pandas in a future version. Use pandas.concat instead.\n",
            "  df = df.append(df_to_append,ignore_index=True)\n",
            "/var/folders/kz/xlm62_gd27156y49_11q1jx40000gn/T/ipykernel_83871/2056896889.py:9: FutureWarning: The frame.append method is deprecated and will be removed from pandas in a future version. Use pandas.concat instead.\n",
            "  df = df.append(df_to_append,ignore_index=True)\n",
            "/var/folders/kz/xlm62_gd27156y49_11q1jx40000gn/T/ipykernel_83871/2056896889.py:9: FutureWarning: The frame.append method is deprecated and will be removed from pandas in a future version. Use pandas.concat instead.\n",
            "  df = df.append(df_to_append,ignore_index=True)\n",
            "/var/folders/kz/xlm62_gd27156y49_11q1jx40000gn/T/ipykernel_83871/2056896889.py:9: FutureWarning: The frame.append method is deprecated and will be removed from pandas in a future version. Use pandas.concat instead.\n",
            "  df = df.append(df_to_append,ignore_index=True)\n",
            "/var/folders/kz/xlm62_gd27156y49_11q1jx40000gn/T/ipykernel_83871/2056896889.py:9: FutureWarning: The frame.append method is deprecated and will be removed from pandas in a future version. Use pandas.concat instead.\n",
            "  df = df.append(df_to_append,ignore_index=True)\n",
            "/var/folders/kz/xlm62_gd27156y49_11q1jx40000gn/T/ipykernel_83871/2056896889.py:9: FutureWarning: The frame.append method is deprecated and will be removed from pandas in a future version. Use pandas.concat instead.\n",
            "  df = df.append(df_to_append,ignore_index=True)\n",
            "/var/folders/kz/xlm62_gd27156y49_11q1jx40000gn/T/ipykernel_83871/2056896889.py:9: FutureWarning: The frame.append method is deprecated and will be removed from pandas in a future version. Use pandas.concat instead.\n",
            "  df = df.append(df_to_append,ignore_index=True)\n",
            "/var/folders/kz/xlm62_gd27156y49_11q1jx40000gn/T/ipykernel_83871/2056896889.py:9: FutureWarning: The frame.append method is deprecated and will be removed from pandas in a future version. Use pandas.concat instead.\n",
            "  df = df.append(df_to_append,ignore_index=True)\n",
            "/var/folders/kz/xlm62_gd27156y49_11q1jx40000gn/T/ipykernel_83871/2056896889.py:9: FutureWarning: The frame.append method is deprecated and will be removed from pandas in a future version. Use pandas.concat instead.\n",
            "  df = df.append(df_to_append,ignore_index=True)\n",
            "/var/folders/kz/xlm62_gd27156y49_11q1jx40000gn/T/ipykernel_83871/2056896889.py:9: FutureWarning: The frame.append method is deprecated and will be removed from pandas in a future version. Use pandas.concat instead.\n",
            "  df = df.append(df_to_append,ignore_index=True)\n",
            "/var/folders/kz/xlm62_gd27156y49_11q1jx40000gn/T/ipykernel_83871/2056896889.py:9: FutureWarning: The frame.append method is deprecated and will be removed from pandas in a future version. Use pandas.concat instead.\n",
            "  df = df.append(df_to_append,ignore_index=True)\n",
            "/var/folders/kz/xlm62_gd27156y49_11q1jx40000gn/T/ipykernel_83871/2056896889.py:9: FutureWarning: The frame.append method is deprecated and will be removed from pandas in a future version. Use pandas.concat instead.\n",
            "  df = df.append(df_to_append,ignore_index=True)\n",
            "/var/folders/kz/xlm62_gd27156y49_11q1jx40000gn/T/ipykernel_83871/2056896889.py:9: FutureWarning: The frame.append method is deprecated and will be removed from pandas in a future version. Use pandas.concat instead.\n",
            "  df = df.append(df_to_append,ignore_index=True)\n",
            "/var/folders/kz/xlm62_gd27156y49_11q1jx40000gn/T/ipykernel_83871/2056896889.py:9: FutureWarning: The frame.append method is deprecated and will be removed from pandas in a future version. Use pandas.concat instead.\n",
            "  df = df.append(df_to_append,ignore_index=True)\n",
            "/var/folders/kz/xlm62_gd27156y49_11q1jx40000gn/T/ipykernel_83871/2056896889.py:9: FutureWarning: The frame.append method is deprecated and will be removed from pandas in a future version. Use pandas.concat instead.\n",
            "  df = df.append(df_to_append,ignore_index=True)\n",
            "/var/folders/kz/xlm62_gd27156y49_11q1jx40000gn/T/ipykernel_83871/2056896889.py:9: FutureWarning: The frame.append method is deprecated and will be removed from pandas in a future version. Use pandas.concat instead.\n",
            "  df = df.append(df_to_append,ignore_index=True)\n",
            "/var/folders/kz/xlm62_gd27156y49_11q1jx40000gn/T/ipykernel_83871/2056896889.py:9: FutureWarning: The frame.append method is deprecated and will be removed from pandas in a future version. Use pandas.concat instead.\n",
            "  df = df.append(df_to_append,ignore_index=True)\n",
            "/var/folders/kz/xlm62_gd27156y49_11q1jx40000gn/T/ipykernel_83871/2056896889.py:9: FutureWarning: The frame.append method is deprecated and will be removed from pandas in a future version. Use pandas.concat instead.\n",
            "  df = df.append(df_to_append,ignore_index=True)\n",
            "/var/folders/kz/xlm62_gd27156y49_11q1jx40000gn/T/ipykernel_83871/2056896889.py:9: FutureWarning: The frame.append method is deprecated and will be removed from pandas in a future version. Use pandas.concat instead.\n",
            "  df = df.append(df_to_append,ignore_index=True)\n",
            "/var/folders/kz/xlm62_gd27156y49_11q1jx40000gn/T/ipykernel_83871/2056896889.py:9: FutureWarning: The frame.append method is deprecated and will be removed from pandas in a future version. Use pandas.concat instead.\n",
            "  df = df.append(df_to_append,ignore_index=True)\n",
            "/var/folders/kz/xlm62_gd27156y49_11q1jx40000gn/T/ipykernel_83871/2056896889.py:9: FutureWarning: The frame.append method is deprecated and will be removed from pandas in a future version. Use pandas.concat instead.\n",
            "  df = df.append(df_to_append,ignore_index=True)\n",
            "/var/folders/kz/xlm62_gd27156y49_11q1jx40000gn/T/ipykernel_83871/2056896889.py:9: FutureWarning: The frame.append method is deprecated and will be removed from pandas in a future version. Use pandas.concat instead.\n",
            "  df = df.append(df_to_append,ignore_index=True)\n",
            "/var/folders/kz/xlm62_gd27156y49_11q1jx40000gn/T/ipykernel_83871/2056896889.py:9: FutureWarning: The frame.append method is deprecated and will be removed from pandas in a future version. Use pandas.concat instead.\n",
            "  df = df.append(df_to_append,ignore_index=True)\n",
            "/var/folders/kz/xlm62_gd27156y49_11q1jx40000gn/T/ipykernel_83871/2056896889.py:9: FutureWarning: The frame.append method is deprecated and will be removed from pandas in a future version. Use pandas.concat instead.\n",
            "  df = df.append(df_to_append,ignore_index=True)\n",
            "/var/folders/kz/xlm62_gd27156y49_11q1jx40000gn/T/ipykernel_83871/2056896889.py:9: FutureWarning: The frame.append method is deprecated and will be removed from pandas in a future version. Use pandas.concat instead.\n",
            "  df = df.append(df_to_append,ignore_index=True)\n",
            "/var/folders/kz/xlm62_gd27156y49_11q1jx40000gn/T/ipykernel_83871/2056896889.py:9: FutureWarning: The frame.append method is deprecated and will be removed from pandas in a future version. Use pandas.concat instead.\n",
            "  df = df.append(df_to_append,ignore_index=True)\n",
            "/var/folders/kz/xlm62_gd27156y49_11q1jx40000gn/T/ipykernel_83871/2056896889.py:9: FutureWarning: The frame.append method is deprecated and will be removed from pandas in a future version. Use pandas.concat instead.\n",
            "  df = df.append(df_to_append,ignore_index=True)\n",
            "/var/folders/kz/xlm62_gd27156y49_11q1jx40000gn/T/ipykernel_83871/2056896889.py:9: FutureWarning: The frame.append method is deprecated and will be removed from pandas in a future version. Use pandas.concat instead.\n",
            "  df = df.append(df_to_append,ignore_index=True)\n",
            "/var/folders/kz/xlm62_gd27156y49_11q1jx40000gn/T/ipykernel_83871/2056896889.py:9: FutureWarning: The frame.append method is deprecated and will be removed from pandas in a future version. Use pandas.concat instead.\n",
            "  df = df.append(df_to_append,ignore_index=True)\n",
            "/var/folders/kz/xlm62_gd27156y49_11q1jx40000gn/T/ipykernel_83871/2056896889.py:9: FutureWarning: The frame.append method is deprecated and will be removed from pandas in a future version. Use pandas.concat instead.\n",
            "  df = df.append(df_to_append,ignore_index=True)\n",
            "/var/folders/kz/xlm62_gd27156y49_11q1jx40000gn/T/ipykernel_83871/2056896889.py:9: FutureWarning: The frame.append method is deprecated and will be removed from pandas in a future version. Use pandas.concat instead.\n",
            "  df = df.append(df_to_append,ignore_index=True)\n",
            "/var/folders/kz/xlm62_gd27156y49_11q1jx40000gn/T/ipykernel_83871/2056896889.py:9: FutureWarning: The frame.append method is deprecated and will be removed from pandas in a future version. Use pandas.concat instead.\n",
            "  df = df.append(df_to_append,ignore_index=True)\n",
            "/var/folders/kz/xlm62_gd27156y49_11q1jx40000gn/T/ipykernel_83871/2056896889.py:9: FutureWarning: The frame.append method is deprecated and will be removed from pandas in a future version. Use pandas.concat instead.\n",
            "  df = df.append(df_to_append,ignore_index=True)\n",
            "/var/folders/kz/xlm62_gd27156y49_11q1jx40000gn/T/ipykernel_83871/2056896889.py:9: FutureWarning: The frame.append method is deprecated and will be removed from pandas in a future version. Use pandas.concat instead.\n",
            "  df = df.append(df_to_append,ignore_index=True)\n",
            "/var/folders/kz/xlm62_gd27156y49_11q1jx40000gn/T/ipykernel_83871/2056896889.py:9: FutureWarning: The frame.append method is deprecated and will be removed from pandas in a future version. Use pandas.concat instead.\n",
            "  df = df.append(df_to_append,ignore_index=True)\n",
            "/var/folders/kz/xlm62_gd27156y49_11q1jx40000gn/T/ipykernel_83871/2056896889.py:9: FutureWarning: The frame.append method is deprecated and will be removed from pandas in a future version. Use pandas.concat instead.\n",
            "  df = df.append(df_to_append,ignore_index=True)\n",
            "/var/folders/kz/xlm62_gd27156y49_11q1jx40000gn/T/ipykernel_83871/2056896889.py:9: FutureWarning: The frame.append method is deprecated and will be removed from pandas in a future version. Use pandas.concat instead.\n",
            "  df = df.append(df_to_append,ignore_index=True)\n",
            "/var/folders/kz/xlm62_gd27156y49_11q1jx40000gn/T/ipykernel_83871/2056896889.py:9: FutureWarning: The frame.append method is deprecated and will be removed from pandas in a future version. Use pandas.concat instead.\n",
            "  df = df.append(df_to_append,ignore_index=True)\n",
            "/var/folders/kz/xlm62_gd27156y49_11q1jx40000gn/T/ipykernel_83871/2056896889.py:9: FutureWarning: The frame.append method is deprecated and will be removed from pandas in a future version. Use pandas.concat instead.\n",
            "  df = df.append(df_to_append,ignore_index=True)\n",
            "/var/folders/kz/xlm62_gd27156y49_11q1jx40000gn/T/ipykernel_83871/2056896889.py:9: FutureWarning: The frame.append method is deprecated and will be removed from pandas in a future version. Use pandas.concat instead.\n",
            "  df = df.append(df_to_append,ignore_index=True)\n",
            "/var/folders/kz/xlm62_gd27156y49_11q1jx40000gn/T/ipykernel_83871/2056896889.py:9: FutureWarning: The frame.append method is deprecated and will be removed from pandas in a future version. Use pandas.concat instead.\n",
            "  df = df.append(df_to_append,ignore_index=True)\n",
            "/var/folders/kz/xlm62_gd27156y49_11q1jx40000gn/T/ipykernel_83871/2056896889.py:9: FutureWarning: The frame.append method is deprecated and will be removed from pandas in a future version. Use pandas.concat instead.\n",
            "  df = df.append(df_to_append,ignore_index=True)\n",
            "/var/folders/kz/xlm62_gd27156y49_11q1jx40000gn/T/ipykernel_83871/2056896889.py:9: FutureWarning: The frame.append method is deprecated and will be removed from pandas in a future version. Use pandas.concat instead.\n",
            "  df = df.append(df_to_append,ignore_index=True)\n",
            "/var/folders/kz/xlm62_gd27156y49_11q1jx40000gn/T/ipykernel_83871/2056896889.py:9: FutureWarning: The frame.append method is deprecated and will be removed from pandas in a future version. Use pandas.concat instead.\n",
            "  df = df.append(df_to_append,ignore_index=True)\n",
            "/var/folders/kz/xlm62_gd27156y49_11q1jx40000gn/T/ipykernel_83871/2056896889.py:9: FutureWarning: The frame.append method is deprecated and will be removed from pandas in a future version. Use pandas.concat instead.\n",
            "  df = df.append(df_to_append,ignore_index=True)\n",
            "/var/folders/kz/xlm62_gd27156y49_11q1jx40000gn/T/ipykernel_83871/2056896889.py:9: FutureWarning: The frame.append method is deprecated and will be removed from pandas in a future version. Use pandas.concat instead.\n",
            "  df = df.append(df_to_append,ignore_index=True)\n",
            "/var/folders/kz/xlm62_gd27156y49_11q1jx40000gn/T/ipykernel_83871/2056896889.py:9: FutureWarning: The frame.append method is deprecated and will be removed from pandas in a future version. Use pandas.concat instead.\n",
            "  df = df.append(df_to_append,ignore_index=True)\n",
            "/var/folders/kz/xlm62_gd27156y49_11q1jx40000gn/T/ipykernel_83871/2056896889.py:9: FutureWarning: The frame.append method is deprecated and will be removed from pandas in a future version. Use pandas.concat instead.\n",
            "  df = df.append(df_to_append,ignore_index=True)\n",
            "/var/folders/kz/xlm62_gd27156y49_11q1jx40000gn/T/ipykernel_83871/2056896889.py:9: FutureWarning: The frame.append method is deprecated and will be removed from pandas in a future version. Use pandas.concat instead.\n",
            "  df = df.append(df_to_append,ignore_index=True)\n",
            "/var/folders/kz/xlm62_gd27156y49_11q1jx40000gn/T/ipykernel_83871/2056896889.py:9: FutureWarning: The frame.append method is deprecated and will be removed from pandas in a future version. Use pandas.concat instead.\n",
            "  df = df.append(df_to_append,ignore_index=True)\n",
            "/var/folders/kz/xlm62_gd27156y49_11q1jx40000gn/T/ipykernel_83871/2056896889.py:9: FutureWarning: The frame.append method is deprecated and will be removed from pandas in a future version. Use pandas.concat instead.\n",
            "  df = df.append(df_to_append,ignore_index=True)\n",
            "/var/folders/kz/xlm62_gd27156y49_11q1jx40000gn/T/ipykernel_83871/2056896889.py:9: FutureWarning: The frame.append method is deprecated and will be removed from pandas in a future version. Use pandas.concat instead.\n",
            "  df = df.append(df_to_append,ignore_index=True)\n",
            "/var/folders/kz/xlm62_gd27156y49_11q1jx40000gn/T/ipykernel_83871/2056896889.py:9: FutureWarning: The frame.append method is deprecated and will be removed from pandas in a future version. Use pandas.concat instead.\n",
            "  df = df.append(df_to_append,ignore_index=True)\n",
            "/var/folders/kz/xlm62_gd27156y49_11q1jx40000gn/T/ipykernel_83871/2056896889.py:9: FutureWarning: The frame.append method is deprecated and will be removed from pandas in a future version. Use pandas.concat instead.\n",
            "  df = df.append(df_to_append,ignore_index=True)\n",
            "/var/folders/kz/xlm62_gd27156y49_11q1jx40000gn/T/ipykernel_83871/2056896889.py:9: FutureWarning: The frame.append method is deprecated and will be removed from pandas in a future version. Use pandas.concat instead.\n",
            "  df = df.append(df_to_append,ignore_index=True)\n",
            "/var/folders/kz/xlm62_gd27156y49_11q1jx40000gn/T/ipykernel_83871/2056896889.py:9: FutureWarning: The frame.append method is deprecated and will be removed from pandas in a future version. Use pandas.concat instead.\n",
            "  df = df.append(df_to_append,ignore_index=True)\n",
            "/var/folders/kz/xlm62_gd27156y49_11q1jx40000gn/T/ipykernel_83871/2056896889.py:9: FutureWarning: The frame.append method is deprecated and will be removed from pandas in a future version. Use pandas.concat instead.\n",
            "  df = df.append(df_to_append,ignore_index=True)\n",
            "/var/folders/kz/xlm62_gd27156y49_11q1jx40000gn/T/ipykernel_83871/2056896889.py:9: FutureWarning: The frame.append method is deprecated and will be removed from pandas in a future version. Use pandas.concat instead.\n",
            "  df = df.append(df_to_append,ignore_index=True)\n",
            "/var/folders/kz/xlm62_gd27156y49_11q1jx40000gn/T/ipykernel_83871/2056896889.py:9: FutureWarning: The frame.append method is deprecated and will be removed from pandas in a future version. Use pandas.concat instead.\n",
            "  df = df.append(df_to_append,ignore_index=True)\n",
            "/var/folders/kz/xlm62_gd27156y49_11q1jx40000gn/T/ipykernel_83871/2056896889.py:9: FutureWarning: The frame.append method is deprecated and will be removed from pandas in a future version. Use pandas.concat instead.\n",
            "  df = df.append(df_to_append,ignore_index=True)\n",
            "/var/folders/kz/xlm62_gd27156y49_11q1jx40000gn/T/ipykernel_83871/2056896889.py:9: FutureWarning: The frame.append method is deprecated and will be removed from pandas in a future version. Use pandas.concat instead.\n",
            "  df = df.append(df_to_append,ignore_index=True)\n",
            "/var/folders/kz/xlm62_gd27156y49_11q1jx40000gn/T/ipykernel_83871/2056896889.py:9: FutureWarning: The frame.append method is deprecated and will be removed from pandas in a future version. Use pandas.concat instead.\n",
            "  df = df.append(df_to_append,ignore_index=True)\n",
            "/var/folders/kz/xlm62_gd27156y49_11q1jx40000gn/T/ipykernel_83871/2056896889.py:9: FutureWarning: The frame.append method is deprecated and will be removed from pandas in a future version. Use pandas.concat instead.\n",
            "  df = df.append(df_to_append,ignore_index=True)\n",
            "/var/folders/kz/xlm62_gd27156y49_11q1jx40000gn/T/ipykernel_83871/2056896889.py:9: FutureWarning: The frame.append method is deprecated and will be removed from pandas in a future version. Use pandas.concat instead.\n",
            "  df = df.append(df_to_append,ignore_index=True)\n",
            "/var/folders/kz/xlm62_gd27156y49_11q1jx40000gn/T/ipykernel_83871/2056896889.py:9: FutureWarning: The frame.append method is deprecated and will be removed from pandas in a future version. Use pandas.concat instead.\n",
            "  df = df.append(df_to_append,ignore_index=True)\n",
            "/var/folders/kz/xlm62_gd27156y49_11q1jx40000gn/T/ipykernel_83871/2056896889.py:9: FutureWarning: The frame.append method is deprecated and will be removed from pandas in a future version. Use pandas.concat instead.\n",
            "  df = df.append(df_to_append,ignore_index=True)\n",
            "/var/folders/kz/xlm62_gd27156y49_11q1jx40000gn/T/ipykernel_83871/2056896889.py:9: FutureWarning: The frame.append method is deprecated and will be removed from pandas in a future version. Use pandas.concat instead.\n",
            "  df = df.append(df_to_append,ignore_index=True)\n",
            "/var/folders/kz/xlm62_gd27156y49_11q1jx40000gn/T/ipykernel_83871/2056896889.py:9: FutureWarning: The frame.append method is deprecated and will be removed from pandas in a future version. Use pandas.concat instead.\n",
            "  df = df.append(df_to_append,ignore_index=True)\n",
            "/var/folders/kz/xlm62_gd27156y49_11q1jx40000gn/T/ipykernel_83871/2056896889.py:9: FutureWarning: The frame.append method is deprecated and will be removed from pandas in a future version. Use pandas.concat instead.\n",
            "  df = df.append(df_to_append,ignore_index=True)\n",
            "/var/folders/kz/xlm62_gd27156y49_11q1jx40000gn/T/ipykernel_83871/2056896889.py:9: FutureWarning: The frame.append method is deprecated and will be removed from pandas in a future version. Use pandas.concat instead.\n",
            "  df = df.append(df_to_append,ignore_index=True)\n",
            "/var/folders/kz/xlm62_gd27156y49_11q1jx40000gn/T/ipykernel_83871/2056896889.py:9: FutureWarning: The frame.append method is deprecated and will be removed from pandas in a future version. Use pandas.concat instead.\n",
            "  df = df.append(df_to_append,ignore_index=True)\n",
            "/var/folders/kz/xlm62_gd27156y49_11q1jx40000gn/T/ipykernel_83871/2056896889.py:9: FutureWarning: The frame.append method is deprecated and will be removed from pandas in a future version. Use pandas.concat instead.\n",
            "  df = df.append(df_to_append,ignore_index=True)\n",
            "/var/folders/kz/xlm62_gd27156y49_11q1jx40000gn/T/ipykernel_83871/2056896889.py:9: FutureWarning: The frame.append method is deprecated and will be removed from pandas in a future version. Use pandas.concat instead.\n",
            "  df = df.append(df_to_append,ignore_index=True)\n",
            "/var/folders/kz/xlm62_gd27156y49_11q1jx40000gn/T/ipykernel_83871/2056896889.py:9: FutureWarning: The frame.append method is deprecated and will be removed from pandas in a future version. Use pandas.concat instead.\n",
            "  df = df.append(df_to_append,ignore_index=True)\n",
            "/var/folders/kz/xlm62_gd27156y49_11q1jx40000gn/T/ipykernel_83871/2056896889.py:9: FutureWarning: The frame.append method is deprecated and will be removed from pandas in a future version. Use pandas.concat instead.\n",
            "  df = df.append(df_to_append,ignore_index=True)\n",
            "/var/folders/kz/xlm62_gd27156y49_11q1jx40000gn/T/ipykernel_83871/2056896889.py:9: FutureWarning: The frame.append method is deprecated and will be removed from pandas in a future version. Use pandas.concat instead.\n",
            "  df = df.append(df_to_append,ignore_index=True)\n",
            "/var/folders/kz/xlm62_gd27156y49_11q1jx40000gn/T/ipykernel_83871/2056896889.py:9: FutureWarning: The frame.append method is deprecated and will be removed from pandas in a future version. Use pandas.concat instead.\n",
            "  df = df.append(df_to_append,ignore_index=True)\n",
            "/var/folders/kz/xlm62_gd27156y49_11q1jx40000gn/T/ipykernel_83871/2056896889.py:9: FutureWarning: The frame.append method is deprecated and will be removed from pandas in a future version. Use pandas.concat instead.\n",
            "  df = df.append(df_to_append,ignore_index=True)\n",
            "/var/folders/kz/xlm62_gd27156y49_11q1jx40000gn/T/ipykernel_83871/2056896889.py:9: FutureWarning: The frame.append method is deprecated and will be removed from pandas in a future version. Use pandas.concat instead.\n",
            "  df = df.append(df_to_append,ignore_index=True)\n",
            "/var/folders/kz/xlm62_gd27156y49_11q1jx40000gn/T/ipykernel_83871/2056896889.py:9: FutureWarning: The frame.append method is deprecated and will be removed from pandas in a future version. Use pandas.concat instead.\n",
            "  df = df.append(df_to_append,ignore_index=True)\n",
            "/var/folders/kz/xlm62_gd27156y49_11q1jx40000gn/T/ipykernel_83871/2056896889.py:9: FutureWarning: The frame.append method is deprecated and will be removed from pandas in a future version. Use pandas.concat instead.\n",
            "  df = df.append(df_to_append,ignore_index=True)\n",
            "/var/folders/kz/xlm62_gd27156y49_11q1jx40000gn/T/ipykernel_83871/2056896889.py:9: FutureWarning: The frame.append method is deprecated and will be removed from pandas in a future version. Use pandas.concat instead.\n",
            "  df = df.append(df_to_append,ignore_index=True)\n",
            "/var/folders/kz/xlm62_gd27156y49_11q1jx40000gn/T/ipykernel_83871/2056896889.py:9: FutureWarning: The frame.append method is deprecated and will be removed from pandas in a future version. Use pandas.concat instead.\n",
            "  df = df.append(df_to_append,ignore_index=True)\n",
            "/var/folders/kz/xlm62_gd27156y49_11q1jx40000gn/T/ipykernel_83871/2056896889.py:9: FutureWarning: The frame.append method is deprecated and will be removed from pandas in a future version. Use pandas.concat instead.\n",
            "  df = df.append(df_to_append,ignore_index=True)\n",
            "/var/folders/kz/xlm62_gd27156y49_11q1jx40000gn/T/ipykernel_83871/2056896889.py:9: FutureWarning: The frame.append method is deprecated and will be removed from pandas in a future version. Use pandas.concat instead.\n",
            "  df = df.append(df_to_append,ignore_index=True)\n",
            "/var/folders/kz/xlm62_gd27156y49_11q1jx40000gn/T/ipykernel_83871/2056896889.py:9: FutureWarning: The frame.append method is deprecated and will be removed from pandas in a future version. Use pandas.concat instead.\n",
            "  df = df.append(df_to_append,ignore_index=True)\n",
            "/var/folders/kz/xlm62_gd27156y49_11q1jx40000gn/T/ipykernel_83871/2056896889.py:9: FutureWarning: The frame.append method is deprecated and will be removed from pandas in a future version. Use pandas.concat instead.\n",
            "  df = df.append(df_to_append,ignore_index=True)\n",
            "/var/folders/kz/xlm62_gd27156y49_11q1jx40000gn/T/ipykernel_83871/2056896889.py:9: FutureWarning: The frame.append method is deprecated and will be removed from pandas in a future version. Use pandas.concat instead.\n",
            "  df = df.append(df_to_append,ignore_index=True)\n",
            "/var/folders/kz/xlm62_gd27156y49_11q1jx40000gn/T/ipykernel_83871/2056896889.py:9: FutureWarning: The frame.append method is deprecated and will be removed from pandas in a future version. Use pandas.concat instead.\n",
            "  df = df.append(df_to_append,ignore_index=True)\n",
            "/var/folders/kz/xlm62_gd27156y49_11q1jx40000gn/T/ipykernel_83871/2056896889.py:9: FutureWarning: The frame.append method is deprecated and will be removed from pandas in a future version. Use pandas.concat instead.\n",
            "  df = df.append(df_to_append,ignore_index=True)\n",
            "/var/folders/kz/xlm62_gd27156y49_11q1jx40000gn/T/ipykernel_83871/2056896889.py:9: FutureWarning: The frame.append method is deprecated and will be removed from pandas in a future version. Use pandas.concat instead.\n",
            "  df = df.append(df_to_append,ignore_index=True)\n",
            "/var/folders/kz/xlm62_gd27156y49_11q1jx40000gn/T/ipykernel_83871/2056896889.py:9: FutureWarning: The frame.append method is deprecated and will be removed from pandas in a future version. Use pandas.concat instead.\n",
            "  df = df.append(df_to_append,ignore_index=True)\n",
            "/var/folders/kz/xlm62_gd27156y49_11q1jx40000gn/T/ipykernel_83871/2056896889.py:9: FutureWarning: The frame.append method is deprecated and will be removed from pandas in a future version. Use pandas.concat instead.\n",
            "  df = df.append(df_to_append,ignore_index=True)\n",
            "/var/folders/kz/xlm62_gd27156y49_11q1jx40000gn/T/ipykernel_83871/2056896889.py:9: FutureWarning: The frame.append method is deprecated and will be removed from pandas in a future version. Use pandas.concat instead.\n",
            "  df = df.append(df_to_append,ignore_index=True)\n",
            "/var/folders/kz/xlm62_gd27156y49_11q1jx40000gn/T/ipykernel_83871/2056896889.py:9: FutureWarning: The frame.append method is deprecated and will be removed from pandas in a future version. Use pandas.concat instead.\n",
            "  df = df.append(df_to_append,ignore_index=True)\n",
            "/var/folders/kz/xlm62_gd27156y49_11q1jx40000gn/T/ipykernel_83871/2056896889.py:9: FutureWarning: The frame.append method is deprecated and will be removed from pandas in a future version. Use pandas.concat instead.\n",
            "  df = df.append(df_to_append,ignore_index=True)\n",
            "/var/folders/kz/xlm62_gd27156y49_11q1jx40000gn/T/ipykernel_83871/2056896889.py:9: FutureWarning: The frame.append method is deprecated and will be removed from pandas in a future version. Use pandas.concat instead.\n",
            "  df = df.append(df_to_append,ignore_index=True)\n",
            "/var/folders/kz/xlm62_gd27156y49_11q1jx40000gn/T/ipykernel_83871/2056896889.py:9: FutureWarning: The frame.append method is deprecated and will be removed from pandas in a future version. Use pandas.concat instead.\n",
            "  df = df.append(df_to_append,ignore_index=True)\n",
            "/var/folders/kz/xlm62_gd27156y49_11q1jx40000gn/T/ipykernel_83871/2056896889.py:9: FutureWarning: The frame.append method is deprecated and will be removed from pandas in a future version. Use pandas.concat instead.\n",
            "  df = df.append(df_to_append,ignore_index=True)\n",
            "/var/folders/kz/xlm62_gd27156y49_11q1jx40000gn/T/ipykernel_83871/2056896889.py:9: FutureWarning: The frame.append method is deprecated and will be removed from pandas in a future version. Use pandas.concat instead.\n",
            "  df = df.append(df_to_append,ignore_index=True)\n",
            "/var/folders/kz/xlm62_gd27156y49_11q1jx40000gn/T/ipykernel_83871/2056896889.py:9: FutureWarning: The frame.append method is deprecated and will be removed from pandas in a future version. Use pandas.concat instead.\n",
            "  df = df.append(df_to_append,ignore_index=True)\n",
            "/var/folders/kz/xlm62_gd27156y49_11q1jx40000gn/T/ipykernel_83871/2056896889.py:9: FutureWarning: The frame.append method is deprecated and will be removed from pandas in a future version. Use pandas.concat instead.\n",
            "  df = df.append(df_to_append,ignore_index=True)\n",
            "/var/folders/kz/xlm62_gd27156y49_11q1jx40000gn/T/ipykernel_83871/2056896889.py:9: FutureWarning: The frame.append method is deprecated and will be removed from pandas in a future version. Use pandas.concat instead.\n",
            "  df = df.append(df_to_append,ignore_index=True)\n",
            "/var/folders/kz/xlm62_gd27156y49_11q1jx40000gn/T/ipykernel_83871/2056896889.py:9: FutureWarning: The frame.append method is deprecated and will be removed from pandas in a future version. Use pandas.concat instead.\n",
            "  df = df.append(df_to_append,ignore_index=True)\n",
            "/var/folders/kz/xlm62_gd27156y49_11q1jx40000gn/T/ipykernel_83871/2056896889.py:9: FutureWarning: The frame.append method is deprecated and will be removed from pandas in a future version. Use pandas.concat instead.\n",
            "  df = df.append(df_to_append,ignore_index=True)\n",
            "/var/folders/kz/xlm62_gd27156y49_11q1jx40000gn/T/ipykernel_83871/2056896889.py:9: FutureWarning: The frame.append method is deprecated and will be removed from pandas in a future version. Use pandas.concat instead.\n",
            "  df = df.append(df_to_append,ignore_index=True)\n",
            "/var/folders/kz/xlm62_gd27156y49_11q1jx40000gn/T/ipykernel_83871/2056896889.py:9: FutureWarning: The frame.append method is deprecated and will be removed from pandas in a future version. Use pandas.concat instead.\n",
            "  df = df.append(df_to_append,ignore_index=True)\n",
            "/var/folders/kz/xlm62_gd27156y49_11q1jx40000gn/T/ipykernel_83871/2056896889.py:9: FutureWarning: The frame.append method is deprecated and will be removed from pandas in a future version. Use pandas.concat instead.\n",
            "  df = df.append(df_to_append,ignore_index=True)\n",
            "/var/folders/kz/xlm62_gd27156y49_11q1jx40000gn/T/ipykernel_83871/2056896889.py:9: FutureWarning: The frame.append method is deprecated and will be removed from pandas in a future version. Use pandas.concat instead.\n",
            "  df = df.append(df_to_append,ignore_index=True)\n",
            "/var/folders/kz/xlm62_gd27156y49_11q1jx40000gn/T/ipykernel_83871/2056896889.py:9: FutureWarning: The frame.append method is deprecated and will be removed from pandas in a future version. Use pandas.concat instead.\n",
            "  df = df.append(df_to_append,ignore_index=True)\n",
            "/var/folders/kz/xlm62_gd27156y49_11q1jx40000gn/T/ipykernel_83871/2056896889.py:9: FutureWarning: The frame.append method is deprecated and will be removed from pandas in a future version. Use pandas.concat instead.\n",
            "  df = df.append(df_to_append,ignore_index=True)\n",
            "/var/folders/kz/xlm62_gd27156y49_11q1jx40000gn/T/ipykernel_83871/2056896889.py:9: FutureWarning: The frame.append method is deprecated and will be removed from pandas in a future version. Use pandas.concat instead.\n",
            "  df = df.append(df_to_append,ignore_index=True)\n",
            "/var/folders/kz/xlm62_gd27156y49_11q1jx40000gn/T/ipykernel_83871/2056896889.py:9: FutureWarning: The frame.append method is deprecated and will be removed from pandas in a future version. Use pandas.concat instead.\n",
            "  df = df.append(df_to_append,ignore_index=True)\n",
            "/var/folders/kz/xlm62_gd27156y49_11q1jx40000gn/T/ipykernel_83871/2056896889.py:9: FutureWarning: The frame.append method is deprecated and will be removed from pandas in a future version. Use pandas.concat instead.\n",
            "  df = df.append(df_to_append,ignore_index=True)\n",
            "/var/folders/kz/xlm62_gd27156y49_11q1jx40000gn/T/ipykernel_83871/2056896889.py:9: FutureWarning: The frame.append method is deprecated and will be removed from pandas in a future version. Use pandas.concat instead.\n",
            "  df = df.append(df_to_append,ignore_index=True)\n",
            "/var/folders/kz/xlm62_gd27156y49_11q1jx40000gn/T/ipykernel_83871/2056896889.py:9: FutureWarning: The frame.append method is deprecated and will be removed from pandas in a future version. Use pandas.concat instead.\n",
            "  df = df.append(df_to_append,ignore_index=True)\n",
            "/var/folders/kz/xlm62_gd27156y49_11q1jx40000gn/T/ipykernel_83871/2056896889.py:9: FutureWarning: The frame.append method is deprecated and will be removed from pandas in a future version. Use pandas.concat instead.\n",
            "  df = df.append(df_to_append,ignore_index=True)\n",
            "/var/folders/kz/xlm62_gd27156y49_11q1jx40000gn/T/ipykernel_83871/2056896889.py:9: FutureWarning: The frame.append method is deprecated and will be removed from pandas in a future version. Use pandas.concat instead.\n",
            "  df = df.append(df_to_append,ignore_index=True)\n",
            "/var/folders/kz/xlm62_gd27156y49_11q1jx40000gn/T/ipykernel_83871/2056896889.py:9: FutureWarning: The frame.append method is deprecated and will be removed from pandas in a future version. Use pandas.concat instead.\n",
            "  df = df.append(df_to_append,ignore_index=True)\n",
            "/var/folders/kz/xlm62_gd27156y49_11q1jx40000gn/T/ipykernel_83871/2056896889.py:9: FutureWarning: The frame.append method is deprecated and will be removed from pandas in a future version. Use pandas.concat instead.\n",
            "  df = df.append(df_to_append,ignore_index=True)\n",
            "/var/folders/kz/xlm62_gd27156y49_11q1jx40000gn/T/ipykernel_83871/2056896889.py:9: FutureWarning: The frame.append method is deprecated and will be removed from pandas in a future version. Use pandas.concat instead.\n",
            "  df = df.append(df_to_append,ignore_index=True)\n",
            "/var/folders/kz/xlm62_gd27156y49_11q1jx40000gn/T/ipykernel_83871/2056896889.py:9: FutureWarning: The frame.append method is deprecated and will be removed from pandas in a future version. Use pandas.concat instead.\n",
            "  df = df.append(df_to_append,ignore_index=True)\n",
            "/var/folders/kz/xlm62_gd27156y49_11q1jx40000gn/T/ipykernel_83871/2056896889.py:9: FutureWarning: The frame.append method is deprecated and will be removed from pandas in a future version. Use pandas.concat instead.\n",
            "  df = df.append(df_to_append,ignore_index=True)\n",
            "/var/folders/kz/xlm62_gd27156y49_11q1jx40000gn/T/ipykernel_83871/2056896889.py:9: FutureWarning: The frame.append method is deprecated and will be removed from pandas in a future version. Use pandas.concat instead.\n",
            "  df = df.append(df_to_append,ignore_index=True)\n",
            "/var/folders/kz/xlm62_gd27156y49_11q1jx40000gn/T/ipykernel_83871/2056896889.py:9: FutureWarning: The frame.append method is deprecated and will be removed from pandas in a future version. Use pandas.concat instead.\n",
            "  df = df.append(df_to_append,ignore_index=True)\n",
            "/var/folders/kz/xlm62_gd27156y49_11q1jx40000gn/T/ipykernel_83871/2056896889.py:9: FutureWarning: The frame.append method is deprecated and will be removed from pandas in a future version. Use pandas.concat instead.\n",
            "  df = df.append(df_to_append,ignore_index=True)\n",
            "/var/folders/kz/xlm62_gd27156y49_11q1jx40000gn/T/ipykernel_83871/2056896889.py:9: FutureWarning: The frame.append method is deprecated and will be removed from pandas in a future version. Use pandas.concat instead.\n",
            "  df = df.append(df_to_append,ignore_index=True)\n",
            "/var/folders/kz/xlm62_gd27156y49_11q1jx40000gn/T/ipykernel_83871/2056896889.py:9: FutureWarning: The frame.append method is deprecated and will be removed from pandas in a future version. Use pandas.concat instead.\n",
            "  df = df.append(df_to_append,ignore_index=True)\n",
            "/var/folders/kz/xlm62_gd27156y49_11q1jx40000gn/T/ipykernel_83871/2056896889.py:9: FutureWarning: The frame.append method is deprecated and will be removed from pandas in a future version. Use pandas.concat instead.\n",
            "  df = df.append(df_to_append,ignore_index=True)\n",
            "/var/folders/kz/xlm62_gd27156y49_11q1jx40000gn/T/ipykernel_83871/2056896889.py:9: FutureWarning: The frame.append method is deprecated and will be removed from pandas in a future version. Use pandas.concat instead.\n",
            "  df = df.append(df_to_append,ignore_index=True)\n",
            "/var/folders/kz/xlm62_gd27156y49_11q1jx40000gn/T/ipykernel_83871/2056896889.py:9: FutureWarning: The frame.append method is deprecated and will be removed from pandas in a future version. Use pandas.concat instead.\n",
            "  df = df.append(df_to_append,ignore_index=True)\n",
            "/var/folders/kz/xlm62_gd27156y49_11q1jx40000gn/T/ipykernel_83871/2056896889.py:9: FutureWarning: The frame.append method is deprecated and will be removed from pandas in a future version. Use pandas.concat instead.\n",
            "  df = df.append(df_to_append,ignore_index=True)\n",
            "/var/folders/kz/xlm62_gd27156y49_11q1jx40000gn/T/ipykernel_83871/2056896889.py:9: FutureWarning: The frame.append method is deprecated and will be removed from pandas in a future version. Use pandas.concat instead.\n",
            "  df = df.append(df_to_append,ignore_index=True)\n",
            "/var/folders/kz/xlm62_gd27156y49_11q1jx40000gn/T/ipykernel_83871/2056896889.py:9: FutureWarning: The frame.append method is deprecated and will be removed from pandas in a future version. Use pandas.concat instead.\n",
            "  df = df.append(df_to_append,ignore_index=True)\n",
            "/var/folders/kz/xlm62_gd27156y49_11q1jx40000gn/T/ipykernel_83871/2056896889.py:9: FutureWarning: The frame.append method is deprecated and will be removed from pandas in a future version. Use pandas.concat instead.\n",
            "  df = df.append(df_to_append,ignore_index=True)\n",
            "/var/folders/kz/xlm62_gd27156y49_11q1jx40000gn/T/ipykernel_83871/2056896889.py:9: FutureWarning: The frame.append method is deprecated and will be removed from pandas in a future version. Use pandas.concat instead.\n",
            "  df = df.append(df_to_append,ignore_index=True)\n",
            "/var/folders/kz/xlm62_gd27156y49_11q1jx40000gn/T/ipykernel_83871/2056896889.py:9: FutureWarning: The frame.append method is deprecated and will be removed from pandas in a future version. Use pandas.concat instead.\n",
            "  df = df.append(df_to_append,ignore_index=True)\n",
            "/var/folders/kz/xlm62_gd27156y49_11q1jx40000gn/T/ipykernel_83871/2056896889.py:9: FutureWarning: The frame.append method is deprecated and will be removed from pandas in a future version. Use pandas.concat instead.\n",
            "  df = df.append(df_to_append,ignore_index=True)\n",
            "/var/folders/kz/xlm62_gd27156y49_11q1jx40000gn/T/ipykernel_83871/2056896889.py:9: FutureWarning: The frame.append method is deprecated and will be removed from pandas in a future version. Use pandas.concat instead.\n",
            "  df = df.append(df_to_append,ignore_index=True)\n",
            "/var/folders/kz/xlm62_gd27156y49_11q1jx40000gn/T/ipykernel_83871/2056896889.py:9: FutureWarning: The frame.append method is deprecated and will be removed from pandas in a future version. Use pandas.concat instead.\n",
            "  df = df.append(df_to_append,ignore_index=True)\n",
            "/var/folders/kz/xlm62_gd27156y49_11q1jx40000gn/T/ipykernel_83871/2056896889.py:9: FutureWarning: The frame.append method is deprecated and will be removed from pandas in a future version. Use pandas.concat instead.\n",
            "  df = df.append(df_to_append,ignore_index=True)\n"
          ]
        },
        {
          "name": "stdout",
          "output_type": "stream",
          "text": [
            "(499, 2)\n"
          ]
        },
        {
          "name": "stderr",
          "output_type": "stream",
          "text": [
            "/var/folders/kz/xlm62_gd27156y49_11q1jx40000gn/T/ipykernel_83871/2056896889.py:9: FutureWarning: The frame.append method is deprecated and will be removed from pandas in a future version. Use pandas.concat instead.\n",
            "  df = df.append(df_to_append,ignore_index=True)\n",
            "/var/folders/kz/xlm62_gd27156y49_11q1jx40000gn/T/ipykernel_83871/2056896889.py:9: FutureWarning: The frame.append method is deprecated and will be removed from pandas in a future version. Use pandas.concat instead.\n",
            "  df = df.append(df_to_append,ignore_index=True)\n",
            "/var/folders/kz/xlm62_gd27156y49_11q1jx40000gn/T/ipykernel_83871/2056896889.py:9: FutureWarning: The frame.append method is deprecated and will be removed from pandas in a future version. Use pandas.concat instead.\n",
            "  df = df.append(df_to_append,ignore_index=True)\n",
            "/var/folders/kz/xlm62_gd27156y49_11q1jx40000gn/T/ipykernel_83871/2056896889.py:9: FutureWarning: The frame.append method is deprecated and will be removed from pandas in a future version. Use pandas.concat instead.\n",
            "  df = df.append(df_to_append,ignore_index=True)\n"
          ]
        },
        {
          "data": {
            "text/html": [
              "<div>\n",
              "<style scoped>\n",
              "    .dataframe tbody tr th:only-of-type {\n",
              "        vertical-align: middle;\n",
              "    }\n",
              "\n",
              "    .dataframe tbody tr th {\n",
              "        vertical-align: top;\n",
              "    }\n",
              "\n",
              "    .dataframe thead th {\n",
              "        text-align: right;\n",
              "    }\n",
              "</style>\n",
              "<table border=\"1\" class=\"dataframe\">\n",
              "  <thead>\n",
              "    <tr style=\"text-align: right;\">\n",
              "      <th></th>\n",
              "      <th>questions</th>\n",
              "      <th>labels</th>\n",
              "    </tr>\n",
              "  </thead>\n",
              "  <tbody>\n",
              "    <tr>\n",
              "      <th>0</th>\n",
              "      <td>Hi</td>\n",
              "      <td>greeting</td>\n",
              "    </tr>\n",
              "    <tr>\n",
              "      <th>1</th>\n",
              "      <td>How are you</td>\n",
              "      <td>greeting</td>\n",
              "    </tr>\n",
              "    <tr>\n",
              "      <th>2</th>\n",
              "      <td>Is anyone there?</td>\n",
              "      <td>greeting</td>\n",
              "    </tr>\n",
              "    <tr>\n",
              "      <th>3</th>\n",
              "      <td>Hello</td>\n",
              "      <td>greeting</td>\n",
              "    </tr>\n",
              "    <tr>\n",
              "      <th>4</th>\n",
              "      <td>Good day</td>\n",
              "      <td>greeting</td>\n",
              "    </tr>\n",
              "  </tbody>\n",
              "</table>\n",
              "</div>"
            ],
            "text/plain": [
              "          questions    labels\n",
              "0                Hi  greeting\n",
              "1       How are you  greeting\n",
              "2  Is anyone there?  greeting\n",
              "3             Hello  greeting\n",
              "4          Good day  greeting"
            ]
          },
          "execution_count": 6,
          "metadata": {},
          "output_type": "execute_result"
        }
      ],
      "source": [
        "# users intents \n",
        "df1 = frame_data('questions','labels',True)\n",
        "print(df1.shape)\n",
        "df1.head()"
      ]
    },
    {
      "cell_type": "code",
      "execution_count": 7,
      "metadata": {
        "colab": {
          "base_uri": "https://localhost:8080/"
        },
        "id": "w-OWwHcgK1XT",
        "outputId": "c3f7ee30-c525-44c2-cedc-9f6f0f3377de"
      },
      "outputs": [
        {
          "data": {
            "text/plain": [
              "greeting                   9\n",
              "goodbye                   12\n",
              "creator                   16\n",
              "name                      13\n",
              "hours                     17\n",
              "number                    15\n",
              "course                    17\n",
              "B.Tech.                   10\n",
              "M.Tech                    10\n",
              "Ph.D.                     10\n",
              "fees                      14\n",
              "location                  14\n",
              "hostel                    22\n",
              "event                     11\n",
              "document                  13\n",
              "floors                     7\n",
              "syllabus                  12\n",
              "library                   12\n",
              "infrastructure             3\n",
              "canteen                   10\n",
              "menu                       5\n",
              "placement                  8\n",
              "applied science hod        7\n",
              "csehod                     6\n",
              "ecehod                     6\n",
              "ithod                      6\n",
              "architecture hod           6\n",
              "mechhod                    6\n",
              "managementhod              6\n",
              "aihod                      6\n",
              "Chancellor                 8\n",
              "sem                       15\n",
              "admission                  6\n",
              "facilities                 5\n",
              "college intake             9\n",
              "uniform                    9\n",
              "committee                  6\n",
              "random                     3\n",
              "vacation                  10\n",
              "salutaion                 12\n",
              "task                       6\n",
              "ragging                    8\n",
              "hod                        3\n",
              "transport                  7\n",
              "metro                      8\n",
              "bus-stop                   8\n",
              "nirf                       4\n",
              "train                      5\n",
              "LeanIn                     9\n",
              "hostel_fee                 7\n",
              "research                   8\n",
              "igdtuw_established         6\n",
              "ug-seats                   3\n",
              "pg-admission-22           11\n",
              "mba-admission-brochure     5\n",
              "fallback                   9\n",
              "Name: labels, dtype: int64"
            ]
          },
          "execution_count": 7,
          "metadata": {},
          "output_type": "execute_result"
        }
      ],
      "source": [
        "df1.labels.value_counts(sort=False)"
      ]
    },
    {
      "cell_type": "markdown",
      "metadata": {
        "id": "gV1nnBnD98fQ"
      },
      "source": [
        "## Extracting responses from dataset into a pandas dataframe"
      ]
    },
    {
      "cell_type": "code",
      "execution_count": 8,
      "metadata": {
        "colab": {
          "base_uri": "https://localhost:8080/",
          "height": 221
        },
        "id": "b1IEBl5uK1XU",
        "outputId": "76663d83-1922-4431-a677-64d56ff7f86f"
      },
      "outputs": [
        {
          "name": "stderr",
          "output_type": "stream",
          "text": [
            "/var/folders/kz/xlm62_gd27156y49_11q1jx40000gn/T/ipykernel_83871/2056896889.py:14: FutureWarning: The frame.append method is deprecated and will be removed from pandas in a future version. Use pandas.concat instead.\n",
            "  df = df.append(df_to_append,ignore_index=True)\n",
            "/var/folders/kz/xlm62_gd27156y49_11q1jx40000gn/T/ipykernel_83871/2056896889.py:14: FutureWarning: The frame.append method is deprecated and will be removed from pandas in a future version. Use pandas.concat instead.\n",
            "  df = df.append(df_to_append,ignore_index=True)\n",
            "/var/folders/kz/xlm62_gd27156y49_11q1jx40000gn/T/ipykernel_83871/2056896889.py:14: FutureWarning: The frame.append method is deprecated and will be removed from pandas in a future version. Use pandas.concat instead.\n",
            "  df = df.append(df_to_append,ignore_index=True)\n",
            "/var/folders/kz/xlm62_gd27156y49_11q1jx40000gn/T/ipykernel_83871/2056896889.py:14: FutureWarning: The frame.append method is deprecated and will be removed from pandas in a future version. Use pandas.concat instead.\n",
            "  df = df.append(df_to_append,ignore_index=True)\n",
            "/var/folders/kz/xlm62_gd27156y49_11q1jx40000gn/T/ipykernel_83871/2056896889.py:14: FutureWarning: The frame.append method is deprecated and will be removed from pandas in a future version. Use pandas.concat instead.\n",
            "  df = df.append(df_to_append,ignore_index=True)\n",
            "/var/folders/kz/xlm62_gd27156y49_11q1jx40000gn/T/ipykernel_83871/2056896889.py:14: FutureWarning: The frame.append method is deprecated and will be removed from pandas in a future version. Use pandas.concat instead.\n",
            "  df = df.append(df_to_append,ignore_index=True)\n",
            "/var/folders/kz/xlm62_gd27156y49_11q1jx40000gn/T/ipykernel_83871/2056896889.py:14: FutureWarning: The frame.append method is deprecated and will be removed from pandas in a future version. Use pandas.concat instead.\n",
            "  df = df.append(df_to_append,ignore_index=True)\n",
            "/var/folders/kz/xlm62_gd27156y49_11q1jx40000gn/T/ipykernel_83871/2056896889.py:14: FutureWarning: The frame.append method is deprecated and will be removed from pandas in a future version. Use pandas.concat instead.\n",
            "  df = df.append(df_to_append,ignore_index=True)\n",
            "/var/folders/kz/xlm62_gd27156y49_11q1jx40000gn/T/ipykernel_83871/2056896889.py:14: FutureWarning: The frame.append method is deprecated and will be removed from pandas in a future version. Use pandas.concat instead.\n",
            "  df = df.append(df_to_append,ignore_index=True)\n",
            "/var/folders/kz/xlm62_gd27156y49_11q1jx40000gn/T/ipykernel_83871/2056896889.py:14: FutureWarning: The frame.append method is deprecated and will be removed from pandas in a future version. Use pandas.concat instead.\n",
            "  df = df.append(df_to_append,ignore_index=True)\n",
            "/var/folders/kz/xlm62_gd27156y49_11q1jx40000gn/T/ipykernel_83871/2056896889.py:14: FutureWarning: The frame.append method is deprecated and will be removed from pandas in a future version. Use pandas.concat instead.\n",
            "  df = df.append(df_to_append,ignore_index=True)\n",
            "/var/folders/kz/xlm62_gd27156y49_11q1jx40000gn/T/ipykernel_83871/2056896889.py:14: FutureWarning: The frame.append method is deprecated and will be removed from pandas in a future version. Use pandas.concat instead.\n",
            "  df = df.append(df_to_append,ignore_index=True)\n",
            "/var/folders/kz/xlm62_gd27156y49_11q1jx40000gn/T/ipykernel_83871/2056896889.py:14: FutureWarning: The frame.append method is deprecated and will be removed from pandas in a future version. Use pandas.concat instead.\n",
            "  df = df.append(df_to_append,ignore_index=True)\n",
            "/var/folders/kz/xlm62_gd27156y49_11q1jx40000gn/T/ipykernel_83871/2056896889.py:14: FutureWarning: The frame.append method is deprecated and will be removed from pandas in a future version. Use pandas.concat instead.\n",
            "  df = df.append(df_to_append,ignore_index=True)\n",
            "/var/folders/kz/xlm62_gd27156y49_11q1jx40000gn/T/ipykernel_83871/2056896889.py:14: FutureWarning: The frame.append method is deprecated and will be removed from pandas in a future version. Use pandas.concat instead.\n",
            "  df = df.append(df_to_append,ignore_index=True)\n",
            "/var/folders/kz/xlm62_gd27156y49_11q1jx40000gn/T/ipykernel_83871/2056896889.py:14: FutureWarning: The frame.append method is deprecated and will be removed from pandas in a future version. Use pandas.concat instead.\n",
            "  df = df.append(df_to_append,ignore_index=True)\n",
            "/var/folders/kz/xlm62_gd27156y49_11q1jx40000gn/T/ipykernel_83871/2056896889.py:14: FutureWarning: The frame.append method is deprecated and will be removed from pandas in a future version. Use pandas.concat instead.\n",
            "  df = df.append(df_to_append,ignore_index=True)\n",
            "/var/folders/kz/xlm62_gd27156y49_11q1jx40000gn/T/ipykernel_83871/2056896889.py:14: FutureWarning: The frame.append method is deprecated and will be removed from pandas in a future version. Use pandas.concat instead.\n",
            "  df = df.append(df_to_append,ignore_index=True)\n",
            "/var/folders/kz/xlm62_gd27156y49_11q1jx40000gn/T/ipykernel_83871/2056896889.py:14: FutureWarning: The frame.append method is deprecated and will be removed from pandas in a future version. Use pandas.concat instead.\n",
            "  df = df.append(df_to_append,ignore_index=True)\n",
            "/var/folders/kz/xlm62_gd27156y49_11q1jx40000gn/T/ipykernel_83871/2056896889.py:14: FutureWarning: The frame.append method is deprecated and will be removed from pandas in a future version. Use pandas.concat instead.\n",
            "  df = df.append(df_to_append,ignore_index=True)\n",
            "/var/folders/kz/xlm62_gd27156y49_11q1jx40000gn/T/ipykernel_83871/2056896889.py:14: FutureWarning: The frame.append method is deprecated and will be removed from pandas in a future version. Use pandas.concat instead.\n",
            "  df = df.append(df_to_append,ignore_index=True)\n",
            "/var/folders/kz/xlm62_gd27156y49_11q1jx40000gn/T/ipykernel_83871/2056896889.py:14: FutureWarning: The frame.append method is deprecated and will be removed from pandas in a future version. Use pandas.concat instead.\n",
            "  df = df.append(df_to_append,ignore_index=True)\n",
            "/var/folders/kz/xlm62_gd27156y49_11q1jx40000gn/T/ipykernel_83871/2056896889.py:14: FutureWarning: The frame.append method is deprecated and will be removed from pandas in a future version. Use pandas.concat instead.\n",
            "  df = df.append(df_to_append,ignore_index=True)\n",
            "/var/folders/kz/xlm62_gd27156y49_11q1jx40000gn/T/ipykernel_83871/2056896889.py:14: FutureWarning: The frame.append method is deprecated and will be removed from pandas in a future version. Use pandas.concat instead.\n",
            "  df = df.append(df_to_append,ignore_index=True)\n",
            "/var/folders/kz/xlm62_gd27156y49_11q1jx40000gn/T/ipykernel_83871/2056896889.py:14: FutureWarning: The frame.append method is deprecated and will be removed from pandas in a future version. Use pandas.concat instead.\n",
            "  df = df.append(df_to_append,ignore_index=True)\n",
            "/var/folders/kz/xlm62_gd27156y49_11q1jx40000gn/T/ipykernel_83871/2056896889.py:14: FutureWarning: The frame.append method is deprecated and will be removed from pandas in a future version. Use pandas.concat instead.\n",
            "  df = df.append(df_to_append,ignore_index=True)\n",
            "/var/folders/kz/xlm62_gd27156y49_11q1jx40000gn/T/ipykernel_83871/2056896889.py:14: FutureWarning: The frame.append method is deprecated and will be removed from pandas in a future version. Use pandas.concat instead.\n",
            "  df = df.append(df_to_append,ignore_index=True)\n",
            "/var/folders/kz/xlm62_gd27156y49_11q1jx40000gn/T/ipykernel_83871/2056896889.py:14: FutureWarning: The frame.append method is deprecated and will be removed from pandas in a future version. Use pandas.concat instead.\n",
            "  df = df.append(df_to_append,ignore_index=True)\n",
            "/var/folders/kz/xlm62_gd27156y49_11q1jx40000gn/T/ipykernel_83871/2056896889.py:14: FutureWarning: The frame.append method is deprecated and will be removed from pandas in a future version. Use pandas.concat instead.\n",
            "  df = df.append(df_to_append,ignore_index=True)\n",
            "/var/folders/kz/xlm62_gd27156y49_11q1jx40000gn/T/ipykernel_83871/2056896889.py:14: FutureWarning: The frame.append method is deprecated and will be removed from pandas in a future version. Use pandas.concat instead.\n",
            "  df = df.append(df_to_append,ignore_index=True)\n",
            "/var/folders/kz/xlm62_gd27156y49_11q1jx40000gn/T/ipykernel_83871/2056896889.py:14: FutureWarning: The frame.append method is deprecated and will be removed from pandas in a future version. Use pandas.concat instead.\n",
            "  df = df.append(df_to_append,ignore_index=True)\n",
            "/var/folders/kz/xlm62_gd27156y49_11q1jx40000gn/T/ipykernel_83871/2056896889.py:14: FutureWarning: The frame.append method is deprecated and will be removed from pandas in a future version. Use pandas.concat instead.\n",
            "  df = df.append(df_to_append,ignore_index=True)\n",
            "/var/folders/kz/xlm62_gd27156y49_11q1jx40000gn/T/ipykernel_83871/2056896889.py:14: FutureWarning: The frame.append method is deprecated and will be removed from pandas in a future version. Use pandas.concat instead.\n",
            "  df = df.append(df_to_append,ignore_index=True)\n",
            "/var/folders/kz/xlm62_gd27156y49_11q1jx40000gn/T/ipykernel_83871/2056896889.py:14: FutureWarning: The frame.append method is deprecated and will be removed from pandas in a future version. Use pandas.concat instead.\n",
            "  df = df.append(df_to_append,ignore_index=True)\n",
            "/var/folders/kz/xlm62_gd27156y49_11q1jx40000gn/T/ipykernel_83871/2056896889.py:14: FutureWarning: The frame.append method is deprecated and will be removed from pandas in a future version. Use pandas.concat instead.\n",
            "  df = df.append(df_to_append,ignore_index=True)\n",
            "/var/folders/kz/xlm62_gd27156y49_11q1jx40000gn/T/ipykernel_83871/2056896889.py:14: FutureWarning: The frame.append method is deprecated and will be removed from pandas in a future version. Use pandas.concat instead.\n",
            "  df = df.append(df_to_append,ignore_index=True)\n",
            "/var/folders/kz/xlm62_gd27156y49_11q1jx40000gn/T/ipykernel_83871/2056896889.py:14: FutureWarning: The frame.append method is deprecated and will be removed from pandas in a future version. Use pandas.concat instead.\n",
            "  df = df.append(df_to_append,ignore_index=True)\n",
            "/var/folders/kz/xlm62_gd27156y49_11q1jx40000gn/T/ipykernel_83871/2056896889.py:14: FutureWarning: The frame.append method is deprecated and will be removed from pandas in a future version. Use pandas.concat instead.\n",
            "  df = df.append(df_to_append,ignore_index=True)\n",
            "/var/folders/kz/xlm62_gd27156y49_11q1jx40000gn/T/ipykernel_83871/2056896889.py:14: FutureWarning: The frame.append method is deprecated and will be removed from pandas in a future version. Use pandas.concat instead.\n",
            "  df = df.append(df_to_append,ignore_index=True)\n",
            "/var/folders/kz/xlm62_gd27156y49_11q1jx40000gn/T/ipykernel_83871/2056896889.py:14: FutureWarning: The frame.append method is deprecated and will be removed from pandas in a future version. Use pandas.concat instead.\n",
            "  df = df.append(df_to_append,ignore_index=True)\n",
            "/var/folders/kz/xlm62_gd27156y49_11q1jx40000gn/T/ipykernel_83871/2056896889.py:14: FutureWarning: The frame.append method is deprecated and will be removed from pandas in a future version. Use pandas.concat instead.\n",
            "  df = df.append(df_to_append,ignore_index=True)\n",
            "/var/folders/kz/xlm62_gd27156y49_11q1jx40000gn/T/ipykernel_83871/2056896889.py:14: FutureWarning: The frame.append method is deprecated and will be removed from pandas in a future version. Use pandas.concat instead.\n",
            "  df = df.append(df_to_append,ignore_index=True)\n",
            "/var/folders/kz/xlm62_gd27156y49_11q1jx40000gn/T/ipykernel_83871/2056896889.py:14: FutureWarning: The frame.append method is deprecated and will be removed from pandas in a future version. Use pandas.concat instead.\n",
            "  df = df.append(df_to_append,ignore_index=True)\n",
            "/var/folders/kz/xlm62_gd27156y49_11q1jx40000gn/T/ipykernel_83871/2056896889.py:14: FutureWarning: The frame.append method is deprecated and will be removed from pandas in a future version. Use pandas.concat instead.\n",
            "  df = df.append(df_to_append,ignore_index=True)\n",
            "/var/folders/kz/xlm62_gd27156y49_11q1jx40000gn/T/ipykernel_83871/2056896889.py:14: FutureWarning: The frame.append method is deprecated and will be removed from pandas in a future version. Use pandas.concat instead.\n",
            "  df = df.append(df_to_append,ignore_index=True)\n",
            "/var/folders/kz/xlm62_gd27156y49_11q1jx40000gn/T/ipykernel_83871/2056896889.py:14: FutureWarning: The frame.append method is deprecated and will be removed from pandas in a future version. Use pandas.concat instead.\n",
            "  df = df.append(df_to_append,ignore_index=True)\n",
            "/var/folders/kz/xlm62_gd27156y49_11q1jx40000gn/T/ipykernel_83871/2056896889.py:14: FutureWarning: The frame.append method is deprecated and will be removed from pandas in a future version. Use pandas.concat instead.\n",
            "  df = df.append(df_to_append,ignore_index=True)\n",
            "/var/folders/kz/xlm62_gd27156y49_11q1jx40000gn/T/ipykernel_83871/2056896889.py:14: FutureWarning: The frame.append method is deprecated and will be removed from pandas in a future version. Use pandas.concat instead.\n",
            "  df = df.append(df_to_append,ignore_index=True)\n",
            "/var/folders/kz/xlm62_gd27156y49_11q1jx40000gn/T/ipykernel_83871/2056896889.py:14: FutureWarning: The frame.append method is deprecated and will be removed from pandas in a future version. Use pandas.concat instead.\n",
            "  df = df.append(df_to_append,ignore_index=True)\n",
            "/var/folders/kz/xlm62_gd27156y49_11q1jx40000gn/T/ipykernel_83871/2056896889.py:14: FutureWarning: The frame.append method is deprecated and will be removed from pandas in a future version. Use pandas.concat instead.\n",
            "  df = df.append(df_to_append,ignore_index=True)\n",
            "/var/folders/kz/xlm62_gd27156y49_11q1jx40000gn/T/ipykernel_83871/2056896889.py:14: FutureWarning: The frame.append method is deprecated and will be removed from pandas in a future version. Use pandas.concat instead.\n",
            "  df = df.append(df_to_append,ignore_index=True)\n",
            "/var/folders/kz/xlm62_gd27156y49_11q1jx40000gn/T/ipykernel_83871/2056896889.py:14: FutureWarning: The frame.append method is deprecated and will be removed from pandas in a future version. Use pandas.concat instead.\n",
            "  df = df.append(df_to_append,ignore_index=True)\n",
            "/var/folders/kz/xlm62_gd27156y49_11q1jx40000gn/T/ipykernel_83871/2056896889.py:14: FutureWarning: The frame.append method is deprecated and will be removed from pandas in a future version. Use pandas.concat instead.\n",
            "  df = df.append(df_to_append,ignore_index=True)\n",
            "/var/folders/kz/xlm62_gd27156y49_11q1jx40000gn/T/ipykernel_83871/2056896889.py:14: FutureWarning: The frame.append method is deprecated and will be removed from pandas in a future version. Use pandas.concat instead.\n",
            "  df = df.append(df_to_append,ignore_index=True)\n",
            "/var/folders/kz/xlm62_gd27156y49_11q1jx40000gn/T/ipykernel_83871/2056896889.py:14: FutureWarning: The frame.append method is deprecated and will be removed from pandas in a future version. Use pandas.concat instead.\n",
            "  df = df.append(df_to_append,ignore_index=True)\n",
            "/var/folders/kz/xlm62_gd27156y49_11q1jx40000gn/T/ipykernel_83871/2056896889.py:14: FutureWarning: The frame.append method is deprecated and will be removed from pandas in a future version. Use pandas.concat instead.\n",
            "  df = df.append(df_to_append,ignore_index=True)\n",
            "/var/folders/kz/xlm62_gd27156y49_11q1jx40000gn/T/ipykernel_83871/2056896889.py:14: FutureWarning: The frame.append method is deprecated and will be removed from pandas in a future version. Use pandas.concat instead.\n",
            "  df = df.append(df_to_append,ignore_index=True)\n",
            "/var/folders/kz/xlm62_gd27156y49_11q1jx40000gn/T/ipykernel_83871/2056896889.py:14: FutureWarning: The frame.append method is deprecated and will be removed from pandas in a future version. Use pandas.concat instead.\n",
            "  df = df.append(df_to_append,ignore_index=True)\n",
            "/var/folders/kz/xlm62_gd27156y49_11q1jx40000gn/T/ipykernel_83871/2056896889.py:14: FutureWarning: The frame.append method is deprecated and will be removed from pandas in a future version. Use pandas.concat instead.\n",
            "  df = df.append(df_to_append,ignore_index=True)\n",
            "/var/folders/kz/xlm62_gd27156y49_11q1jx40000gn/T/ipykernel_83871/2056896889.py:14: FutureWarning: The frame.append method is deprecated and will be removed from pandas in a future version. Use pandas.concat instead.\n",
            "  df = df.append(df_to_append,ignore_index=True)\n",
            "/var/folders/kz/xlm62_gd27156y49_11q1jx40000gn/T/ipykernel_83871/2056896889.py:14: FutureWarning: The frame.append method is deprecated and will be removed from pandas in a future version. Use pandas.concat instead.\n",
            "  df = df.append(df_to_append,ignore_index=True)\n",
            "/var/folders/kz/xlm62_gd27156y49_11q1jx40000gn/T/ipykernel_83871/2056896889.py:14: FutureWarning: The frame.append method is deprecated and will be removed from pandas in a future version. Use pandas.concat instead.\n",
            "  df = df.append(df_to_append,ignore_index=True)\n",
            "/var/folders/kz/xlm62_gd27156y49_11q1jx40000gn/T/ipykernel_83871/2056896889.py:14: FutureWarning: The frame.append method is deprecated and will be removed from pandas in a future version. Use pandas.concat instead.\n",
            "  df = df.append(df_to_append,ignore_index=True)\n",
            "/var/folders/kz/xlm62_gd27156y49_11q1jx40000gn/T/ipykernel_83871/2056896889.py:14: FutureWarning: The frame.append method is deprecated and will be removed from pandas in a future version. Use pandas.concat instead.\n",
            "  df = df.append(df_to_append,ignore_index=True)\n"
          ]
        },
        {
          "name": "stdout",
          "output_type": "stream",
          "text": [
            "(69, 2)\n"
          ]
        },
        {
          "name": "stderr",
          "output_type": "stream",
          "text": [
            "/var/folders/kz/xlm62_gd27156y49_11q1jx40000gn/T/ipykernel_83871/2056896889.py:14: FutureWarning: The frame.append method is deprecated and will be removed from pandas in a future version. Use pandas.concat instead.\n",
            "  df = df.append(df_to_append,ignore_index=True)\n",
            "/var/folders/kz/xlm62_gd27156y49_11q1jx40000gn/T/ipykernel_83871/2056896889.py:14: FutureWarning: The frame.append method is deprecated and will be removed from pandas in a future version. Use pandas.concat instead.\n",
            "  df = df.append(df_to_append,ignore_index=True)\n",
            "/var/folders/kz/xlm62_gd27156y49_11q1jx40000gn/T/ipykernel_83871/2056896889.py:14: FutureWarning: The frame.append method is deprecated and will be removed from pandas in a future version. Use pandas.concat instead.\n",
            "  df = df.append(df_to_append,ignore_index=True)\n",
            "/var/folders/kz/xlm62_gd27156y49_11q1jx40000gn/T/ipykernel_83871/2056896889.py:14: FutureWarning: The frame.append method is deprecated and will be removed from pandas in a future version. Use pandas.concat instead.\n",
            "  df = df.append(df_to_append,ignore_index=True)\n",
            "/var/folders/kz/xlm62_gd27156y49_11q1jx40000gn/T/ipykernel_83871/2056896889.py:14: FutureWarning: The frame.append method is deprecated and will be removed from pandas in a future version. Use pandas.concat instead.\n",
            "  df = df.append(df_to_append,ignore_index=True)\n"
          ]
        },
        {
          "data": {
            "text/html": [
              "<div>\n",
              "<style scoped>\n",
              "    .dataframe tbody tr th:only-of-type {\n",
              "        vertical-align: middle;\n",
              "    }\n",
              "\n",
              "    .dataframe tbody tr th {\n",
              "        vertical-align: top;\n",
              "    }\n",
              "\n",
              "    .dataframe thead th {\n",
              "        text-align: right;\n",
              "    }\n",
              "</style>\n",
              "<table border=\"1\" class=\"dataframe\">\n",
              "  <thead>\n",
              "    <tr style=\"text-align: right;\">\n",
              "      <th></th>\n",
              "      <th>response</th>\n",
              "      <th>labels</th>\n",
              "    </tr>\n",
              "  </thead>\n",
              "  <tbody>\n",
              "    <tr>\n",
              "      <th>0</th>\n",
              "      <td>Hello!</td>\n",
              "      <td>greeting</td>\n",
              "    </tr>\n",
              "    <tr>\n",
              "      <th>1</th>\n",
              "      <td>Good to see you again!</td>\n",
              "      <td>greeting</td>\n",
              "    </tr>\n",
              "    <tr>\n",
              "      <th>2</th>\n",
              "      <td>Hi there, how can I help?</td>\n",
              "      <td>greeting</td>\n",
              "    </tr>\n",
              "    <tr>\n",
              "      <th>3</th>\n",
              "      <td>Sad to see you go :(</td>\n",
              "      <td>goodbye</td>\n",
              "    </tr>\n",
              "    <tr>\n",
              "      <th>4</th>\n",
              "      <td>Talk to you later</td>\n",
              "      <td>goodbye</td>\n",
              "    </tr>\n",
              "  </tbody>\n",
              "</table>\n",
              "</div>"
            ],
            "text/plain": [
              "                    response    labels\n",
              "0                     Hello!  greeting\n",
              "1     Good to see you again!  greeting\n",
              "2  Hi there, how can I help?  greeting\n",
              "3       Sad to see you go :(   goodbye\n",
              "4          Talk to you later   goodbye"
            ]
          },
          "execution_count": 8,
          "metadata": {},
          "output_type": "execute_result"
        }
      ],
      "source": [
        "# Bot response\n",
        "df2 = frame_data('response','labels',False)\n",
        "print(df2.shape)\n",
        "df2.head()"
      ]
    },
    {
      "cell_type": "markdown",
      "metadata": {
        "id": "YZrEn6A0--wj"
      },
      "source": [
        "## Text Pre-processing"
      ]
    },
    {
      "cell_type": "markdown",
      "metadata": {
        "id": "LXfLhpWGBiE9"
      },
      "source": [
        "### Tokenization and Lemmatization\n",
        "\n",
        "**Tokenization** is the act of splitting a text corpus into constitute words—i.e splitting a phrase, sentence, paragraph, or an entire text document into smaller units, such as individual words or terms. Each of these smaller units is called a token. Tokenization can be done manually by splitting based on white space or by using dedicated tools in libraries such as NLTK. \n",
        "\n",
        "**Lemmatization** is a common normalization technique in text pre-processing. In lemmatization, words are replaced by their root form or words with similar context. Another text normalization technique similar to this is called stemming. This is often done alongside manual tokenization so as to yield useful tokens.\n",
        "\n",
        "![image.png](data:image/png;base64,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)\n",
        "\n",
        "The function below was used to tokenize and lemmatize our corpus:"
      ]
    },
    {
      "cell_type": "code",
      "execution_count": 9,
      "metadata": {
        "id": "eko6bT7lK1XU"
      },
      "outputs": [],
      "source": [
        "lemmatizer = WordNetLemmatizer()\n",
        "\n",
        "vocab = Counter()\n",
        "labels = []\n",
        "def tokenizer(entry):\n",
        "    tokens = entry.split()\n",
        "    re_punc = re.compile('[%s]' % re.escape(string.punctuation))\n",
        "    tokens = [re_punc.sub('', w) for w in tokens]\n",
        "    tokens = [word for word in tokens if word.isalpha()]\n",
        "    tokens = [lemmatizer.lemmatize(w.lower()) for w in tokens]\n",
        "    tokens = [word.lower() for word in tokens if len(word) > 1]\n",
        "    return tokens"
      ]
    },
    {
      "cell_type": "markdown",
      "metadata": {
        "id": "34F8TchpCiKd"
      },
      "source": [
        "### Removing Stop Words\n",
        "\n",
        "It’s also good practice to remove stop words from tokens so as to avoid misleading the model. Stop words are words that do not contribute to the deeper meaning of the phrase—definite and indefinite articles, pronouns, and conjunctions to mention a few.\n",
        "With the NLTK library, filtering out stop words is easy, and you can also add words that you feel should be a stop word into the predefined set of words in the library."
      ]
    },
    {
      "cell_type": "code",
      "execution_count": 10,
      "metadata": {
        "id": "EbjzzEmLK1XU"
      },
      "outputs": [],
      "source": [
        "def remove_stop_words(tokenizer,df,feature):\n",
        "    doc_without_stopwords = []\n",
        "    for entry in df[feature]:\n",
        "        tokens = tokenizer(entry)\n",
        "        joblib.dump(tokens,'tokens.pkl')\n",
        "        doc_without_stopwords.append(' '.join(tokens))\n",
        "    df[feature] = doc_without_stopwords\n",
        "    return "
      ]
    },
    {
      "cell_type": "markdown",
      "metadata": {
        "id": "-mPIOsDDDb3a"
      },
      "source": [
        "### Vocabulary Building\n",
        "\n",
        "Once we remove the stop words, the text is becoming cleaner, and at least halfway ready for modeling. Our next step is to build a vocabulary, which is a set of words in a given dataset after the removal of stop words. This will come in very handy during data encoding."
      ]
    },
    {
      "cell_type": "code",
      "execution_count": 15,
      "metadata": {
        "id": "_RoFaJiLK1XV"
      },
      "outputs": [],
      "source": [
        "def create_vocab(tokenizer,df,feature):\n",
        "    for entry in df[feature]:\n",
        "        tokens = tokenizer(entry) \n",
        "        #remove stop words\n",
        "        tokens = [word for word in tokens if word not in stopwords.words('english')]  \n",
        "        vocab.update(tokens)\n",
        "    joblib.dump(vocab,'vocab.pkl')\n",
        "    return "
      ]
    },
    {
      "cell_type": "code",
      "execution_count": 12,
      "metadata": {
        "colab": {
          "base_uri": "https://localhost:8080/"
        },
        "id": "XgvtcTRPK1XR",
        "outputId": "5ae783d8-e602-4145-e5ec-4732e060b58b"
      },
      "outputs": [
        {
          "name": "stderr",
          "output_type": "stream",
          "text": [
            "[nltk_data] Downloading package wordnet to\n",
            "[nltk_data]     /Users/devprisha/nltk_data...\n",
            "[nltk_data]   Package wordnet is already up-to-date!\n"
          ]
        },
        {
          "data": {
            "text/plain": [
              "True"
            ]
          },
          "execution_count": 12,
          "metadata": {},
          "output_type": "execute_result"
        }
      ],
      "source": [
        "nltk.download('wordnet')"
      ]
    },
    {
      "cell_type": "code",
      "execution_count": 16,
      "metadata": {
        "id": "pv_AZqcCK1XW"
      },
      "outputs": [],
      "source": [
        "create_vocab(tokenizer,df1,'questions')\n",
        "remove_stop_words(tokenizer,df1,'questions')"
      ]
    },
    {
      "cell_type": "code",
      "execution_count": null,
      "metadata": {},
      "outputs": [],
      "source": [
        "#remove stop words\n"
      ]
    },
    {
      "cell_type": "code",
      "execution_count": 17,
      "metadata": {
        "colab": {
          "base_uri": "https://localhost:8080/"
        },
        "id": "dXOCCS80K1XW",
        "outputId": "43317da5-ec1d-4450-c4b3-b4500bd57ebb"
      },
      "outputs": [
        {
          "name": "stdout",
          "output_type": "stream",
          "text": [
            "[('college', 150), ('hod', 98), ('is', 96), ('what', 63), ('hostel', 58), ('admission', 58), ('the', 52), ('fee', 48), ('of', 45), ('name', 44), ('in', 37), ('you', 36), ('how', 35), ('igdtuw', 32), ('station', 32), ('for', 31), ('available', 30), ('many', 30), ('facility', 30), ('branch', 28)]\n"
          ]
        }
      ],
      "source": [
        "print(vocab.most_common(20))"
      ]
    },
    {
      "cell_type": "code",
      "execution_count": 18,
      "metadata": {
        "colab": {
          "base_uri": "https://localhost:8080/"
        },
        "id": "3iIVWDHGK1XW",
        "outputId": "d4793222-d2b4-4bc3-c997-c2efb438b0b7"
      },
      "outputs": [
        {
          "data": {
            "text/plain": [
              "307"
            ]
          },
          "execution_count": 18,
          "metadata": {},
          "output_type": "execute_result"
        }
      ],
      "source": [
        "vocab_size = len(vocab)\n",
        "vocab_size"
      ]
    },
    {
      "cell_type": "code",
      "execution_count": 19,
      "metadata": {
        "colab": {
          "base_uri": "https://localhost:8080/"
        },
        "id": "-8dX2TDEK1XX",
        "outputId": "6652e667-1575-46d4-90c8-e6cd857706aa"
      },
      "outputs": [
        {
          "data": {
            "text/plain": [
              "['how many btech stream',\n",
              " 'what is the name of vice chancellor',\n",
              " 'tell me about leanin',\n",
              " 'how many mtech stream',\n",
              " 'how many phd stream',\n",
              " 'what is the process of undergraduate admission',\n",
              " 'who is ai hod',\n",
              " 'who is applied science hod',\n",
              " 'who is architecture department hod',\n",
              " 'nearest bus station',\n",
              " 'food facility',\n",
              " 'max number of student',\n",
              " 'what are the different committe in college',\n",
              " 'list of course',\n",
              " 'what is the name of your developer',\n",
              " 'who is cse hod',\n",
              " 'document to bring',\n",
              " 'who is ece hod',\n",
              " 'event organised',\n",
              " 'what facility college provide',\n",
              " 'need human assistance',\n",
              " 'information about fee',\n",
              " 'size of campus',\n",
              " 'cya',\n",
              " 'hi',\n",
              " 'hod',\n",
              " 'hostel facility',\n",
              " 'what is fee structure for hostel fee in igdtuw',\n",
              " 'timing of college',\n",
              " 'year of establishment',\n",
              " 'how is college infrastructure',\n",
              " 'who is it hod',\n",
              " 'is there any library',\n",
              " 'where is the college located',\n",
              " 'who is management hod',\n",
              " 'tell me more about mba',\n",
              " 'who is mechanical hod',\n",
              " 'food menu',\n",
              " 'nearest metro station',\n",
              " 'name',\n",
              " 'what is the nirf ranking of college',\n",
              " 'more info',\n",
              " 'admission calendar pg',\n",
              " 'what is college placement',\n",
              " 'ragging',\n",
              " 'love you',\n",
              " 'research domain',\n",
              " 'okk',\n",
              " 'exam date',\n",
              " 'syllabus for it',\n",
              " 'what can you do',\n",
              " 'nearest train station',\n",
              " 'dtc bus route',\n",
              " 'how many undergraduate student attend this college',\n",
              " 'college dress code',\n",
              " 'holiday']"
            ]
          },
          "execution_count": 19,
          "metadata": {},
          "output_type": "execute_result"
        }
      ],
      "source": [
        "test_list = list(df1.groupby(by='labels',as_index=False).first()['questions'])\n",
        "test_list"
      ]
    },
    {
      "cell_type": "code",
      "execution_count": 20,
      "metadata": {
        "colab": {
          "base_uri": "https://localhost:8080/"
        },
        "id": "2HyEavSQK1XY",
        "outputId": "0f10ea36-416f-48ac-fe41-56c51da559aa"
      },
      "outputs": [
        {
          "data": {
            "text/plain": [
              "[99,\n",
              " 309,\n",
              " 441,\n",
              " 109,\n",
              " 119,\n",
              " 332,\n",
              " 303,\n",
              " 260,\n",
              " 285,\n",
              " 424,\n",
              " 237,\n",
              " 343,\n",
              " 361,\n",
              " 82,\n",
              " 21,\n",
              " 267,\n",
              " 190,\n",
              " 273,\n",
              " 179,\n",
              " 338,\n",
              " 490,\n",
              " 129,\n",
              " 203,\n",
              " 9,\n",
              " 0,\n",
              " 406,\n",
              " 157,\n",
              " 450,\n",
              " 50,\n",
              " 465,\n",
              " 234,\n",
              " 279,\n",
              " 222,\n",
              " 143,\n",
              " 297,\n",
              " 485,\n",
              " 291,\n",
              " 247,\n",
              " 416,\n",
              " 37,\n",
              " 432,\n",
              " 67,\n",
              " 474,\n",
              " 252,\n",
              " 398,\n",
              " 367,\n",
              " 457,\n",
              " 380,\n",
              " 317,\n",
              " 210,\n",
              " 392,\n",
              " 436,\n",
              " 409,\n",
              " 471,\n",
              " 352,\n",
              " 370]"
            ]
          },
          "execution_count": 20,
          "metadata": {},
          "output_type": "execute_result"
        }
      ],
      "source": [
        "test_index = []\n",
        "for i,_ in enumerate(test_list):\n",
        "    idx = df1[df1.questions == test_list[i]].index[0]\n",
        "    test_index.append(idx)\n",
        "test_index"
      ]
    },
    {
      "cell_type": "code",
      "execution_count": 21,
      "metadata": {
        "id": "wg_eGe94K1XY"
      },
      "outputs": [],
      "source": [
        "train_index = [i for i in df1.index if i not in test_index]"
      ]
    },
    {
      "cell_type": "code",
      "execution_count": 22,
      "metadata": {
        "colab": {
          "base_uri": "https://localhost:8080/",
          "height": 208
        },
        "id": "Mm88XPgQK1XY",
        "outputId": "6d5c2bcc-d4c9-4edf-98c1-1941fde9b379"
      },
      "outputs": [
        {
          "data": {
            "text/plain": [
              "'hi how are you is anyone there hello good day whats up ya heyy whatsup cya see bye later goodbye am leaving have talk to tyyl got go gtg what the name of your developer creator who created made by whom create designed do called should call this chatting taking timing college working when guy open hour operation about on saturday tell something come attend my time more info contact telephone number no phone can get list course offered in igdtuw offer branch available at me many btech stream field type mtech phd information fee per semester each year much for first where located address reach location wheres hostel facility service doe provide any capacity far from distance big between and event organised conducted held function document bring needed admision admission during required which need size campus building floor tall syllabus it technology timetable next lecture computer science holiday ece library book infrastructure food canteen cafetaria menu we placement company visit average package recruitment applied hod humanity humaniyies cse architecture department dept mechanical management ai vice chancellor whatv office exam date schedule sem academic calendar class begin process undergraduate ug take undergrad provided max student seat maximum intake stundent taken allotment dress code dresscode uniform wear casuals an different committe committee give detail love will marry start end vacation long be okk okie nice work well done job thanks help thank ok okay thing why use ragging practice active antiragging case here junior history incident dtc bus route mode transportation travelling nearest metro station near closest nearby stop busstop nirf ranking university ranklist train railway leanin purpose look share social medium structure cost live annum breakup research domain various project going ongoing grant topic external establishment wa established old founded foundation vacancy pg postgraduate mplan mca last mba brochure human assistance helpdesk support email incharge technical useless'"
            ]
          },
          "execution_count": 22,
          "metadata": {},
          "output_type": "execute_result"
        }
      ],
      "source": [
        "' '.join(list(vocab.keys()))"
      ]
    },
    {
      "cell_type": "markdown",
      "metadata": {
        "id": "h9AZ6XCMD9x6"
      },
      "source": [
        "## Encoding and Decoding\n",
        "\n",
        "Now that we have a vocabulary of words in the dataset, each of the patterns can be encoded into numerical features for modeling, using any of the common text encoding techniques—count vectorizer, term frequency-inverse document frequency (TF-IDF), hashing, etc.\n",
        "Using TensorFlow.Keras text_to_sequence, we can encode each pattern corpus to vectorize a text corpus by turning each text into either a sequence of integers (each integer being the index of a token in a dictionary) or into a vector where the coefficient for each token could be binary, based on word count which is based on **TF-IDF**. The resulting vectors will be post-padded with zeros so as to equal the length of the vectors."
      ]
    },
    {
      "cell_type": "code",
      "execution_count": 23,
      "metadata": {
        "id": "2NRXLTLNK1XZ"
      },
      "outputs": [],
      "source": [
        "def encoder(df,feature):\n",
        "#     text = ' '.join(list(vocab.keys()))\n",
        "    t = Tokenizer()\n",
        "    entries = [entry for entry in df[feature]]\n",
        "    t.fit_on_texts(entries)\n",
        "    joblib.dump(t,'tokenizer_t.pkl')\n",
        "    vocab_size = len(t.word_index) + 1\n",
        "    entries = [entry for entry in df[feature]]\n",
        "    max_length = max([len(s.split()) for s in entries])\n",
        "    encoded = t.texts_to_sequences(entries)\n",
        "    padded = pad_sequences(encoded, maxlen=max_length, padding='post')\n",
        "    return padded, vocab_size"
      ]
    },
    {
      "cell_type": "code",
      "execution_count": 24,
      "metadata": {
        "id": "nE1-h3rSK1XZ"
      },
      "outputs": [],
      "source": [
        "X,vocab_size = encoder(df1,'questions')"
      ]
    },
    {
      "cell_type": "code",
      "execution_count": 25,
      "metadata": {
        "colab": {
          "base_uri": "https://localhost:8080/"
        },
        "id": "8wldaK_TRPbQ",
        "outputId": "452d7d57-9ddf-4f39-a446-b6eac87a2e05"
      },
      "outputs": [
        {
          "data": {
            "text/plain": [
              "308"
            ]
          },
          "execution_count": 25,
          "metadata": {},
          "output_type": "execute_result"
        }
      ],
      "source": [
        "vocab_size"
      ]
    },
    {
      "cell_type": "code",
      "execution_count": 26,
      "metadata": {
        "id": "tiACXIWmK1XZ"
      },
      "outputs": [],
      "source": [
        "df_encoded = pd.DataFrame(X)"
      ]
    },
    {
      "cell_type": "code",
      "execution_count": 27,
      "metadata": {
        "colab": {
          "base_uri": "https://localhost:8080/",
          "height": 204
        },
        "id": "naNZr8KHK1XZ",
        "outputId": "16686f04-9ad7-43d7-8295-0457ba065af0"
      },
      "outputs": [
        {
          "data": {
            "text/html": [
              "<div>\n",
              "<style scoped>\n",
              "    .dataframe tbody tr th:only-of-type {\n",
              "        vertical-align: middle;\n",
              "    }\n",
              "\n",
              "    .dataframe tbody tr th {\n",
              "        vertical-align: top;\n",
              "    }\n",
              "\n",
              "    .dataframe thead th {\n",
              "        text-align: right;\n",
              "    }\n",
              "</style>\n",
              "<table border=\"1\" class=\"dataframe\">\n",
              "  <thead>\n",
              "    <tr style=\"text-align: right;\">\n",
              "      <th></th>\n",
              "      <th>0</th>\n",
              "      <th>1</th>\n",
              "      <th>2</th>\n",
              "      <th>3</th>\n",
              "      <th>4</th>\n",
              "      <th>5</th>\n",
              "      <th>6</th>\n",
              "      <th>7</th>\n",
              "      <th>8</th>\n",
              "      <th>9</th>\n",
              "      <th>10</th>\n",
              "      <th>labels</th>\n",
              "    </tr>\n",
              "  </thead>\n",
              "  <tbody>\n",
              "    <tr>\n",
              "      <th>0</th>\n",
              "      <td>188</td>\n",
              "      <td>0</td>\n",
              "      <td>0</td>\n",
              "      <td>0</td>\n",
              "      <td>0</td>\n",
              "      <td>0</td>\n",
              "      <td>0</td>\n",
              "      <td>0</td>\n",
              "      <td>0</td>\n",
              "      <td>0</td>\n",
              "      <td>0</td>\n",
              "      <td>greeting</td>\n",
              "    </tr>\n",
              "    <tr>\n",
              "      <th>1</th>\n",
              "      <td>9</td>\n",
              "      <td>13</td>\n",
              "      <td>8</td>\n",
              "      <td>0</td>\n",
              "      <td>0</td>\n",
              "      <td>0</td>\n",
              "      <td>0</td>\n",
              "      <td>0</td>\n",
              "      <td>0</td>\n",
              "      <td>0</td>\n",
              "      <td>0</td>\n",
              "      <td>greeting</td>\n",
              "    </tr>\n",
              "    <tr>\n",
              "      <th>2</th>\n",
              "      <td>1</td>\n",
              "      <td>189</td>\n",
              "      <td>37</td>\n",
              "      <td>0</td>\n",
              "      <td>0</td>\n",
              "      <td>0</td>\n",
              "      <td>0</td>\n",
              "      <td>0</td>\n",
              "      <td>0</td>\n",
              "      <td>0</td>\n",
              "      <td>0</td>\n",
              "      <td>greeting</td>\n",
              "    </tr>\n",
              "    <tr>\n",
              "      <th>3</th>\n",
              "      <td>190</td>\n",
              "      <td>0</td>\n",
              "      <td>0</td>\n",
              "      <td>0</td>\n",
              "      <td>0</td>\n",
              "      <td>0</td>\n",
              "      <td>0</td>\n",
              "      <td>0</td>\n",
              "      <td>0</td>\n",
              "      <td>0</td>\n",
              "      <td>0</td>\n",
              "      <td>greeting</td>\n",
              "    </tr>\n",
              "    <tr>\n",
              "      <th>4</th>\n",
              "      <td>108</td>\n",
              "      <td>109</td>\n",
              "      <td>0</td>\n",
              "      <td>0</td>\n",
              "      <td>0</td>\n",
              "      <td>0</td>\n",
              "      <td>0</td>\n",
              "      <td>0</td>\n",
              "      <td>0</td>\n",
              "      <td>0</td>\n",
              "      <td>0</td>\n",
              "      <td>greeting</td>\n",
              "    </tr>\n",
              "  </tbody>\n",
              "</table>\n",
              "</div>"
            ],
            "text/plain": [
              "     0    1   2  3  4  5  6  7  8  9  10    labels\n",
              "0  188    0   0  0  0  0  0  0  0  0   0  greeting\n",
              "1    9   13   8  0  0  0  0  0  0  0   0  greeting\n",
              "2    1  189  37  0  0  0  0  0  0  0   0  greeting\n",
              "3  190    0   0  0  0  0  0  0  0  0   0  greeting\n",
              "4  108  109   0  0  0  0  0  0  0  0   0  greeting"
            ]
          },
          "execution_count": 27,
          "metadata": {},
          "output_type": "execute_result"
        }
      ],
      "source": [
        "df_encoded['labels'] = df1.labels\n",
        "df_encoded.head()"
      ]
    },
    {
      "cell_type": "code",
      "execution_count": 28,
      "metadata": {
        "id": "eBCdVKNGK1Xa"
      },
      "outputs": [
        {
          "name": "stderr",
          "output_type": "stream",
          "text": [
            "/var/folders/kz/xlm62_gd27156y49_11q1jx40000gn/T/ipykernel_83871/1102702766.py:6: FutureWarning: The frame.append method is deprecated and will be removed from pandas in a future version. Use pandas.concat instead.\n",
            "  df_encoded = df_encoded.append(pd.DataFrame(dt).rename(columns = {10:'labels'}),ignore_index=True)\n",
            "/var/folders/kz/xlm62_gd27156y49_11q1jx40000gn/T/ipykernel_83871/1102702766.py:6: FutureWarning: The frame.append method is deprecated and will be removed from pandas in a future version. Use pandas.concat instead.\n",
            "  df_encoded = df_encoded.append(pd.DataFrame(dt).rename(columns = {10:'labels'}),ignore_index=True)\n"
          ]
        }
      ],
      "source": [
        "for i in range(0,2):\n",
        "    dt = [0]*10\n",
        "    dt.append('confused')\n",
        "    dt = [dt]\n",
        "    pd.DataFrame(dt).rename(columns = {10:'labels'})\n",
        "    df_encoded = df_encoded.append(pd.DataFrame(dt).rename(columns = {10:'labels'}),ignore_index=True)"
      ]
    },
    {
      "cell_type": "code",
      "execution_count": 29,
      "metadata": {
        "colab": {
          "base_uri": "https://localhost:8080/",
          "height": 204
        },
        "id": "MprMflB2K1Xa",
        "outputId": "24aa913e-a461-4b43-925d-ad9e882efb7a"
      },
      "outputs": [
        {
          "data": {
            "text/html": [
              "<div>\n",
              "<style scoped>\n",
              "    .dataframe tbody tr th:only-of-type {\n",
              "        vertical-align: middle;\n",
              "    }\n",
              "\n",
              "    .dataframe tbody tr th {\n",
              "        vertical-align: top;\n",
              "    }\n",
              "\n",
              "    .dataframe thead th {\n",
              "        text-align: right;\n",
              "    }\n",
              "</style>\n",
              "<table border=\"1\" class=\"dataframe\">\n",
              "  <thead>\n",
              "    <tr style=\"text-align: right;\">\n",
              "      <th></th>\n",
              "      <th>0</th>\n",
              "      <th>1</th>\n",
              "      <th>2</th>\n",
              "      <th>3</th>\n",
              "      <th>4</th>\n",
              "      <th>5</th>\n",
              "      <th>6</th>\n",
              "      <th>7</th>\n",
              "      <th>8</th>\n",
              "      <th>9</th>\n",
              "      <th>10</th>\n",
              "      <th>labels</th>\n",
              "    </tr>\n",
              "  </thead>\n",
              "  <tbody>\n",
              "    <tr>\n",
              "      <th>496</th>\n",
              "      <td>16</td>\n",
              "      <td>20</td>\n",
              "      <td>63</td>\n",
              "      <td>306</td>\n",
              "      <td>137</td>\n",
              "      <td>0</td>\n",
              "      <td>0</td>\n",
              "      <td>0</td>\n",
              "      <td>0</td>\n",
              "      <td>0</td>\n",
              "      <td>0.0</td>\n",
              "      <td>fallback</td>\n",
              "    </tr>\n",
              "    <tr>\n",
              "      <th>497</th>\n",
              "      <td>8</td>\n",
              "      <td>13</td>\n",
              "      <td>307</td>\n",
              "      <td>0</td>\n",
              "      <td>0</td>\n",
              "      <td>0</td>\n",
              "      <td>0</td>\n",
              "      <td>0</td>\n",
              "      <td>0</td>\n",
              "      <td>0</td>\n",
              "      <td>0.0</td>\n",
              "      <td>fallback</td>\n",
              "    </tr>\n",
              "    <tr>\n",
              "      <th>498</th>\n",
              "      <td>83</td>\n",
              "      <td>79</td>\n",
              "      <td>106</td>\n",
              "      <td>0</td>\n",
              "      <td>0</td>\n",
              "      <td>0</td>\n",
              "      <td>0</td>\n",
              "      <td>0</td>\n",
              "      <td>0</td>\n",
              "      <td>0</td>\n",
              "      <td>0.0</td>\n",
              "      <td>fallback</td>\n",
              "    </tr>\n",
              "    <tr>\n",
              "      <th>499</th>\n",
              "      <td>0</td>\n",
              "      <td>0</td>\n",
              "      <td>0</td>\n",
              "      <td>0</td>\n",
              "      <td>0</td>\n",
              "      <td>0</td>\n",
              "      <td>0</td>\n",
              "      <td>0</td>\n",
              "      <td>0</td>\n",
              "      <td>0</td>\n",
              "      <td>NaN</td>\n",
              "      <td>confused</td>\n",
              "    </tr>\n",
              "    <tr>\n",
              "      <th>500</th>\n",
              "      <td>0</td>\n",
              "      <td>0</td>\n",
              "      <td>0</td>\n",
              "      <td>0</td>\n",
              "      <td>0</td>\n",
              "      <td>0</td>\n",
              "      <td>0</td>\n",
              "      <td>0</td>\n",
              "      <td>0</td>\n",
              "      <td>0</td>\n",
              "      <td>NaN</td>\n",
              "      <td>confused</td>\n",
              "    </tr>\n",
              "  </tbody>\n",
              "</table>\n",
              "</div>"
            ],
            "text/plain": [
              "      0   1    2    3    4  5  6  7  8  9   10    labels\n",
              "496  16  20   63  306  137  0  0  0  0  0  0.0  fallback\n",
              "497   8  13  307    0    0  0  0  0  0  0  0.0  fallback\n",
              "498  83  79  106    0    0  0  0  0  0  0  0.0  fallback\n",
              "499   0   0    0    0    0  0  0  0  0  0  NaN  confused\n",
              "500   0   0    0    0    0  0  0  0  0  0  NaN  confused"
            ]
          },
          "execution_count": 29,
          "metadata": {},
          "output_type": "execute_result"
        }
      ],
      "source": [
        "df_encoded.tail()"
      ]
    },
    {
      "cell_type": "code",
      "execution_count": 30,
      "metadata": {
        "id": "-7FVeB9VRmYP"
      },
      "outputs": [],
      "source": [
        "df_encoded.fillna(0, inplace = True)"
      ]
    },
    {
      "cell_type": "markdown",
      "metadata": {
        "id": "ejiByE6uFQJ_"
      },
      "source": [
        "#### train test split"
      ]
    },
    {
      "cell_type": "code",
      "execution_count": 31,
      "metadata": {
        "id": "4J-SnMgLK1Xa"
      },
      "outputs": [],
      "source": [
        "train_index.append(499)"
      ]
    },
    {
      "cell_type": "code",
      "execution_count": 32,
      "metadata": {
        "id": "cY3EAOquK1Xb"
      },
      "outputs": [],
      "source": [
        "test_index.append(500)"
      ]
    },
    {
      "cell_type": "markdown",
      "metadata": {
        "id": "ubzuFUieFT3L"
      },
      "source": [
        "#### Converting dataset to machine readable form using label encoding"
      ]
    },
    {
      "cell_type": "code",
      "execution_count": 33,
      "metadata": {
        "id": "PcyN2FpFK1Xc"
      },
      "outputs": [],
      "source": [
        "from sklearn.preprocessing import LabelEncoder\n",
        "lable_enc = LabelEncoder()"
      ]
    },
    {
      "cell_type": "code",
      "execution_count": 34,
      "metadata": {
        "colab": {
          "base_uri": "https://localhost:8080/"
        },
        "id": "uT_1xuwMK1Xc",
        "outputId": "fffc22b6-68c2-4b1f-d64e-617449f9c442"
      },
      "outputs": [
        {
          "data": {
            "text/plain": [
              "array([25, 25, 25, 25, 25, 25, 25, 25, 25, 24, 24, 24, 24, 24, 24, 24, 24,\n",
              "       24, 24, 24, 24, 15, 15, 15, 15, 15, 15, 15, 15, 15, 15, 15, 15, 15,\n",
              "       15, 15, 15, 40, 40, 40, 40, 40, 40, 40, 40, 40, 40, 40, 40, 40, 29,\n",
              "       29, 29, 29, 29, 29, 29, 29, 29, 29, 29, 29, 29, 29, 29, 29, 29, 42,\n",
              "       42, 42, 42, 42, 42, 42, 42, 42, 42, 42, 42, 42, 42, 42, 14, 14, 14,\n",
              "       14, 14, 14, 14, 14, 14, 14, 14, 14, 14, 14, 14, 14, 14,  0,  0,  0,\n",
              "        0,  0,  0,  0,  0,  0,  0,  3,  3,  3,  3,  3,  3,  3,  3,  3,  3,\n",
              "        4,  4,  4,  4,  4,  4,  4,  4,  4,  4, 22, 22, 22, 22, 22, 22, 22,\n",
              "       22, 22, 22, 22, 22, 22, 22, 34, 34, 34, 34, 34, 34, 34, 34, 34, 34,\n",
              "       34, 34, 34, 34, 27, 27, 27, 27, 27, 27, 27, 27, 27, 27, 27, 27, 27,\n",
              "       27, 27, 27, 27, 27, 27, 27, 27, 27, 19, 19, 19, 19, 19, 19, 19, 19,\n",
              "       19, 19, 19, 17, 17, 17, 17, 17, 17, 17, 17, 17, 17, 17, 17, 17, 23,\n",
              "       23, 23, 23, 23, 23, 23, 50, 50, 50, 50, 50, 50, 50, 50, 50, 50, 50,\n",
              "       50, 33, 33, 33, 33, 33, 33, 33, 33, 33, 33, 33, 33, 31, 31, 31, 10,\n",
              "       10, 10, 10, 10, 10, 10, 10, 10, 10, 38, 38, 38, 38, 38, 44, 44, 44,\n",
              "       44, 44, 44, 44, 44,  7,  7,  7,  7,  7,  7,  7, 16, 16, 16, 16, 16,\n",
              "       16, 18, 18, 18, 18, 18, 18, 32, 32, 32, 32, 32, 32,  8,  8,  8,  8,\n",
              "        8,  8, 37, 37, 37, 37, 37, 37, 35, 35, 35, 35, 35, 35,  6,  6,  6,\n",
              "        6,  6,  6,  1,  1,  1,  1,  1,  1,  1,  1, 49, 49, 49, 49, 49, 49,\n",
              "       49, 49, 49, 49, 49, 49, 49, 49, 49,  5,  5,  5,  5,  5,  5, 20, 20,\n",
              "       20, 20, 20, 11, 11, 11, 11, 11, 11, 11, 11, 11, 55, 55, 55, 55, 55,\n",
              "       55, 55, 55, 55, 12, 12, 12, 12, 12, 12, 46, 46, 46, 56, 56, 56, 56,\n",
              "       56, 56, 56, 56, 56, 56, 48, 48, 48, 48, 48, 48, 48, 48, 48, 48, 48,\n",
              "       48, 51, 51, 51, 51, 51, 51, 45, 45, 45, 45, 45, 45, 45, 45, 26, 26,\n",
              "       26, 53, 53, 53, 53, 53, 53, 53, 39, 39, 39, 39, 39, 39, 39, 39,  9,\n",
              "        9,  9,  9,  9,  9,  9,  9, 41, 41, 41, 41, 52, 52, 52, 52, 52,  2,\n",
              "        2,  2,  2,  2,  2,  2,  2,  2, 28, 28, 28, 28, 28, 28, 28, 47, 47,\n",
              "       47, 47, 47, 47, 47, 47, 30, 30, 30, 30, 30, 30, 54, 54, 54, 43, 43,\n",
              "       43, 43, 43, 43, 43, 43, 43, 43, 43, 36, 36, 36, 36, 36, 21, 21, 21,\n",
              "       21, 21, 21, 21, 21, 21, 13, 13])"
            ]
          },
          "execution_count": 34,
          "metadata": {},
          "output_type": "execute_result"
        }
      ],
      "source": [
        "labl = lable_enc.fit_transform(df_encoded.labels)\n",
        "labl"
      ]
    },
    {
      "cell_type": "markdown",
      "metadata": {
        "id": "LFyUgfT5Fcrx"
      },
      "source": [
        "#### encoding `['label']` to machine readable form"
      ]
    },
    {
      "cell_type": "code",
      "execution_count": 35,
      "metadata": {
        "colab": {
          "base_uri": "https://localhost:8080/"
        },
        "id": "-Rafx07jK1Xc",
        "outputId": "aae3f752-93b5-433e-a360-96294979bd81"
      },
      "outputs": [
        {
          "data": {
            "text/plain": [
              "{'greeting': 25,\n",
              " 'goodbye': 24,\n",
              " 'creator': 15,\n",
              " 'name': 40,\n",
              " 'hours': 29,\n",
              " 'number': 42,\n",
              " 'course': 14,\n",
              " 'B.Tech.': 0,\n",
              " 'M.Tech': 3,\n",
              " 'Ph.D.': 4,\n",
              " 'fees': 22,\n",
              " 'location': 34,\n",
              " 'hostel': 27,\n",
              " 'event': 19,\n",
              " 'document': 17,\n",
              " 'floors': 23,\n",
              " 'syllabus': 50,\n",
              " 'library': 33,\n",
              " 'infrastructure': 31,\n",
              " 'canteen': 10,\n",
              " 'menu': 38,\n",
              " 'placement': 44,\n",
              " 'applied science hod': 7,\n",
              " 'csehod': 16,\n",
              " 'ecehod': 18,\n",
              " 'ithod': 32,\n",
              " 'architecture hod': 8,\n",
              " 'mechhod': 37,\n",
              " 'managementhod': 35,\n",
              " 'aihod': 6,\n",
              " 'Chancellor': 1,\n",
              " 'sem': 49,\n",
              " 'admission': 5,\n",
              " 'facilities': 20,\n",
              " 'college intake': 11,\n",
              " 'uniform': 55,\n",
              " 'committee': 12,\n",
              " 'random': 46,\n",
              " 'vacation': 56,\n",
              " 'salutaion': 48,\n",
              " 'task': 51,\n",
              " 'ragging': 45,\n",
              " 'hod': 26,\n",
              " 'transport': 53,\n",
              " 'metro': 39,\n",
              " 'bus-stop': 9,\n",
              " 'nirf': 41,\n",
              " 'train': 52,\n",
              " 'LeanIn': 2,\n",
              " 'hostel_fee': 28,\n",
              " 'research': 47,\n",
              " 'igdtuw_established': 30,\n",
              " 'ug-seats': 54,\n",
              " 'pg-admission-22': 43,\n",
              " 'mba-admission-brochure': 36,\n",
              " 'fallback': 21,\n",
              " 'confused': 13}"
            ]
          },
          "execution_count": 35,
          "metadata": {},
          "output_type": "execute_result"
        }
      ],
      "source": [
        "mapper = {}\n",
        "for index,key in enumerate(df_encoded.labels):\n",
        "    if key not in mapper.keys():\n",
        "        mapper[key] = labl[index]\n",
        "mapper"
      ]
    },
    {
      "cell_type": "markdown",
      "metadata": {
        "id": "d1SOWCIHFxM0"
      },
      "source": [
        "#### mapping encoded labels to responses dataset and saving it as csv for future use"
      ]
    },
    {
      "cell_type": "code",
      "execution_count": 36,
      "metadata": {
        "id": "P9HGQ3vrK1Xf"
      },
      "outputs": [],
      "source": [
        "df2.labels = df2.labels.map(mapper)"
      ]
    },
    {
      "cell_type": "code",
      "execution_count": 37,
      "metadata": {
        "id": "5VGVIk2VTjId"
      },
      "outputs": [],
      "source": [
        "df2.dropna(inplace=True)"
      ]
    },
    {
      "cell_type": "code",
      "execution_count": 38,
      "metadata": {
        "id": "nmvsPNl7T8lF"
      },
      "outputs": [],
      "source": [
        "df2.labels = df2.labels.astype({'labels': 'int32'})"
      ]
    },
    {
      "cell_type": "code",
      "execution_count": 39,
      "metadata": {
        "colab": {
          "base_uri": "https://localhost:8080/",
          "height": 204
        },
        "id": "xbTDBdNlUZu2",
        "outputId": "4747b056-2c14-45d1-d79c-dccbfc1b9119"
      },
      "outputs": [
        {
          "data": {
            "text/html": [
              "<div>\n",
              "<style scoped>\n",
              "    .dataframe tbody tr th:only-of-type {\n",
              "        vertical-align: middle;\n",
              "    }\n",
              "\n",
              "    .dataframe tbody tr th {\n",
              "        vertical-align: top;\n",
              "    }\n",
              "\n",
              "    .dataframe thead th {\n",
              "        text-align: right;\n",
              "    }\n",
              "</style>\n",
              "<table border=\"1\" class=\"dataframe\">\n",
              "  <thead>\n",
              "    <tr style=\"text-align: right;\">\n",
              "      <th></th>\n",
              "      <th>response</th>\n",
              "      <th>labels</th>\n",
              "    </tr>\n",
              "  </thead>\n",
              "  <tbody>\n",
              "    <tr>\n",
              "      <th>0</th>\n",
              "      <td>Hello!</td>\n",
              "      <td>25</td>\n",
              "    </tr>\n",
              "    <tr>\n",
              "      <th>1</th>\n",
              "      <td>Good to see you again!</td>\n",
              "      <td>25</td>\n",
              "    </tr>\n",
              "    <tr>\n",
              "      <th>2</th>\n",
              "      <td>Hi there, how can I help?</td>\n",
              "      <td>25</td>\n",
              "    </tr>\n",
              "    <tr>\n",
              "      <th>3</th>\n",
              "      <td>Sad to see you go :(</td>\n",
              "      <td>24</td>\n",
              "    </tr>\n",
              "    <tr>\n",
              "      <th>4</th>\n",
              "      <td>Talk to you later</td>\n",
              "      <td>24</td>\n",
              "    </tr>\n",
              "  </tbody>\n",
              "</table>\n",
              "</div>"
            ],
            "text/plain": [
              "                    response  labels\n",
              "0                     Hello!      25\n",
              "1     Good to see you again!      25\n",
              "2  Hi there, how can I help?      25\n",
              "3       Sad to see you go :(      24\n",
              "4          Talk to you later      24"
            ]
          },
          "execution_count": 39,
          "metadata": {},
          "output_type": "execute_result"
        }
      ],
      "source": [
        "df2.head()"
      ]
    },
    {
      "cell_type": "code",
      "execution_count": 40,
      "metadata": {
        "id": "3EzIJHFpK1Xg"
      },
      "outputs": [],
      "source": [
        "df2.to_csv('response.csv',index=False)"
      ]
    },
    {
      "cell_type": "markdown",
      "metadata": {
        "id": "2rQCpygCGR1z"
      },
      "source": [
        "### Data Splitting\n",
        "\n",
        "With the data encoded, we can now split it into training and testing sets. The training set will be used to train the model while the testing set will be used for evaluating its performance on unseen data. This can be done using a stratified approach, whereby of the patterns in the tags are well represented in the testing set."
      ]
    },
    {
      "cell_type": "code",
      "execution_count": 41,
      "metadata": {
        "id": "lQoTgTIuK1Xj"
      },
      "outputs": [],
      "source": [
        "train = df_encoded.loc[train_index]\n",
        "test = df_encoded.loc[test_index]"
      ]
    },
    {
      "cell_type": "code",
      "execution_count": 42,
      "metadata": {
        "id": "ux07pLhPK1Xk"
      },
      "outputs": [],
      "source": [
        "X_train = train.drop(columns=['labels'],axis=1)\n",
        "y_train = train.labels\n",
        "X_test = test.drop(columns=['labels'],axis=1)\n",
        "y_test = test.labels"
      ]
    },
    {
      "cell_type": "code",
      "execution_count": 43,
      "metadata": {
        "id": "Zv2ADGFeK1Xk"
      },
      "outputs": [],
      "source": [
        "y_train =pd.get_dummies(y_train).values\n",
        "y_test =pd.get_dummies(y_test).values"
      ]
    },
    {
      "cell_type": "code",
      "execution_count": 44,
      "metadata": {
        "colab": {
          "base_uri": "https://localhost:8080/"
        },
        "id": "QizoI-xuK1Xk",
        "outputId": "a36f04f1-e21f-4d92-aba0-c932f9cbd6be"
      },
      "outputs": [
        {
          "data": {
            "text/plain": [
              "((57,), (57,))"
            ]
          },
          "execution_count": 44,
          "metadata": {},
          "output_type": "execute_result"
        }
      ],
      "source": [
        "y_train[0].shape,y_test[0].shape "
      ]
    },
    {
      "cell_type": "code",
      "execution_count": 45,
      "metadata": {
        "colab": {
          "base_uri": "https://localhost:8080/"
        },
        "id": "P3dE5ULaK1Xk",
        "outputId": "4926440e-854f-4851-bbb7-a3e8a9e74cab"
      },
      "outputs": [
        {
          "data": {
            "text/plain": [
              "(444, 11)"
            ]
          },
          "execution_count": 45,
          "metadata": {},
          "output_type": "execute_result"
        }
      ],
      "source": [
        "X_train.shape"
      ]
    },
    {
      "cell_type": "code",
      "execution_count": 46,
      "metadata": {
        "colab": {
          "base_uri": "https://localhost:8080/"
        },
        "id": "E5xQ-SFTBQIa",
        "outputId": "3133ac43-4d96-4750-96c2-a31a583af7e2"
      },
      "outputs": [
        {
          "name": "stdout",
          "output_type": "stream",
          "text": [
            "(444, 11) (444, 57) (57, 11) (57, 57)\n"
          ]
        }
      ],
      "source": [
        "print(X_train.shape, y_train.shape, X_test.shape, y_test.shape)"
      ]
    },
    {
      "cell_type": "code",
      "execution_count": 47,
      "metadata": {
        "id": "1KYvuJtBK1Xl"
      },
      "outputs": [],
      "source": [
        "max_length = X_train.shape[1]\n",
        "output = 57"
      ]
    },
    {
      "cell_type": "code",
      "execution_count": 48,
      "metadata": {
        "colab": {
          "base_uri": "https://localhost:8080/"
        },
        "id": "VHVKFmPcK1Xm",
        "outputId": "764b3089-7bf8-41f7-a2bb-c7b32935175e"
      },
      "outputs": [
        {
          "data": {
            "text/plain": [
              "11"
            ]
          },
          "execution_count": 48,
          "metadata": {},
          "output_type": "execute_result"
        }
      ],
      "source": [
        "max_length"
      ]
    },
    {
      "cell_type": "markdown",
      "metadata": {
        "id": "50HRh0GkKuM1"
      },
      "source": [
        "## Model Architecture"
      ]
    },
    {
      "cell_type": "markdown",
      "metadata": {
        "id": "_Eu9yGWpHCxT"
      },
      "source": [
        "The most common approach to building a model on sequence input is to use a reinforcement learning model—we’ll use a long-short-term-memory (LSTM) architecture due to its state-of-the-art performance. The choice for this project is a convolutional neural network (CNN) + an embedding layer + fully connected layer.\n",
        "\n",
        "![image.png](data:image/png;base64,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)\n",
        "\n",
        "A word embedding is a method of representing text in which each word in the vocabulary is represented by a real-valued vector in a high-dimensional space. These vectors are learned in such a way that words that have similar meanings will have similar representations in the vector space.\n",
        "This has been proven as a better representation for text than normal classical methods like bag-of-words, where relationships between words or tokens are ignored, or forced in bigram and trigram approaches. These vectors are learned and updated during the model training."
      ]
    },
    {
      "cell_type": "code",
      "execution_count": 49,
      "metadata": {
        "id": "y1_ptaiKK1Xm"
      },
      "outputs": [],
      "source": [
        "early_stopping = EarlyStopping(monitor='val_loss',patience=10)\n",
        "checkpoint = ModelCheckpoint(\"model-v1.h5\",\n",
        "                             monitor=\"val_loss\",\n",
        "                             mode=\"min\",\n",
        "                             save_best_only = True,\n",
        "                             verbose=1)\n",
        "reduce_lr = ReduceLROnPlateau(monitor = 'val_loss', factor = 0.2, patience = 3, verbose = 1, min_delta = 0.0001)\n",
        "callbacks = [early_stopping,checkpoint,reduce_lr]\n",
        "    \n",
        "    "
      ]
    },
    {
      "cell_type": "code",
      "execution_count": 50,
      "metadata": {
        "id": "UuGz_5XqK1Xm"
      },
      "outputs": [],
      "source": [
        "def define_model(vocab_size, max_length):\n",
        "    model = Sequential()\n",
        "    model.add(Embedding(vocab_size,600, input_length=max_length))\n",
        "    model.add(Conv1D(filters=64, kernel_size=4, activation='relu'))\n",
        "    model.add(MaxPooling1D(pool_size=8))\n",
        "    model.add(Flatten())\n",
        "    model.add(Dense(output, activation='softmax'))\n",
        "    \n",
        "    \n",
        "    # compile network\n",
        "    model.compile(loss = 'categorical_crossentropy',\n",
        "              optimizer = 'adam',\n",
        "              metrics = ['accuracy'])\n",
        "    \n",
        "    # summarize defined model\n",
        "    model.summary()\n",
        "    plot_model(model, to_file='model.png', show_shapes=True)\n",
        "    return model"
      ]
    },
    {
      "cell_type": "code",
      "execution_count": 51,
      "metadata": {
        "colab": {
          "base_uri": "https://localhost:8080/"
        },
        "id": "jyv-LMGrK1Xn",
        "outputId": "cd87c22b-cd9b-4e75-da2e-1361f4eda684"
      },
      "outputs": [
        {
          "name": "stdout",
          "output_type": "stream",
          "text": [
            "Model: \"sequential\"\n",
            "_________________________________________________________________\n",
            " Layer (type)                Output Shape              Param #   \n",
            "=================================================================\n",
            " embedding (Embedding)       (None, 11, 600)           184800    \n",
            "                                                                 \n",
            " conv1d (Conv1D)             (None, 8, 64)             153664    \n",
            "                                                                 \n",
            " max_pooling1d (MaxPooling1D  (None, 1, 64)            0         \n",
            " )                                                               \n",
            "                                                                 \n",
            " flatten (Flatten)           (None, 64)                0         \n",
            "                                                                 \n",
            " dense (Dense)               (None, 57)                3705      \n",
            "                                                                 \n",
            "=================================================================\n",
            "Total params: 342,169\n",
            "Trainable params: 342,169\n",
            "Non-trainable params: 0\n",
            "_________________________________________________________________\n",
            "You must install pydot (`pip install pydot`) and install graphviz (see instructions at https://graphviz.gitlab.io/download/) for plot_model/model_to_dot to work.\n"
          ]
        }
      ],
      "source": [
        "# define model\n",
        "model = define_model(vocab_size, max_length)"
      ]
    },
    {
      "cell_type": "markdown",
      "metadata": {
        "id": "iJTT9e0rH-a6"
      },
      "source": [
        "As seen in the code snippet above, the vector output of the embedding layer is 600 and followed by a 1-dimensional convolution layer using 64 filters with kernel size of 4, each using a ReLU activation function.\n",
        "Then, a 1-dimensional max pooling layer with a pool size of 8. These vectors are fattened (transposed to a single row of vectors) for the fully connected layer before compiling it with an Adam optimizer. These parameters are a result of several iterative processes, with the aim being to get the best model architecture for the dataset at hand. The model summary can be seen above."
      ]
    },
    {
      "cell_type": "markdown",
      "metadata": {
        "id": "GB-gk1b5Is5n"
      },
      "source": [
        "## Training the model"
      ]
    },
    {
      "cell_type": "code",
      "execution_count": 52,
      "metadata": {
        "colab": {
          "base_uri": "https://localhost:8080/"
        },
        "id": "gOxn3mJLK1Xn",
        "outputId": "c2bc2faf-1eac-4683-eaff-201ee08d7aa2"
      },
      "outputs": [
        {
          "name": "stdout",
          "output_type": "stream",
          "text": [
            "Epoch 1/50\n"
          ]
        },
        {
          "name": "stderr",
          "output_type": "stream",
          "text": [
            "2022-06-13 10:31:31.011804: W tensorflow/core/platform/profile_utils/cpu_utils.cc:128] Failed to get CPU frequency: 0 Hz\n"
          ]
        },
        {
          "name": "stdout",
          "output_type": "stream",
          "text": [
            "\n",
            "Epoch 1: val_loss improved from inf to 4.00194, saving model to model-v1.h5\n",
            "14/14 - 4s - loss: 4.0090 - accuracy: 0.0360 - val_loss: 4.0019 - val_accuracy: 0.0526 - lr: 0.0010 - 4s/epoch - 307ms/step\n",
            "Epoch 2/50\n",
            "\n",
            "Epoch 2: val_loss improved from 4.00194 to 3.94422, saving model to model-v1.h5\n",
            "14/14 - 0s - loss: 3.8382 - accuracy: 0.1667 - val_loss: 3.9442 - val_accuracy: 0.0877 - lr: 0.0010 - 350ms/epoch - 25ms/step\n",
            "Epoch 3/50\n",
            "\n",
            "Epoch 3: val_loss improved from 3.94422 to 3.82375, saving model to model-v1.h5\n",
            "14/14 - 0s - loss: 3.6219 - accuracy: 0.2905 - val_loss: 3.8238 - val_accuracy: 0.1228 - lr: 0.0010 - 397ms/epoch - 28ms/step\n",
            "Epoch 4/50\n",
            "\n",
            "Epoch 4: val_loss improved from 3.82375 to 3.65224, saving model to model-v1.h5\n",
            "14/14 - 0s - loss: 3.3247 - accuracy: 0.4122 - val_loss: 3.6522 - val_accuracy: 0.2632 - lr: 0.0010 - 348ms/epoch - 25ms/step\n",
            "Epoch 5/50\n",
            "\n",
            "Epoch 5: val_loss improved from 3.65224 to 3.39359, saving model to model-v1.h5\n",
            "14/14 - 0s - loss: 2.9306 - accuracy: 0.4977 - val_loss: 3.3936 - val_accuracy: 0.3158 - lr: 0.0010 - 310ms/epoch - 22ms/step\n",
            "Epoch 6/50\n",
            "\n",
            "Epoch 6: val_loss improved from 3.39359 to 3.05157, saving model to model-v1.h5\n",
            "14/14 - 0s - loss: 2.4663 - accuracy: 0.6554 - val_loss: 3.0516 - val_accuracy: 0.4035 - lr: 0.0010 - 332ms/epoch - 24ms/step\n",
            "Epoch 7/50\n",
            "\n",
            "Epoch 7: val_loss improved from 3.05157 to 2.71554, saving model to model-v1.h5\n",
            "14/14 - 0s - loss: 1.9579 - accuracy: 0.7500 - val_loss: 2.7155 - val_accuracy: 0.5088 - lr: 0.0010 - 334ms/epoch - 24ms/step\n",
            "Epoch 8/50\n",
            "\n",
            "Epoch 8: val_loss improved from 2.71554 to 2.33594, saving model to model-v1.h5\n",
            "14/14 - 1s - loss: 1.4749 - accuracy: 0.8221 - val_loss: 2.3359 - val_accuracy: 0.6140 - lr: 0.0010 - 568ms/epoch - 41ms/step\n",
            "Epoch 9/50\n",
            "\n",
            "Epoch 9: val_loss improved from 2.33594 to 1.99925, saving model to model-v1.h5\n",
            "14/14 - 0s - loss: 1.0464 - accuracy: 0.9077 - val_loss: 1.9993 - val_accuracy: 0.6140 - lr: 0.0010 - 332ms/epoch - 24ms/step\n",
            "Epoch 10/50\n",
            "\n",
            "Epoch 10: val_loss improved from 1.99925 to 1.71808, saving model to model-v1.h5\n",
            "14/14 - 0s - loss: 0.7161 - accuracy: 0.9505 - val_loss: 1.7181 - val_accuracy: 0.6842 - lr: 0.0010 - 304ms/epoch - 22ms/step\n",
            "Epoch 11/50\n",
            "\n",
            "Epoch 11: val_loss improved from 1.71808 to 1.53314, saving model to model-v1.h5\n",
            "14/14 - 0s - loss: 0.4769 - accuracy: 0.9640 - val_loss: 1.5331 - val_accuracy: 0.7018 - lr: 0.0010 - 406ms/epoch - 29ms/step\n",
            "Epoch 12/50\n",
            "\n",
            "Epoch 12: val_loss improved from 1.53314 to 1.37664, saving model to model-v1.h5\n",
            "14/14 - 0s - loss: 0.3312 - accuracy: 0.9820 - val_loss: 1.3766 - val_accuracy: 0.7018 - lr: 0.0010 - 219ms/epoch - 16ms/step\n",
            "Epoch 13/50\n",
            "\n",
            "Epoch 13: val_loss improved from 1.37664 to 1.29090, saving model to model-v1.h5\n",
            "14/14 - 0s - loss: 0.2321 - accuracy: 0.9820 - val_loss: 1.2909 - val_accuracy: 0.7018 - lr: 0.0010 - 413ms/epoch - 29ms/step\n",
            "Epoch 14/50\n",
            "\n",
            "Epoch 14: val_loss improved from 1.29090 to 1.21256, saving model to model-v1.h5\n",
            "14/14 - 0s - loss: 0.1679 - accuracy: 0.9910 - val_loss: 1.2126 - val_accuracy: 0.7193 - lr: 0.0010 - 331ms/epoch - 24ms/step\n",
            "Epoch 15/50\n",
            "\n",
            "Epoch 15: val_loss improved from 1.21256 to 1.16669, saving model to model-v1.h5\n",
            "14/14 - 0s - loss: 0.1274 - accuracy: 0.9955 - val_loss: 1.1667 - val_accuracy: 0.7193 - lr: 0.0010 - 370ms/epoch - 26ms/step\n",
            "Epoch 16/50\n",
            "\n",
            "Epoch 16: val_loss improved from 1.16669 to 1.11644, saving model to model-v1.h5\n",
            "14/14 - 1s - loss: 0.0999 - accuracy: 0.9955 - val_loss: 1.1164 - val_accuracy: 0.7368 - lr: 0.0010 - 525ms/epoch - 38ms/step\n",
            "Epoch 17/50\n",
            "\n",
            "Epoch 17: val_loss improved from 1.11644 to 1.08398, saving model to model-v1.h5\n",
            "14/14 - 0s - loss: 0.0813 - accuracy: 0.9932 - val_loss: 1.0840 - val_accuracy: 0.7193 - lr: 0.0010 - 428ms/epoch - 31ms/step\n",
            "Epoch 18/50\n",
            "\n",
            "Epoch 18: val_loss improved from 1.08398 to 1.05804, saving model to model-v1.h5\n",
            "14/14 - 0s - loss: 0.0677 - accuracy: 0.9955 - val_loss: 1.0580 - val_accuracy: 0.7368 - lr: 0.0010 - 307ms/epoch - 22ms/step\n",
            "Epoch 19/50\n",
            "\n",
            "Epoch 19: val_loss improved from 1.05804 to 1.04861, saving model to model-v1.h5\n",
            "14/14 - 0s - loss: 0.0594 - accuracy: 0.9932 - val_loss: 1.0486 - val_accuracy: 0.7368 - lr: 0.0010 - 331ms/epoch - 24ms/step\n",
            "Epoch 20/50\n",
            "\n",
            "Epoch 20: val_loss improved from 1.04861 to 1.03283, saving model to model-v1.h5\n",
            "14/14 - 0s - loss: 0.0519 - accuracy: 0.9932 - val_loss: 1.0328 - val_accuracy: 0.7368 - lr: 0.0010 - 216ms/epoch - 15ms/step\n",
            "Epoch 21/50\n",
            "\n",
            "Epoch 21: val_loss improved from 1.03283 to 1.01907, saving model to model-v1.h5\n",
            "14/14 - 0s - loss: 0.0462 - accuracy: 0.9955 - val_loss: 1.0191 - val_accuracy: 0.7368 - lr: 0.0010 - 227ms/epoch - 16ms/step\n",
            "Epoch 22/50\n",
            "\n",
            "Epoch 22: val_loss did not improve from 1.01907\n",
            "14/14 - 0s - loss: 0.0437 - accuracy: 0.9932 - val_loss: 1.0192 - val_accuracy: 0.7368 - lr: 0.0010 - 421ms/epoch - 30ms/step\n",
            "Epoch 23/50\n",
            "\n",
            "Epoch 23: val_loss improved from 1.01907 to 0.99805, saving model to model-v1.h5\n",
            "14/14 - 0s - loss: 0.0381 - accuracy: 0.9955 - val_loss: 0.9980 - val_accuracy: 0.7368 - lr: 0.0010 - 356ms/epoch - 25ms/step\n",
            "Epoch 24/50\n",
            "\n",
            "Epoch 24: val_loss improved from 0.99805 to 0.99755, saving model to model-v1.h5\n",
            "14/14 - 0s - loss: 0.0366 - accuracy: 0.9955 - val_loss: 0.9975 - val_accuracy: 0.7368 - lr: 0.0010 - 368ms/epoch - 26ms/step\n",
            "Epoch 25/50\n",
            "\n",
            "Epoch 25: val_loss improved from 0.99755 to 0.99174, saving model to model-v1.h5\n",
            "14/14 - 0s - loss: 0.0334 - accuracy: 0.9955 - val_loss: 0.9917 - val_accuracy: 0.7368 - lr: 0.0010 - 346ms/epoch - 25ms/step\n",
            "Epoch 26/50\n",
            "\n",
            "Epoch 26: val_loss improved from 0.99174 to 0.98120, saving model to model-v1.h5\n",
            "14/14 - 0s - loss: 0.0309 - accuracy: 0.9932 - val_loss: 0.9812 - val_accuracy: 0.7368 - lr: 0.0010 - 306ms/epoch - 22ms/step\n",
            "Epoch 27/50\n",
            "\n",
            "Epoch 27: val_loss improved from 0.98120 to 0.98045, saving model to model-v1.h5\n",
            "14/14 - 0s - loss: 0.0302 - accuracy: 0.9932 - val_loss: 0.9804 - val_accuracy: 0.7368 - lr: 0.0010 - 312ms/epoch - 22ms/step\n",
            "Epoch 28/50\n",
            "\n",
            "Epoch 28: val_loss improved from 0.98045 to 0.96758, saving model to model-v1.h5\n",
            "14/14 - 0s - loss: 0.0274 - accuracy: 0.9932 - val_loss: 0.9676 - val_accuracy: 0.7368 - lr: 0.0010 - 268ms/epoch - 19ms/step\n",
            "Epoch 29/50\n",
            "\n",
            "Epoch 29: val_loss did not improve from 0.96758\n",
            "14/14 - 0s - loss: 0.0277 - accuracy: 0.9932 - val_loss: 0.9705 - val_accuracy: 0.7368 - lr: 0.0010 - 309ms/epoch - 22ms/step\n",
            "Epoch 30/50\n",
            "\n",
            "Epoch 30: val_loss improved from 0.96758 to 0.96240, saving model to model-v1.h5\n",
            "14/14 - 0s - loss: 0.0243 - accuracy: 0.9932 - val_loss: 0.9624 - val_accuracy: 0.7368 - lr: 0.0010 - 263ms/epoch - 19ms/step\n",
            "Epoch 31/50\n",
            "\n",
            "Epoch 31: val_loss improved from 0.96240 to 0.96119, saving model to model-v1.h5\n",
            "14/14 - 0s - loss: 0.0238 - accuracy: 0.9955 - val_loss: 0.9612 - val_accuracy: 0.7368 - lr: 0.0010 - 345ms/epoch - 25ms/step\n",
            "Epoch 32/50\n",
            "\n",
            "Epoch 32: val_loss did not improve from 0.96119\n",
            "14/14 - 0s - loss: 0.0234 - accuracy: 0.9955 - val_loss: 0.9696 - val_accuracy: 0.7368 - lr: 0.0010 - 274ms/epoch - 20ms/step\n",
            "Epoch 33/50\n",
            "\n",
            "Epoch 33: val_loss improved from 0.96119 to 0.95835, saving model to model-v1.h5\n",
            "14/14 - 1s - loss: 0.0211 - accuracy: 0.9932 - val_loss: 0.9583 - val_accuracy: 0.7368 - lr: 0.0010 - 541ms/epoch - 39ms/step\n",
            "Epoch 34/50\n",
            "\n",
            "Epoch 34: val_loss improved from 0.95835 to 0.94945, saving model to model-v1.h5\n",
            "14/14 - 0s - loss: 0.0195 - accuracy: 0.9955 - val_loss: 0.9494 - val_accuracy: 0.7368 - lr: 0.0010 - 469ms/epoch - 34ms/step\n",
            "Epoch 35/50\n",
            "\n",
            "Epoch 35: val_loss improved from 0.94945 to 0.94584, saving model to model-v1.h5\n",
            "14/14 - 1s - loss: 0.0192 - accuracy: 0.9955 - val_loss: 0.9458 - val_accuracy: 0.7368 - lr: 0.0010 - 524ms/epoch - 37ms/step\n",
            "Epoch 36/50\n",
            "\n",
            "Epoch 36: val_loss did not improve from 0.94584\n",
            "14/14 - 1s - loss: 0.0177 - accuracy: 0.9955 - val_loss: 0.9468 - val_accuracy: 0.7368 - lr: 0.0010 - 522ms/epoch - 37ms/step\n",
            "Epoch 37/50\n",
            "\n",
            "Epoch 37: val_loss improved from 0.94584 to 0.93957, saving model to model-v1.h5\n",
            "14/14 - 0s - loss: 0.0177 - accuracy: 0.9932 - val_loss: 0.9396 - val_accuracy: 0.7368 - lr: 0.0010 - 494ms/epoch - 35ms/step\n",
            "Epoch 38/50\n",
            "\n",
            "Epoch 38: val_loss did not improve from 0.93957\n",
            "14/14 - 0s - loss: 0.0160 - accuracy: 0.9955 - val_loss: 0.9439 - val_accuracy: 0.7368 - lr: 0.0010 - 294ms/epoch - 21ms/step\n",
            "Epoch 39/50\n",
            "\n",
            "Epoch 39: val_loss improved from 0.93957 to 0.93735, saving model to model-v1.h5\n",
            "14/14 - 2s - loss: 0.0159 - accuracy: 0.9955 - val_loss: 0.9374 - val_accuracy: 0.7368 - lr: 0.0010 - 2s/epoch - 125ms/step\n",
            "Epoch 40/50\n",
            "\n",
            "Epoch 40: val_loss improved from 0.93735 to 0.93734, saving model to model-v1.h5\n",
            "14/14 - 4s - loss: 0.0172 - accuracy: 0.9955 - val_loss: 0.9373 - val_accuracy: 0.7368 - lr: 0.0010 - 4s/epoch - 284ms/step\n",
            "Epoch 41/50\n",
            "\n",
            "Epoch 41: val_loss did not improve from 0.93734\n",
            "14/14 - 2s - loss: 0.0142 - accuracy: 0.9955 - val_loss: 0.9507 - val_accuracy: 0.7368 - lr: 0.0010 - 2s/epoch - 140ms/step\n",
            "Epoch 42/50\n",
            "\n",
            "Epoch 42: val_loss improved from 0.93734 to 0.93346, saving model to model-v1.h5\n",
            "14/14 - 2s - loss: 0.0158 - accuracy: 0.9955 - val_loss: 0.9335 - val_accuracy: 0.7368 - lr: 0.0010 - 2s/epoch - 122ms/step\n",
            "Epoch 43/50\n",
            "\n",
            "Epoch 43: val_loss improved from 0.93346 to 0.92889, saving model to model-v1.h5\n",
            "14/14 - 1s - loss: 0.0139 - accuracy: 0.9932 - val_loss: 0.9289 - val_accuracy: 0.7368 - lr: 0.0010 - 682ms/epoch - 49ms/step\n",
            "Epoch 44/50\n",
            "\n",
            "Epoch 44: val_loss did not improve from 0.92889\n",
            "14/14 - 0s - loss: 0.0138 - accuracy: 0.9955 - val_loss: 0.9398 - val_accuracy: 0.7368 - lr: 0.0010 - 315ms/epoch - 23ms/step\n",
            "Epoch 45/50\n",
            "\n",
            "Epoch 45: val_loss did not improve from 0.92889\n",
            "14/14 - 0s - loss: 0.0159 - accuracy: 0.9932 - val_loss: 0.9380 - val_accuracy: 0.7368 - lr: 0.0010 - 283ms/epoch - 20ms/step\n",
            "Epoch 46/50\n",
            "\n",
            "Epoch 46: val_loss improved from 0.92889 to 0.91735, saving model to model-v1.h5\n",
            "14/14 - 0s - loss: 0.0135 - accuracy: 0.9955 - val_loss: 0.9173 - val_accuracy: 0.7368 - lr: 0.0010 - 338ms/epoch - 24ms/step\n",
            "Epoch 47/50\n",
            "\n",
            "Epoch 47: val_loss did not improve from 0.91735\n",
            "14/14 - 0s - loss: 0.0119 - accuracy: 0.9955 - val_loss: 0.9337 - val_accuracy: 0.7368 - lr: 0.0010 - 279ms/epoch - 20ms/step\n",
            "Epoch 48/50\n",
            "\n",
            "Epoch 48: val_loss did not improve from 0.91735\n",
            "14/14 - 0s - loss: 0.0125 - accuracy: 0.9932 - val_loss: 0.9325 - val_accuracy: 0.7368 - lr: 0.0010 - 409ms/epoch - 29ms/step\n",
            "Epoch 49/50\n",
            "\n",
            "Epoch 49: val_loss did not improve from 0.91735\n",
            "\n",
            "Epoch 49: ReduceLROnPlateau reducing learning rate to 0.00020000000949949026.\n",
            "14/14 - 1s - loss: 0.0134 - accuracy: 0.9932 - val_loss: 0.9405 - val_accuracy: 0.7368 - lr: 0.0010 - 609ms/epoch - 43ms/step\n",
            "Epoch 50/50\n",
            "\n",
            "Epoch 50: val_loss did not improve from 0.91735\n",
            "14/14 - 0s - loss: 0.0113 - accuracy: 0.9955 - val_loss: 0.9316 - val_accuracy: 0.7368 - lr: 2.0000e-04 - 498ms/epoch - 36ms/step\n"
          ]
        }
      ],
      "source": [
        "history = model.fit(X_train, y_train, epochs=50, verbose=2,validation_data=(X_test,y_test),callbacks=callbacks)"
      ]
    },
    {
      "cell_type": "code",
      "execution_count": 54,
      "metadata": {
        "colab": {
          "base_uri": "https://localhost:8080/",
          "height": 433
        },
        "id": "R4EWZu6KK1Xn",
        "outputId": "58d48120-ac10-4a9a-c25b-87f913ea4866"
      },
      "outputs": [
        {
          "name": "stdout",
          "output_type": "stream",
          "text": [
            "Accuracy of model:  73.68420958518982 %\n"
          ]
        },
        {
          "data": {
            "image/png": "[encoded data removed]",
            "text/plain": [
              "<Figure size 1152x576 with 2 Axes>"
            ]
          },
          "metadata": {
            "needs_background": "light"
          },
          "output_type": "display_data"
        }
      ],
      "source": [
        "print(\"Accuracy of model: \",max(history.history['val_accuracy'])*100, \"%\")\n",
        "acc = history.history['accuracy']\n",
        "val_acc = history.history['val_accuracy']\n",
        "loss=history.history['loss']\n",
        "val_loss=history.history['val_loss']\n",
        "\n",
        "plt.figure(figsize=(16,8))\n",
        "plt.subplot(1, 2, 1)\n",
        "plt.plot(acc, label='Training Accuracy')\n",
        "plt.plot(val_acc, label='Validation Accuracy')\n",
        "plt.legend(loc='lower right')\n",
        "plt.title('Training and Validation Accuracy')\n",
        "\n",
        "plt.subplot(1, 2, 2)\n",
        "plt.plot(loss, label='Training Loss')\n",
        "plt.plot(val_loss, label='Validation Loss')\n",
        "plt.legend(loc='upper right')\n",
        "plt.title('Training and Validation Loss')\n",
        "plt.show()"
      ]
    },
    {
      "cell_type": "markdown",
      "metadata": {
        "id": "Rh_qbWjlK1Xo"
      },
      "source": [
        "## New user question encoding"
      ]
    },
    {
      "cell_type": "code",
      "execution_count": null,
      "metadata": {
        "id": "yPS5MV-8K1Xo"
      },
      "outputs": [],
      "source": [
        "def get_text():\n",
        "    input_text  = input('User: ')\n",
        "    input_text = [input_text]\n",
        "    df_input = pd.DataFrame(input_text,columns=['questions'])\n",
        "    df_input\n",
        "    return df_input "
      ]
    },
    {
      "cell_type": "code",
      "execution_count": null,
      "metadata": {
        "id": "EZirrDcyK1Xo"
      },
      "outputs": [],
      "source": [
        "#load artifacts \n",
        "from tensorflow.keras.models import load_model\n",
        "model = load_model('model-v1.h5')\n",
        "tokenizer_t = joblib.load('tokenizer_t.pkl')\n",
        "vocab = joblib.load('vocab.pkl')"
      ]
    },
    {
      "cell_type": "code",
      "execution_count": null,
      "metadata": {
        "id": "soFzmwvFK1Xo"
      },
      "outputs": [],
      "source": [
        "def tokenizer(entry):\n",
        "    tokens = entry.split()\n",
        "    re_punc = re.compile('[%s]' % re.escape(string.punctuation))\n",
        "    tokens = [re_punc.sub('', w) for w in tokens]\n",
        "    tokens = [word for word in tokens if word.isalpha()]\n",
        "    tokens = [lemmatizer.lemmatize(w.lower()) for w in tokens]\n",
        "#     stop_words = set(stopwords.words('english'))\n",
        "#     tokens = [w for w in tokens if not w in stop_words]\n",
        "    tokens = [word.lower() for word in tokens if len(word) > 1]\n",
        "    return tokens"
      ]
    },
    {
      "cell_type": "code",
      "execution_count": null,
      "metadata": {
        "id": "o33Ewhw7K1Xo"
      },
      "outputs": [],
      "source": [
        "def remove_stop_words_for_input(tokenizer,df,feature):\n",
        "    doc_without_stopwords = []\n",
        "    entry = df[feature][0]\n",
        "    tokens = tokenizer(entry)\n",
        "    doc_without_stopwords.append(' '.join(tokens))\n",
        "    df[feature] = doc_without_stopwords\n",
        "    return df"
      ]
    },
    {
      "cell_type": "code",
      "execution_count": null,
      "metadata": {
        "id": "eS6syQTTK1Xo"
      },
      "outputs": [],
      "source": [
        "# df_input = remove_stop_words_for_input(tokenizer,df_input,'questions')\n",
        "# df_input"
      ]
    },
    {
      "cell_type": "code",
      "execution_count": null,
      "metadata": {
        "id": "Yk5vZuhlK1Xo"
      },
      "outputs": [],
      "source": [
        "def encode_input_text(tokenizer_t,df,feature):\n",
        "    t = tokenizer_t\n",
        "    entry = entry = [df[feature][0]]\n",
        "    encoded = t.texts_to_sequences(entry)\n",
        "    padded = pad_sequences(encoded, maxlen=16, padding='post')\n",
        "    return padded"
      ]
    },
    {
      "cell_type": "code",
      "execution_count": null,
      "metadata": {
        "id": "DUyqUhi_K1Xo"
      },
      "outputs": [],
      "source": [
        "# encoded_input = encode_input_text(tokenizer_t,df_input,'questions')\n",
        "# encoded_input.shape"
      ]
    },
    {
      "cell_type": "code",
      "execution_count": null,
      "metadata": {
        "id": "v9QqGUXzK1Xo"
      },
      "outputs": [],
      "source": [
        "# encoded_input"
      ]
    },
    {
      "cell_type": "code",
      "execution_count": null,
      "metadata": {
        "id": "qnw0_YbkK1Xo"
      },
      "outputs": [],
      "source": [
        "def get_pred(model,encoded_input):\n",
        "    pred = np.argmax(model.predict(encoded_input))\n",
        "    return pred"
      ]
    },
    {
      "cell_type": "code",
      "execution_count": null,
      "metadata": {
        "id": "A1WMxF7YK1Xo"
      },
      "outputs": [],
      "source": [
        "# mapper"
      ]
    },
    {
      "cell_type": "code",
      "execution_count": null,
      "metadata": {
        "id": "t3SR5ixuK1Xp"
      },
      "outputs": [],
      "source": [
        "# df2.head()"
      ]
    },
    {
      "cell_type": "code",
      "execution_count": null,
      "metadata": {
        "id": "pSLlVTXBK1Xp"
      },
      "outputs": [],
      "source": [
        "def bot_precausion(df_input,pred):\n",
        "    words = df_input.questions[0].split()\n",
        "    if len([w for w in words if w in vocab])==0 :\n",
        "        pred = 1\n",
        "    return pred"
      ]
    },
    {
      "cell_type": "code",
      "execution_count": null,
      "metadata": {
        "id": "2KJHKTu_K1Xp"
      },
      "outputs": [],
      "source": [
        "def get_response(df2,pred):\n",
        "    upper_bound = df2.groupby('labels').get_group(pred).shape[0]\n",
        "    r = np.random.randint(0,upper_bound)\n",
        "    responses = list(df2.groupby('labels').get_group(pred).response)\n",
        "    return responses[r]\n",
        "    "
      ]
    },
    {
      "cell_type": "code",
      "execution_count": null,
      "metadata": {
        "id": "fqWFPNDPK1Xp"
      },
      "outputs": [],
      "source": [
        "def bot_response(response,):\n",
        "    print('Smart Bot: ', response)"
      ]
    },
    {
      "cell_type": "code",
      "execution_count": null,
      "metadata": {
        "colab": {
          "base_uri": "https://localhost:8080/"
        },
        "id": "v8Q34_G1K1Xp",
        "outputId": "9b702c6e-dda7-432c-b28a-ff678375f1cf"
      },
      "outputs": [
        {
          "name": "stdout",
          "output_type": "stream",
          "text": [
            "User: hello\n",
            "Smart Bot:  Good to see you again!\n",
            "User: Where is IGDTUW?\n",
            "Smart Bot:  Indira Gandhi Delhi Technical University For Women, Madrasa Road ,Opposite St. James Church Kashmere Gate,Delhi-110006<a target=\"_blank\" href=\"https://goo.gl/maps/YMrH73Pyuyoc21jLA\"> here</a> \n",
            "User: How do I get there?\n",
            "Smart Bot:  Hi there, how can I help?\n",
            "User: Who is the VC?\n",
            "Smart Bot:  HODs differ for each branch, please be more specific like: (HOD it)\n",
            "User: Tell me about B.Tech\n",
            "Smart Bot:   University offers Btech in 5 streams 1. Computer science and artificial Intelligence(CSAI) \n",
            " 2. Computer science engineering (CSE) \n",
            " 3.Information Technology(IT) \n",
            " 4. Electronics and Communication(ECE) \n",
            " 5.Mechanical and Automation(MAE)\n",
            "User: quit\n"
          ]
        }
      ],
      "source": [
        "while True:\n",
        "  df_input = get_text()\n",
        "\n",
        "  if df_input['questions'][0].lower() == 'quit':\n",
        "    break\n",
        "\n",
        "  #load artifacts \n",
        "  tokenizer_t = joblib.load('tokenizer_t.pkl')\n",
        "  vocab = joblib.load('vocab.pkl')\n",
        "\n",
        "  df_input = remove_stop_words_for_input(tokenizer,df_input,'questions')\n",
        "  encoded_input = encode_input_text(tokenizer_t,df_input,'questions')\n",
        "\n",
        "  pred = get_pred(model,encoded_input)\n",
        "  pred = bot_precausion(df_input,pred)\n",
        "\n",
        "  response = get_response(df2,pred)\n",
        "  bot_response(response)"
      ]
    },
    {
      "cell_type": "code",
      "execution_count": null,
      "metadata": {
        "colab": {
          "base_uri": "https://localhost:8080/"
        },
        "id": "vvQLOlviK1Xp",
        "outputId": "cdd4d7d2-911e-4ca2-d292-49874efa4cb6"
      },
      "outputs": [
        {
          "name": "stdout",
          "output_type": "stream",
          "text": [
            "Collecting SpeechRecognition\n",
            "  Downloading SpeechRecognition-3.8.1-py2.py3-none-any.whl (32.8 MB)\n",
            "\u001b[K     |████████████████████████████████| 32.8 MB 35 kB/s \n",
            "\u001b[?25hCollecting pydub\n",
            "  Downloading pydub-0.25.1-py2.py3-none-any.whl (32 kB)\n",
            "Installing collected packages: SpeechRecognition, pydub\n",
            "Successfully installed SpeechRecognition-3.8.1 pydub-0.25.1\n"
          ]
        }
      ],
      "source": [
        "!pip3 install SpeechRecognition pydub"
      ]
    },
    {
      "cell_type": "code",
      "execution_count": null,
      "metadata": {
        "colab": {
          "base_uri": "https://localhost:8080/"
        },
        "id": "Q6UXZXTX_ZGl",
        "outputId": "21e9fdfc-f1a8-4c4f-b034-aced1cfdb546"
      },
      "outputs": [
        {
          "name": "stdout",
          "output_type": "stream",
          "text": [
            "Collecting sounddevice\n",
            "  Downloading sounddevice-0.4.2-py3-none-any.whl (31 kB)\n",
            "Requirement already satisfied: CFFI>=1.0 in /usr/local/lib/python3.7/dist-packages (from sounddevice) (1.14.6)\n",
            "Requirement already satisfied: pycparser in /usr/local/lib/python3.7/dist-packages (from CFFI>=1.0->sounddevice) (2.20)\n",
            "Installing collected packages: sounddevice\n",
            "Successfully installed sounddevice-0.4.2\n"
          ]
        }
      ],
      "source": [
        "!pip3 install sounddevice"
      ]
    },
    {
      "cell_type": "code",
      "execution_count": null,
      "metadata": {
        "colab": {
          "base_uri": "https://localhost:8080/"
        },
        "id": "CNmLzB2s_mBq",
        "outputId": "17a0679c-d53d-40c7-bead-e8d7f50b2abb"
      },
      "outputs": [
        {
          "name": "stdout",
          "output_type": "stream",
          "text": [
            "Collecting wavio\n",
            "  Downloading wavio-0.0.4-py2.py3-none-any.whl (9.0 kB)\n",
            "Requirement already satisfied: numpy>=1.6.0 in /usr/local/lib/python3.7/dist-packages (from wavio) (1.19.5)\n",
            "Installing collected packages: wavio\n",
            "Successfully installed wavio-0.0.4\n"
          ]
        }
      ],
      "source": [
        "!pip3 install wavio"
      ]
    },
    {
      "cell_type": "code",
      "execution_count": null,
      "metadata": {
        "colab": {
          "base_uri": "https://localhost:8080/"
        },
        "id": "7xDeXlf7_ohK",
        "outputId": "6f438e36-b089-435f-dfe0-27cbcaf51009"
      },
      "outputs": [
        {
          "name": "stdout",
          "output_type": "stream",
          "text": [
            "Requirement already satisfied: scipy in /usr/local/lib/python3.7/dist-packages (1.4.1)\n",
            "Requirement already satisfied: numpy>=1.13.3 in /usr/local/lib/python3.7/dist-packages (from scipy) (1.19.5)\n"
          ]
        }
      ],
      "source": [
        "!pip3 install scipy"
      ]
    },
    {
      "cell_type": "code",
      "execution_count": null,
      "metadata": {
        "colab": {
          "base_uri": "https://localhost:8080/"
        },
        "id": "LmTzMeqd_1Vv",
        "outputId": "a02bb373-380d-4ed0-9e8f-141dd697d626"
      },
      "outputs": [
        {
          "name": "stdout",
          "output_type": "stream",
          "text": [
            "Reading package lists... Done\n",
            "Building dependency tree       \n",
            "Reading state information... Done\n",
            "The following NEW packages will be installed:\n",
            "  libportaudio2\n",
            "0 upgraded, 1 newly installed, 0 to remove and 40 not upgraded.\n",
            "Need to get 64.6 kB of archives.\n",
            "After this operation, 215 kB of additional disk space will be used.\n",
            "Get:1 http://archive.ubuntu.com/ubuntu bionic/universe amd64 libportaudio2 amd64 19.6.0-1 [64.6 kB]\n",
            "Fetched 64.6 kB in 0s (152 kB/s)\n",
            "debconf: unable to initialize frontend: Dialog\n",
            "debconf: (No usable dialog-like program is installed, so the dialog based frontend cannot be used. at /usr/share/perl5/Debconf/FrontEnd/Dialog.pm line 76, <> line 1.)\n",
            "debconf: falling back to frontend: Readline\n",
            "debconf: unable to initialize frontend: Readline\n",
            "debconf: (This frontend requires a controlling tty.)\n",
            "debconf: falling back to frontend: Teletype\n",
            "dpkg-preconfigure: unable to re-open stdin: \n",
            "Selecting previously unselected package libportaudio2:amd64.\n",
            "(Reading database ... 160837 files and directories currently installed.)\n",
            "Preparing to unpack .../libportaudio2_19.6.0-1_amd64.deb ...\n",
            "Unpacking libportaudio2:amd64 (19.6.0-1) ...\n",
            "Setting up libportaudio2:amd64 (19.6.0-1) ...\n",
            "Processing triggers for libc-bin (2.27-3ubuntu1.2) ...\n",
            "/sbin/ldconfig.real: /usr/local/lib/python3.7/dist-packages/ideep4py/lib/libmkldnn.so.0 is not a symbolic link\n",
            "\n"
          ]
        }
      ],
      "source": [
        "!sudo apt-get install libportaudio2"
      ]
    },
    {
      "cell_type": "code",
      "execution_count": null,
      "metadata": {
        "colab": {
          "base_uri": "https://localhost:8080/"
        },
        "id": "VmV6wMatKMrX",
        "outputId": "91f4b1e4-22b2-49b9-a974-777510d34808"
      },
      "outputs": [
        {
          "name": "stdout",
          "output_type": "stream",
          "text": [
            "Reading package lists... Done\n",
            "Building dependency tree       \n",
            "Reading state information... Done\n",
            "libportaudio2 is already the newest version (19.6.0-1).\n",
            "libasound2-dev is already the newest version (1.1.3-5ubuntu0.5).\n",
            "ffmpeg is already the newest version (7:3.4.8-0ubuntu0.2).\n",
            "Suggested packages:\n",
            "  portaudio19-doc\n",
            "The following NEW packages will be installed:\n",
            "  libportaudiocpp0 portaudio19-dev\n",
            "0 upgraded, 2 newly installed, 0 to remove and 40 not upgraded.\n",
            "Need to get 120 kB of archives.\n",
            "After this operation, 676 kB of additional disk space will be used.\n",
            "Get:1 http://archive.ubuntu.com/ubuntu bionic/universe amd64 libportaudiocpp0 amd64 19.6.0-1 [15.1 kB]\n",
            "Get:2 http://archive.ubuntu.com/ubuntu bionic/universe amd64 portaudio19-dev amd64 19.6.0-1 [104 kB]\n",
            "Fetched 120 kB in 1s (184 kB/s)\n",
            "Selecting previously unselected package libportaudiocpp0:amd64.\n",
            "(Reading database ... 160843 files and directories currently installed.)\n",
            "Preparing to unpack .../libportaudiocpp0_19.6.0-1_amd64.deb ...\n",
            "Unpacking libportaudiocpp0:amd64 (19.6.0-1) ...\n",
            "Selecting previously unselected package portaudio19-dev:amd64.\n",
            "Preparing to unpack .../portaudio19-dev_19.6.0-1_amd64.deb ...\n",
            "Unpacking portaudio19-dev:amd64 (19.6.0-1) ...\n",
            "Setting up libportaudiocpp0:amd64 (19.6.0-1) ...\n",
            "Setting up portaudio19-dev:amd64 (19.6.0-1) ...\n",
            "Processing triggers for libc-bin (2.27-3ubuntu1.2) ...\n",
            "/sbin/ldconfig.real: /usr/local/lib/python3.7/dist-packages/ideep4py/lib/libmkldnn.so.0 is not a symbolic link\n",
            "\n"
          ]
        }
      ],
      "source": [
        "!apt install libasound2-dev portaudio19-dev libportaudio2 libportaudiocpp0 ffmpeg"
      ]
    },
    {
      "cell_type": "code",
      "execution_count": null,
      "metadata": {
        "colab": {
          "base_uri": "https://localhost:8080/"
        },
        "id": "geqocGSa_0fV",
        "outputId": "2fb11bae-cd57-4ede-d8f1-ded7e7944f2e"
      },
      "outputs": [
        {
          "name": "stdout",
          "output_type": "stream",
          "text": [
            "Collecting pyaudio\n",
            "  Using cached PyAudio-0.2.11.tar.gz (37 kB)\n",
            "Building wheels for collected packages: pyaudio\n",
            "  Building wheel for pyaudio (setup.py) ... \u001b[?25l\u001b[?25hdone\n",
            "  Created wheel for pyaudio: filename=PyAudio-0.2.11-cp37-cp37m-linux_x86_64.whl size=52605 sha256=b46044c9166be18d70e97055de8dc0c75ebaee2b0b8dc79180bd6bfe366d0839\n",
            "  Stored in directory: /root/.cache/pip/wheels/40/2e/4c/b71e7e96c861a46e6213bc6bb482b94dcf293a92c5e736c1ec\n",
            "Successfully built pyaudio\n",
            "Installing collected packages: pyaudio\n",
            "Successfully installed pyaudio-0.2.11\n"
          ]
        }
      ],
      "source": [
        "!pip3 install pyaudio"
      ]
    },
    {
      "cell_type": "code",
      "execution_count": null,
      "metadata": {
        "id": "8SZiCJKI_v2s"
      },
      "outputs": [],
      "source": [
        "# import required libraries\n",
        "import sounddevice as sd\n",
        "from scipy.io.wavfile import write\n",
        "import wavio as wv\n",
        "import pyaudio"
      ]
    },
    {
      "cell_type": "code",
      "execution_count": null,
      "metadata": {
        "id": "djq3exM3-nJW"
      },
      "outputs": [],
      "source": [
        "import speech_recognition as sr"
      ]
    },
    {
      "cell_type": "code",
      "execution_count": null,
      "metadata": {
        "id": "sgh0ctsx-91c"
      },
      "outputs": [],
      "source": [
        "def recognize_speech_from_mic(recognizer, microphone):\n",
        "    \"\"\"Transcribe speech from recorded from `microphone`.\n",
        "    Returns a dictionary with three keys:\n",
        "    \"success\": a boolean indicating whether or not the API request was\n",
        "               successful\n",
        "    \"error\":   `None` if no error occured, otherwise a string containing\n",
        "               an error message if the API could not be reached or\n",
        "               speech was unrecognizable\n",
        "    \"transcription\": `None` if speech could not be transcribed,\n",
        "               otherwise a string containing the transcribed text\n",
        "    \"\"\"\n",
        "    # check that recognizer and microphone arguments are appropriate type\n",
        "    if not isinstance(recognizer, sr.Recognizer):\n",
        "        raise TypeError(\"`recognizer` must be `Recognizer` instance\")\n",
        "\n",
        "    if not isinstance(microphone, sr.Microphone):\n",
        "        raise TypeError(\"`microphone` must be `Microphone` instance\")\n",
        "\n",
        "    # adjust the recognizer sensitivity to ambient noise and record audio\n",
        "    # from the microphone\n",
        "    with microphone as source:\n",
        "        recognizer.adjust_for_ambient_noise(source) # #  analyze the audio source for 1 second\n",
        "        audio = recognizer.listen(source)\n",
        "\n",
        "    # set up the response object\n",
        "    response = {\n",
        "        \"success\": True,\n",
        "        \"error\": None,\n",
        "        \"transcription\": None\n",
        "    }\n",
        "\n",
        "    # try recognizing the speech in the recording\n",
        "    # if a RequestError or UnknownValueError exception is caught,\n",
        "    #   update the response object accordingly\n",
        "    try:\n",
        "        response[\"transcription\"] = recognizer.recognize_google(audio)\n",
        "    except sr.RequestError:\n",
        "        # API was unreachable or unresponsive\n",
        "        response[\"success\"] = False\n",
        "        response[\"error\"] = \"API unavailable/unresponsive\"\n",
        "    except sr.UnknownValueError:\n",
        "        # speech was unintelligible\n",
        "        response[\"error\"] = \"Unable to recognize speech\"\n",
        "\n",
        "    return response"
      ]
    },
    {
      "cell_type": "code",
      "execution_count": null,
      "metadata": {
        "colab": {
          "base_uri": "https://localhost:8080/",
          "height": 470
        },
        "id": "K4XIIhSmJcgQ",
        "outputId": "c553f685-f5e6-482a-a716-9dbc9e1f4ef4"
      },
      "outputs": [
        {
          "ename": "AssertionError",
          "evalue": "ignored",
          "output_type": "error",
          "traceback": [
            "\u001b[0;31m---------------------------------------------------------------------------\u001b[0m",
            "\u001b[0;31mAssertionError\u001b[0m                            Traceback (most recent call last)",
            "\u001b[0;32m<ipython-input-99-bd6282eb87d4>\u001b[0m in \u001b[0;36m<module>\u001b[0;34m()\u001b[0m\n\u001b[1;32m      1\u001b[0m \u001b[0mrecognizer\u001b[0m \u001b[0;34m=\u001b[0m \u001b[0msr\u001b[0m\u001b[0;34m.\u001b[0m\u001b[0mRecognizer\u001b[0m\u001b[0;34m(\u001b[0m\u001b[0;34m)\u001b[0m\u001b[0;34m\u001b[0m\u001b[0;34m\u001b[0m\u001b[0m\n\u001b[0;32m----> 2\u001b[0;31m \u001b[0mmic\u001b[0m \u001b[0;34m=\u001b[0m \u001b[0msr\u001b[0m\u001b[0;34m.\u001b[0m\u001b[0mMicrophone\u001b[0m\u001b[0;34m(\u001b[0m\u001b[0mdevice_index\u001b[0m\u001b[0;34m=\u001b[0m\u001b[0;36m0\u001b[0m\u001b[0;34m)\u001b[0m\u001b[0;34m\u001b[0m\u001b[0;34m\u001b[0m\u001b[0m\n\u001b[0m\u001b[1;32m      3\u001b[0m \u001b[0mresponse\u001b[0m \u001b[0;34m=\u001b[0m \u001b[0mrecognize_speech_from_mic\u001b[0m\u001b[0;34m(\u001b[0m\u001b[0mrecognizer\u001b[0m\u001b[0;34m,\u001b[0m \u001b[0mmic\u001b[0m\u001b[0;34m)\u001b[0m\u001b[0;34m\u001b[0m\u001b[0;34m\u001b[0m\u001b[0m\n\u001b[1;32m      4\u001b[0m print('\\nSuccess : {}\\nError   : {}\\n\\nText from Speech\\n{}\\n\\n{}'   .format(response['success'],\n\u001b[1;32m      5\u001b[0m     \u001b[0mresponse\u001b[0m\u001b[0;34m[\u001b[0m\u001b[0;34m'error'\u001b[0m\u001b[0;34m]\u001b[0m\u001b[0;34m,\u001b[0m\u001b[0;34m\u001b[0m\u001b[0;34m\u001b[0m\u001b[0m\n",
            "\u001b[0;32m/usr/local/lib/python3.7/dist-packages/speech_recognition/__init__.py\u001b[0m in \u001b[0;36m__init__\u001b[0;34m(self, device_index, sample_rate, chunk_size)\u001b[0m\n\u001b[1;32m     82\u001b[0m             \u001b[0mcount\u001b[0m \u001b[0;34m=\u001b[0m \u001b[0maudio\u001b[0m\u001b[0;34m.\u001b[0m\u001b[0mget_device_count\u001b[0m\u001b[0;34m(\u001b[0m\u001b[0;34m)\u001b[0m  \u001b[0;31m# obtain device count\u001b[0m\u001b[0;34m\u001b[0m\u001b[0;34m\u001b[0m\u001b[0m\n\u001b[1;32m     83\u001b[0m             \u001b[0;32mif\u001b[0m \u001b[0mdevice_index\u001b[0m \u001b[0;32mis\u001b[0m \u001b[0;32mnot\u001b[0m \u001b[0;32mNone\u001b[0m\u001b[0;34m:\u001b[0m  \u001b[0;31m# ensure device index is in range\u001b[0m\u001b[0;34m\u001b[0m\u001b[0;34m\u001b[0m\u001b[0m\n\u001b[0;32m---> 84\u001b[0;31m                 \u001b[0;32massert\u001b[0m \u001b[0;36m0\u001b[0m \u001b[0;34m<=\u001b[0m \u001b[0mdevice_index\u001b[0m \u001b[0;34m<\u001b[0m \u001b[0mcount\u001b[0m\u001b[0;34m,\u001b[0m \u001b[0;34m\"Device index out of range ({} devices available; device index should be between 0 and {} inclusive)\"\u001b[0m\u001b[0;34m.\u001b[0m\u001b[0mformat\u001b[0m\u001b[0;34m(\u001b[0m\u001b[0mcount\u001b[0m\u001b[0;34m,\u001b[0m \u001b[0mcount\u001b[0m \u001b[0;34m-\u001b[0m \u001b[0;36m1\u001b[0m\u001b[0;34m)\u001b[0m\u001b[0;34m\u001b[0m\u001b[0;34m\u001b[0m\u001b[0m\n\u001b[0m\u001b[1;32m     85\u001b[0m             \u001b[0;32mif\u001b[0m \u001b[0msample_rate\u001b[0m \u001b[0;32mis\u001b[0m \u001b[0;32mNone\u001b[0m\u001b[0;34m:\u001b[0m  \u001b[0;31m# automatically set the sample rate to the hardware's default sample rate if not specified\u001b[0m\u001b[0;34m\u001b[0m\u001b[0;34m\u001b[0m\u001b[0m\n\u001b[1;32m     86\u001b[0m                 \u001b[0mdevice_info\u001b[0m \u001b[0;34m=\u001b[0m \u001b[0maudio\u001b[0m\u001b[0;34m.\u001b[0m\u001b[0mget_device_info_by_index\u001b[0m\u001b[0;34m(\u001b[0m\u001b[0mdevice_index\u001b[0m\u001b[0;34m)\u001b[0m \u001b[0;32mif\u001b[0m \u001b[0mdevice_index\u001b[0m \u001b[0;32mis\u001b[0m \u001b[0;32mnot\u001b[0m \u001b[0;32mNone\u001b[0m \u001b[0;32melse\u001b[0m \u001b[0maudio\u001b[0m\u001b[0;34m.\u001b[0m\u001b[0mget_default_input_device_info\u001b[0m\u001b[0;34m(\u001b[0m\u001b[0;34m)\u001b[0m\u001b[0;34m\u001b[0m\u001b[0;34m\u001b[0m\u001b[0m\n",
            "\u001b[0;31mAssertionError\u001b[0m: Device index out of range (0 devices available; device index should be between 0 and -1 inclusive)"
          ]
        }
      ],
      "source": [
        "recognizer = sr.Recognizer()\n",
        "mic = sr.Microphone()\n",
        "response = recognize_speech_from_mic(recognizer, mic)\n",
        "print('\\nSuccess : {}\\nError   : {}\\n\\nText from Speech\\n{}\\n\\n{}' \\\n",
        "  .format(response['success'],\n",
        "    response['error'],\n",
        "    '-'*17,\n",
        "    response['transcription']))"
      ]
    },
    {
      "cell_type": "code",
      "execution_count": null,
      "metadata": {
        "id": "YrDupFeCK1Xp"
      },
      "outputs": [],
      "source": []
    },
    {
      "cell_type": "code",
      "execution_count": null,
      "metadata": {
        "id": "fYZLR_njK1Xp"
      },
      "outputs": [],
      "source": []
    },
    {
      "cell_type": "code",
      "execution_count": null,
      "metadata": {
        "id": "G2yiJ40dK1Xp"
      },
      "outputs": [],
      "source": []
    },
    {
      "cell_type": "code",
      "execution_count": null,
      "metadata": {
        "id": "enMAiI8nKRsc"
      },
      "outputs": [],
      "source": []
    }
  ],
  "metadata": {
    "colab": {
      "collapsed_sections": [
        "YZrEn6A0--wj",
        "50HRh0GkKuM1",
        "_Eu9yGWpHCxT",
        "GB-gk1b5Is5n",
        "Rh_qbWjlK1Xo"
      ],
      "name": "IGDTUW Bot.ipynb",
      "provenance": []
    },
    "interpreter": {
      "hash": "66e1b1079bf3230657dc79817dd1808095653a349bda2b98cc5d248f4f0cac03"
    },
    "kernelspec": {
      "display_name": "Python 3.9.6 ('base')",
      "language": "python",
      "name": "python3"
    },
    "language_info": {
      "codemirror_mode": {
        "name": "ipython",
        "version": 3
      },
      "file_extension": ".py",
      "mimetype": "text/x-python",
      "name": "python",
      "nbconvert_exporter": "python",
      "pygments_lexer": "ipython3",
      "version": "3.9.6"
    }
  },
  "nbformat": 4,
  "nbformat_minor": 2
}
